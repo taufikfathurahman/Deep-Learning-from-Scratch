{
 "cells": [
  {
   "cell_type": "markdown",
   "metadata": {},
   "source": [
    "# **Chapter 1. Foundations**\n",
    "---\n",
    "---\n",
    "\n",
    "The aim of this chapter is to explain some foundational mental models that are essential for understanding how neural networks work. Specifically, we'll cover *nested mathematical functions and their derivatives.* We'll work our way up from the simplest possible building bloks to show that we can bild complicated functions made up of \"chain\" of constituent functions and, even when one of these functions is a matrix multiplication that takes in multiple inputs, compute the derivativeof the functions outputs with respect to their inputs.\n",
    "\n",
    "As we're getting our bearings around these foundational building blocks of neural networks, we'll systematically descrive each concept we introduce from three perspectives:\n",
    "* `Math`, in the form of an equation or equations\n",
    "* `Code`, with as little extra syntax as possible (making Python as ideal choice)\n",
    "* A diagram explaining what is going on, of kind you would draw on a whitebboard during a coding interview.\n",
    "\n",
    "With that out of the way, it’s time to take our first steps. We’re going to start with some extremely simple building blocks to illustrate how we can understand different concepts in terms of these three perspectives. Our first building block will be a simple but critical concept: `the function`."
   ]
  },
  {
   "cell_type": "markdown",
   "metadata": {},
   "source": [
    "## # Functions\n",
    "---\n",
    "\n",
    "What is a function, and how we descrive it? As with neural nets, there are several ways to describe functions, none of which  individually paints complete picture. Rather than trying give a pithy one-sentence description, let's simply walk through three mental models one by one, playing the role of the blind men feeling different parts of the elephant."
   ]
  },
  {
   "cell_type": "markdown",
   "metadata": {},
   "source": [
    "### ## Math\n",
    "\n",
    "Here ara two exammples of functions, describbed in mathematical notation:\n",
    "* $f_1(x) = x^2$\n",
    "* $f_2(x) = max(x, 0)$\n",
    "\n",
    "This notations says that the functions, which we arbbitrarily call $f_1$ and $f_2$, take in a nuber $x$ as input and transform it into $x^2$ (in first case) of $max(x, 0)$ (in the second case)."
   ]
  },
  {
   "cell_type": "markdown",
   "metadata": {},
   "source": [
    "### ## Diagrams\n",
    "\n",
    "One way of depicting functions is to:\n",
    "1. Draw an $x-y$ plane (where $x$ refers to the horizontal axis and $y$ refer to vertical axis).\n",
    "2. Plot a bunch of points, where the x-coordinates of the points are (usually evenly spaced) inputs of the function over some range, and the y-coordinates are the outputs of the function over that range.\n",
    "3. Connect these plotted points.\n",
    "\n",
    "Figure 1-1 shows the plot of these two functions.\n",
    "\n",
    "<div align=\"center\">\n",
    "    <img src=\"https://learning.oreilly.com/library/view/deep-learning-from/9781492041405/assets/dlfs_0101.png\" width=\"600px\"/>\n",
    "    <i>Figure 1-1. Two continuous, mostly differentiable functions</i>\n",
    "</div>\n",
    "\n",
    "However, there is another way to depict functions that isn’t as useful when learning calculus but that will be very useful for us when thinking about deep learning models. We can think of functions as boxes that take in numbers as input and produce numbers as output, like minifactories that have their own internal rules for what happens to the input. Figure 1-2 shows both these functions described as general rules and how they operate on specific inputs.\n",
    "\n",
    "<div align=\"center\">\n",
    "    <img src=\"https://learning.oreilly.com/library/view/deep-learning-from/9781492041405/assets/dlfs_0102.png\" width=\"600px\"/>\n",
    "    <i>Figure 1-2. Another way of looking at these functions</i>\n",
    "</div>"
   ]
  },
  {
   "cell_type": "markdown",
   "metadata": {},
   "source": [
    "### ## Code\n",
    "\n",
    "Finally, we can describe these functions using code. Before we do, we should say a bit about the Python library on top of which we'll writting our functions: NumPy.\n",
    "\n",
    "#### CODE CAVEAT #1: NUMPY\n",
    "\n",
    "NumPy is a widely used Python library for fast numeric computation, the internals of which are mostly written in C. Simply put: the data we deal with in neural networks will always be held in a multidimensional array that is almost always either one-, two-, three-, or four-dimensional, but especially two- or three-dimensional. The ndarray class from the NumPy library allows us to operate on these arrays in ways that are both (a) intuitive and (b) fast. To take the simplest possible example: if we were storing our data in Python lists (or lists of lists), adding or multiplying the lists elementwise using normal syntax wouldn’t work, whereas it does work for ndarrays:\n"
   ]
  },
  {
   "cell_type": "code",
   "execution_count": 1,
   "metadata": {},
   "outputs": [],
   "source": [
    "import os\n",
    "import matplotlib.pyplot as plt\n",
    "import matplotlib \n",
    "import numpy as np\n",
    "from numpy import ndarray\n",
    "%matplotlib inline\n",
    "\n",
    "from typing import Callable, Dict, List"
   ]
  },
  {
   "cell_type": "code",
   "execution_count": 2,
   "metadata": {},
   "outputs": [],
   "source": [
    "np.set_printoptions(precision=4)"
   ]
  },
  {
   "cell_type": "code",
   "execution_count": 3,
   "metadata": {},
   "outputs": [
    {
     "name": "stdout",
     "output_type": "stream",
     "text": [
      "Python list operations:\n",
      "a + b :  [1, 2, 3, 4, 5, 6]\n",
      "a * b has no meaning for Python lists\n",
      "\n",
      "Numpy array operation:\n",
      "a + b :  [5 7 9]\n",
      "a * b :  [ 4 10 18]\n"
     ]
    }
   ],
   "source": [
    "print(\"Python list operations:\")\n",
    "\n",
    "a = [1, 2, 3]\n",
    "b = [4, 5, 6]\n",
    "\n",
    "print(\"a + b : \", a + b)\n",
    "\n",
    "try:\n",
    "    print(a * b)\n",
    "except TypeError:\n",
    "    print(\"a * b has no meaning for Python lists\")\n",
    "    \n",
    "print()\n",
    "print(\"Numpy array operation:\")\n",
    "\n",
    "a = np.array([1, 2, 3])\n",
    "b = np.array([4, 5, 6])\n",
    "\n",
    "print(\"a + b : \", a + b)\n",
    "print(\"a * b : \", a * b)"
   ]
  },
  {
   "cell_type": "markdown",
   "metadata": {},
   "source": [
    "ndarrays also have several features you'd expect from an n-dimensional array; each ndarray has n axis, indexed from 0, so that the first axis is 0, the second is 1, and so on. In particular, since we deal with 2D ndarrays often, we can think od axis = 0 as the rows and axis = 1 as the columns--see Figure 1-3.\n",
    "\n",
    "<div align=\"center\">\n",
    "    <img src=\"https://learning.oreilly.com/library/view/deep-learning-from/9781492041405/assets/dlfs_0103.png\" width=\"300px\"/>\n",
    "    <i>Figure 1-3. A 2D NumPy array, with axis = 0 as the rows and axis = 1 as the columns</i>\n",
    "</div>\n",
    "\n",
    "NumPy's ndarrays also support applying functions along these axes in intuitive ways. For example, summing along axis 0 (the *rows* for a 2D array) essentially \"collapses the array\" along that axis returning an array with one less dimension the the original array; for a 2D array, this is equivalent to summing each column:"
   ]
  },
  {
   "cell_type": "code",
   "execution_count": 4,
   "metadata": {},
   "outputs": [],
   "source": [
    "a = np.array([[1, 2, 3],\n",
    "             [4, 5, 6]])"
   ]
  },
  {
   "cell_type": "code",
   "execution_count": 5,
   "metadata": {},
   "outputs": [
    {
     "name": "stdout",
     "output_type": "stream",
     "text": [
      "a:\n",
      "[[1 2 3]\n",
      " [4 5 6]]\n",
      "a.sum(axis=0) :  [5 7 9]\n",
      "a.sum(axis=1) :  [ 6 15]\n"
     ]
    }
   ],
   "source": [
    "print(\"a:\")\n",
    "print(a)\n",
    "print(\"a.sum(axis=0) : \", a.sum(axis=0))\n",
    "print(\"a.sum(axis=1) : \", a.sum(axis=1))"
   ]
  },
  {
   "cell_type": "markdown",
   "metadata": {},
   "source": [
    "Finnaly, NumPy ndarrays support adding a 1D array to the last axis; for a 2D aray a with R rows and C columns, this means we can add a 1D array b of length C and NumPy will do the additional in the intuitive way, adding the elements to each row of a:"
   ]
  },
  {
   "cell_type": "code",
   "execution_count": 6,
   "metadata": {},
   "outputs": [
    {
     "name": "stdout",
     "output_type": "stream",
     "text": [
      "a + b : \n",
      " [[11 22 33]\n",
      " [14 25 36]]\n"
     ]
    }
   ],
   "source": [
    "b = np.array([10, 20, 30])\n",
    "\n",
    "print(\"a + b : \\n\", a + b)"
   ]
  },
  {
   "cell_type": "markdown",
   "metadata": {},
   "source": [
    "#### CODE CAVEAT #2: TYPE - CHECKED FUNCTIONS\n",
    "\n",
    "As I've mentioned, the primary goal of the code we write in this book is to make the concepts I'm explaining precise and clear. This will get more challenging as the book goes on, as we'll be writing functions with many arguments as part of complicated class. To combat this, we'll use functions with type signatures throughtout as follows:\n",
    "\n",
    "```python\n",
    "def __init__(self,\n",
    "             layers: List[Layer],\n",
    "             loss: Loss,\n",
    "             learning_rate: Float = 0.01) -> None:\n",
    "```\n",
    "\n",
    "This type signature alone give you some idea of what the class is used for. By contrast, consider the following type signature that we could use the define an operation:\n",
    "\n",
    "```python\n",
    "def operation(x1, x2):\n",
    "```\n",
    "\n",
    "This type signature by itself gives you no hint as to what is going on; only by printing out each object’s type, seeing what operations get performed on each object, or guessing based on the names x1 and x2 could we understand what is going on in this function. I can instead define a function with a type signature as follows:\n",
    "\n",
    "```python\n",
    "def operation(x1: ndarray, x2: ndarray) -> ndarray:\n",
    "```\n",
    "\n",
    "You know right away that this is a function that takes in two ndarrays, probably combines them in some way, and outputs the result of that combination. Because of the increased clarity they provide, we’ll use type-checked functions throughout this book."
   ]
  },
  {
   "cell_type": "markdown",
   "metadata": {},
   "source": [
    "#### BASIC FUNCTIONS IN NUMPY\n",
    "\n",
    "With these preliminaries in mind, let's write up the functions we defined earlier in NumPy:"
   ]
  },
  {
   "cell_type": "code",
   "execution_count": 7,
   "metadata": {},
   "outputs": [],
   "source": [
    "def square(x: ndarray) -> ndarray:\n",
    "    '''\n",
    "    Square each element in the input ndarray.\n",
    "    '''\n",
    "    return np.power(x, 2)\n",
    "\n",
    "def leaky_relu(x: ndarray) -> ndarray:\n",
    "    '''\n",
    "    Apply \"Leaky ReLU\" function to each element in ndarray.\n",
    "    '''\n",
    "    return np.maximum(0.2 * x, x)"
   ]
  },
  {
   "cell_type": "code",
   "execution_count": 8,
   "metadata": {},
   "outputs": [],
   "source": [
    "IMG_FOLDER_PATH = os.path.join(\"asset\", \"chapter_1\", \"images\")\n",
    "PDF_FOLDER_PATH = os.path.join(\"asset\", \"chapter_1\", \"pdf_images\")"
   ]
  },
  {
   "cell_type": "code",
   "execution_count": 9,
   "metadata": {},
   "outputs": [
    {
     "data": {
      "image/png": "[encoded data removed]",
      "text/plain": [
       "<Figure size 864x432 with 2 Axes>"
      ]
     },
     "metadata": {
      "needs_background": "light"
     },
     "output_type": "display_data"
    }
   ],
   "source": [
    "fig, ax = plt.subplots(1, 2, sharey=True, figsize=(12, 6))\n",
    "\n",
    "input_range = np.arange(-2, 2, 0.01)\n",
    "ax[0].plot(input_range, square(input_range))\n",
    "ax[0].set_title('Square function')\n",
    "ax[0].set_xlabel('input')\n",
    "ax[0].set_ylabel('input')\n",
    "\n",
    "ax[1].plot(input_range, leaky_relu(input_range))\n",
    "ax[1].set_title('\"Leaky ReLU\" function')\n",
    "ax[1].set_xlabel('input')\n",
    "ax[1].set_ylabel('output')\n",
    "\n",
    "plt.savefig(os.path.join(IMG_FOLDER_PATH, \"01_two_functions.png\"))\n",
    "plt.savefig(os.path.join(PDF_FOLDER_PATH, \"01_two_functions.pdf\"))"
   ]
  },
  {
   "cell_type": "markdown",
   "metadata": {},
   "source": [
    "---\n",
    "<h3 align=\"center\"><strong>NOTE</strong></h3>\n",
    "\n",
    "One of NumPy’s quirks is that many functions can be applied to ndarrays either by writing np.function_name(ndarray) or by writing ndarray.function_name. For example, the preceding relu function could be written as: x.clip(min=0). We’ll try to be consistent and use the np.function_name(ndarray) convention throughout—in particular, we’ll avoid tricks such as ndarray.T for transposing a two-dimensional ndarray, instead writing np.transpose(ndarray, (1, 0)).\n",
    "\n",
    "---"
   ]
  },
  {
   "cell_type": "markdown",
   "metadata": {},
   "source": [
    "## # Derivatives\n",
    "---\n",
    "\n",
    "Derivatives, like functions, are an extremely important concept for understanding deep learning that many of you are probably familiar with. Also like functions, they can be depicted in multiple ways. We’ll start by simply saying at a high level that the derivative of a function at a point is the “rate of change” of the output of the function with respect to its input at that point. Let’s now walk through the same three perspectives on derivatives that we covered for functions to gain a better mental model for how derivatives work."
   ]
  },
  {
   "cell_type": "markdown",
   "metadata": {},
   "source": [
    "### ## Math\n",
    "\n",
    "First, we'll get mathematically precise: we can describe this numer--how much the output of $f$ changes as we change its input at a particualar value $a$ of the input--as a limit:\n",
    "\n",
    "$$ \\frac{df}{du}(a)=\\lim_{\\Delta \\rightarrow 0}\\frac{f(a + \\Delta) - f(a - \\Delta)}{2 \\times \\Delta} $$\n",
    "\n",
    "This limit can bbe approximated numerically by setting a very small value for $\\delta$, such as 0.0001, so we can compute the derivatice as:\n",
    "\n",
    "$$ \\frac{df}{du}(a)=\\lim_{\\Delta \\rightarrow 0}\\frac{f(a + 0.0001) - f(a - 0.0001)}{0.002} $$\n",
    "\n",
    "While accurate, this is onle one part of a full mental model of derivatives. Let's look at them from another perspective: a diagram."
   ]
  },
  {
   "cell_type": "markdown",
   "metadata": {},
   "source": [
    "### ## Diagram\n",
    "\n",
    "First, the familiar way: if we simply draw a tangent line to the Cartesian representation of the function $f$, the derivative of $f$ at point $a$ is just the slope of this line at $a$. As with the mathematical descriptions in the prior subsecsion, there are two ways we can actually calculate the slope of this line. The first would be to use calculus to actually calcualte the limit. The second would be to just take the slope of the line connecting $f$ at $a - 0.001$ and $a+0.001$. The latter method is depicted in Figure 1-4 and should e familiar to anyone who has taken calculus.\n",
    "\n",
    "<div align=\"center\">\n",
    "    <img src=\"https://learning.oreilly.com/library/view/deep-learning-from/9781492041405/assets/dlfs_0104.png\" width=\"600px\"/>\n",
    "    <i>Figure 1-4. Derivatives as slopes</i>\n",
    "</div>\n",
    "\n",
    "As we saw in the prior section, another way of thisnking of functions is as mini-factories. Now think of the inputs to those factories being connected to the outputs by a string. The derivative is equal to the answer to the fact that the function may be asymmetric at $a$, pull down on $a$ by some small amount--by what multiple of this small amount will the output change, given the inner workings of the factory? This is depicted in Figure 1-5.\n",
    "\n",
    "<div align=\"center\">\n",
    "    <img src=\"https://learning.oreilly.com/library/view/deep-learning-from/9781492041405/assets/dlfs_0105.png\" width=\"400px\"/>\n",
    "    <i>Figure 1-5. Another way of visualizing derivatives</i>\n",
    "</div>\n",
    "\n",
    "This second representation will turn out to be more important the the dirst one for understanding deep learning."
   ]
  },
  {
   "cell_type": "markdown",
   "metadata": {},
   "source": [
    "### ## Code\n",
    "\n",
    "Finally, we can code up the apprixamtion to the derivative that we saw previously:"
   ]
  },
  {
   "cell_type": "code",
   "execution_count": 10,
   "metadata": {},
   "outputs": [],
   "source": [
    "def deriv(func: Callable[[ndarray], ndarray], \n",
    "          input_: ndarray, \n",
    "          diff: float = 0.001) -> ndarray:\n",
    "    '''\n",
    "    Evaluates the derivatives of a fucntuion \"func\" at every element in the \"input_\" array.\n",
    "    '''\n",
    "    return (func(input_ + diff) - func(input_ - diff)) / (2 * diff)"
   ]
  },
  {
   "cell_type": "markdown",
   "metadata": {},
   "source": [
    "---\n",
    "<h3 align=\"center\"><strong>NOTE</strong></h3>\n",
    "\n",
    "When we say that “something is a function of something else”—for example, that $P$ is a function of $E$ (letters chosen randomly on purpose), what we mean is that there is some function $f$ such that $f(E) = P$—or equivalently, there is a function $f$ that takes in $E$ objects and produces $P$ objects. We might also think of this as meaning that $P$ is defined as whatever results when we apply the function $f$ to $E$:\n",
    "<img src=\"https://learning.oreilly.com/library/view/deep-learning-from/9781492041405/assets/dlfs_01in01.png\" width=\"400px\"/>\n",
    "And we would code this up as:\n",
    "\n",
    "```python\n",
    "def f(input_: ndarray) -> ndarray:\n",
    "    #some transformation(s)\n",
    "    return output\n",
    "\n",
    "P = f(E)\n",
    "```\n",
    "\n",
    "---"
   ]
  },
  {
   "cell_type": "markdown",
   "metadata": {},
   "source": [
    "## # Nested Functions\n",
    "---\n",
    "\n",
    "Now we’ll cover a concept that will turn out to be fundamental to understanding neural networks: functions can be “nested” to form “composite” functions. What exactly do I mean by “nested”? I mean that if we have two functions that by mathematical convention we call f1 and f2, the output of one of the functions becomes the input to the next one, so that we can “string them together.”"
   ]
  },
  {
   "cell_type": "markdown",
   "metadata": {},
   "source": [
    "### ## Diagram\n",
    "\n",
    "The most natural way to represent a nested function is with the “minifactory” or “box” representation. As Figure 1-6 shows, an input goes into the first function, gets transformed, and comes out; then it goes into the second function and gets transformed again, and we get our final output.\n",
    "\n",
    "<div align=\"center\">\n",
    "    <img src=\"https://learning.oreilly.com/library/view/deep-learning-from/9781492041405/assets/dlfs_0106.png\" width=\"600px\"/>\n",
    "    <i>Figure 1-6. Nested functions, naturally</i>\n",
    "</div>"
   ]
  },
  {
   "cell_type": "markdown",
   "metadata": {},
   "source": [
    "### ## Math\n",
    "\n",
    "We should also include the less intuitive mathematical representation:\n",
    "\n",
    "$$f_2(f_1(x)) = y$$\n",
    "\n",
    "This is less intutive beacause of the quirk that nasted functions are read \"from the outside in\" but in operations are in fact performed \"from the inside out\". For example, through $f2(f1(x)) = y$ is read \"$f_2$ of $f_1$ of $x$\" what it really means is to \"first apply $f_1$ to $x$m and then apply $f_2$ to the result of applying $f_1$ to $x$\"."
   ]
  },
  {
   "cell_type": "markdown",
   "metadata": {},
   "source": [
    "### ## Code\n",
    "\n",
    "First, we'll define a data type for nasted functions:"
   ]
  },
  {
   "cell_type": "code",
   "execution_count": 11,
   "metadata": {},
   "outputs": [],
   "source": [
    "# A Function take in an ndarray as an argument and produces an ndarray\n",
    "Array_Function = Callable[[ndarray], ndarray]\n",
    "\n",
    "# A Chain is a list of functions\n",
    "Chain = List[Array_Function]"
   ]
  },
  {
   "cell_type": "markdown",
   "metadata": {},
   "source": [
    "Then we'll define how data goes through chain, first of length 2:"
   ]
  },
  {
   "cell_type": "code",
   "execution_count": 12,
   "metadata": {},
   "outputs": [],
   "source": [
    "def chain_length_2(chain: Chain, \n",
    "                   x: ndarray) -> ndarray:\n",
    "    '''\n",
    "    Evaluates two functions in a row, in a \"Chain\".\n",
    "    '''\n",
    "    assert len(chain) == 2, \\\n",
    "    \"Length of input 'chain' should be 2\"\n",
    "    \n",
    "    f1 = chain[0]\n",
    "    f2 = chain[1]\n",
    "    \n",
    "    return f2(f1(x))"
   ]
  },
  {
   "cell_type": "markdown",
   "metadata": {},
   "source": [
    "### ## Another Diagram\n",
    "\n",
    "Depicting the nested function using the box representation shows us that this composite function is really just a single function. Thus, we can represent this function as simply $f1 f2$, as shown in Figure 1-7.\n",
    "\n",
    "<div align=\"center\">\n",
    "    <img src=\"https://learning.oreilly.com/library/view/deep-learning-from/9781492041405/assets/dlfs_0107.png\" width=\"400px\"/>\n",
    "    <i>Figure 1-7. Another way to think of nested functions</i>\n",
    "</div>\n",
    "\n",
    "Moreover, a theorem from calculus tells us that a composite function made up of “mostly differentiable” functions is itself mostly differentiable! Thus, we can think of $f1f2$ as just another function that we can compute derivatives of—and computing derivatives of composite functions will turn out to be essential for training deep learning models.\n",
    "\n",
    "However, we need a formula to be able to compute this composite function’s derivative in terms of the derivatives of its constituent functions. That’s what we’ll cover next."
   ]
  },
  {
   "cell_type": "markdown",
   "metadata": {},
   "source": [
    "## # The Chain Rule\n",
    "---\n",
    "\n",
    "The chain rule is a mathematical theorem that lets us compute derivatives of composite functions. Deep learning models are, mathematically, composite functions, and reasoning about their derivatives is essential to training them, as we'll see in  the next couple of chapters."
   ]
  },
  {
   "cell_type": "markdown",
   "metadata": {},
   "source": [
    "### ## Math\n",
    "\n",
    "Mathematically, the theorem states--in a rather nonintuitive form-- that, for a given values x,\n",
    "\n",
    "$$ \\frac{df_2}{dx}(x) = \\frac{df_2}{du}(f_1(x)) \\times \\frac{df_1}{dx}(x) $$\n",
    "\n",
    "where $u$ is simply a dummy valriable representing the input to a function."
   ]
  },
  {
   "cell_type": "markdown",
   "metadata": {},
   "source": [
    "---\n",
    "<h3 align=\"center\"><strong>NOTE</strong></h3>\n",
    "\n",
    "When describing the derivative of a function $f$ with one input and output, we can denote the function that represents the derivative of this function as $\\frac{df}{du}$. We could use a different dummy variable in place of $u$—it doesn’t matter, just as $f(x) = x^2$ and $f(y) = y^2$ mean the same thing. <br><br>\n",
    "On the other hand, later on we’ll deal with functions that take in multiple inputs, say, both $x$ and $y$. Once we get there, it will make sense to write $\\frac{df}{dx}$ and have it mean something different than $\\frac{df}{dy}$. <br><br>\n",
    "This is why in the preceding formula we denote all the derivatives with a $u$ on the bottom: both $f_1$ and $f_2$ are functions that take in one input and produce one output, and in such cases (of functions with one input and one output) we’ll use u in the derivative notation.\n",
    "\n",
    "---"
   ]
  },
  {
   "cell_type": "markdown",
   "metadata": {},
   "source": [
    "### ## Diagram\n",
    "\n",
    "The preceding formula does not give much intuition into the chain rule. For that, the box representation is much more helpful. Let’s reason through what the derivative “should” be in the simple case of $f_1 f_2$.\n",
    "\n",
    "<div align=\"center\">\n",
    "    <img src=\"https://learning.oreilly.com/library/view/deep-learning-from/9781492041405/assets/dlfs_0108.png\" width=\"600px\"/>\n",
    "    <i>Figure 1-8. An illustration of the chain rule</i>\n",
    "</div>\n",
    "\n",
    "Intutitively, using the diagram in Figure 1-8, the derivative of the composite function *should* be a sort of product of the derivatives of its constituent functions. Let's say we feed the value $5$ into the first function, and let's say futher that computing the * derivative* of the first functions at $u = 5$ gives us a value of $3$--that is, $\\frac{df_1}{du}(5) = 3$.\n",
    "\n",
    "Let’s say that we then take the value of the function that comes out of the first box--let’s suppose it is $1$, so that $f_1(5) = 1$--and compute the derivative of the second function $f_2$ at this value: that is, $\\frac{df_2}{du}(1)$. We find that this value is $-2$.\n",
    "\n",
    "If we think about these functions as being literally strung together, then if changing the input to box two by $1$ unit yields a change of $-2$ units in the output of box two, changing the input to box two by $3$ units should change the output to box two by $-2 \\times 3 = -6$ units. This is why in the formula for the chain rule, the final result is ultimately a product: $\\frac{df_2}{du}(f1(x)) times \\frac{df_1}{du}(x)$.\n",
    "\n",
    "So by considering the diagram and the math, we can reason through what the derivative output of a nesdted function with respect to its input ough to be, using the chain rule, What might the code instructions for the computation of this derivative look like?"
   ]
  },
  {
   "cell_type": "markdown",
   "metadata": {},
   "source": [
    "### ## Code\n",
    "\n",
    "Let's code this up and show that computation derivatives in this way goes in fact yield results that \"look correct.\" We'll use the `sequare` function from \"Basic functions in NumPy\" along with `sigmoid`, another functions that ends up being important in deep learning:"
   ]
  },
  {
   "cell_type": "code",
   "execution_count": 13,
   "metadata": {},
   "outputs": [],
   "source": [
    "def sigmoid(x: ndarray) -> ndarray:\n",
    "    '''\n",
    "    Apply the sigmoid function to each element in the input array.\n",
    "    '''\n",
    "    return 1 / (1 + np.exp(-x))"
   ]
  },
  {
   "cell_type": "markdown",
   "metadata": {},
   "source": [
    "And now we code up the chain rule:"
   ]
  },
  {
   "cell_type": "code",
   "execution_count": 14,
   "metadata": {},
   "outputs": [],
   "source": [
    "def chain_deriv_2(chain: Chain,\n",
    "                  input_range: ndarray) -> ndarray:\n",
    "    '''\n",
    "    Uses the chain rule to compute the derivative of two nasted functions:\n",
    "    (f2(f1(x))' = f2'(f1(x)) * f1'(x)\n",
    "    '''\n",
    "    assert len(chain) == 2, \\\n",
    "    \"This function requires 'chain' objects of length 2\"\n",
    "    \n",
    "    assert input_range.ndim == 1, \\\n",
    "    \"Function rquires a 1 demensional ndarray as input_range\"\n",
    "    \n",
    "    f1 = chain[0]\n",
    "    f2 = chain[1]\n",
    "    \n",
    "    # df1/dx\n",
    "    f1_of_x = f1(input_range)\n",
    "    \n",
    "    # df1/du\n",
    "    df1dx = deriv(f1, input_range)\n",
    "    \n",
    "    # df2/du(f1(x))\n",
    "    df2du = deriv(f2, f1(input_range))\n",
    "    \n",
    "    return df1dx * df2du"
   ]
  },
  {
   "cell_type": "markdown",
   "metadata": {},
   "source": [
    "Figure 1-9 plots the results and shows that the chain rule works:"
   ]
  },
  {
   "cell_type": "code",
   "execution_count": 15,
   "metadata": {},
   "outputs": [],
   "source": [
    "def plot_chain(ax,\n",
    "               chain: Chain, \n",
    "               input_range: ndarray) -> None:\n",
    "    '''\n",
    "    Plots a chain function - a function made up of \n",
    "    multiple consecutive ndarray -> ndarray mappings -\n",
    "    across the input_range\n",
    "    \n",
    "    ax: matplotlib Subplot for plotting\n",
    "    '''\n",
    "    \n",
    "    assert input_range.ndim == 1, \\\n",
    "    \"Function requires a 1 dimensional ndarray as input_range\"\n",
    "    \n",
    "    output_range = chain_length_2(chain, input_range)\n",
    "    ax.plot(input_range, output_range)"
   ]
  },
  {
   "cell_type": "code",
   "execution_count": 16,
   "metadata": {},
   "outputs": [],
   "source": [
    "def plot_chain_deriv(ax,\n",
    "                     chain: Chain,\n",
    "                     input_range: ndarray) -> ndarray:\n",
    "    '''\n",
    "    Uses the chain rule to plot the derivative of a \n",
    "    function consisting of two nasted functions.\n",
    "    \n",
    "    ax: matplotlib Subplot for plotting\n",
    "    '''\n",
    "    output_range = chain_deriv_2(chain, input_range)\n",
    "    ax.plot(input_range, output_range)"
   ]
  },
  {
   "cell_type": "code",
   "execution_count": 17,
   "metadata": {},
   "outputs": [
    {
     "data": {
      "image/png": "[encoded data removed]",
      "text/plain": [
       "<Figure size 1152x576 with 2 Axes>"
      ]
     },
     "metadata": {
      "needs_background": "light"
     },
     "output_type": "display_data"
    }
   ],
   "source": [
    "fig, ax = plt.subplots(1, 2, sharey=True, figsize=(16, 8))\n",
    "\n",
    "chain_1 = [square, sigmoid]\n",
    "chain_2 = [sigmoid, square]\n",
    "\n",
    "PLOT_RANGE = np.arange(-3, 3, 0.01)\n",
    "\n",
    "plot_chain(ax[0], chain_1, PLOT_RANGE)\n",
    "plot_chain_deriv(ax[0], chain_1, PLOT_RANGE)\n",
    "\n",
    "ax[0].legend([\"$f(x)$\", \"$\\\\frac{df}{dx}$\"])\n",
    "ax[0].set_title(\"Function and derivative for\\n$f(x) = sigmoid(square(x))$\")\n",
    "\n",
    "plot_chain(ax[1], chain_2, PLOT_RANGE)\n",
    "plot_chain_deriv(ax[1], chain_2, PLOT_RANGE)\n",
    "\n",
    "ax[1].legend([\"$f(x)$\", \"$\\\\frac{df}{dx}$\"])\n",
    "ax[1].set_title(\"Function and derivative for\\n$f(x) = square(sigmoid(x))$\")\n",
    "\n",
    "plt.savefig(os.path.join(IMG_FOLDER_PATH, \"02_plot_chain_rule_1.png\"))\n",
    "plt.savefig(os.path.join(PDF_FOLDER_PATH, \"02_plot_chain_rule_1.pdf\"))"
   ]
  },
  {
   "cell_type": "markdown",
   "metadata": {},
   "source": [
    "<div align=\"center\"><i>Figure 1-9. The chain rule works, part 1</i></div>"
   ]
  },
  {
   "cell_type": "markdown",
   "metadata": {},
   "source": [
    "The chain rule seems to be working. When the functions are upward-sloping, the derivative is positive; when they are flat, the derivative is zero; and when they are downward-sloping, the derivative is negative.\n",
    "\n",
    "So we can in fact compute, both mathematically and via code, the derivatives of nested or “composite” functions such as $f_1 f_2$, as long as the individual functions are themselves mostly differentiable.\n",
    "\n",
    "It will turn out that deep learning models are, mathematically, long chains of these mostly differentiable functions; spending time going manually through a slightly longer example in detail will help build your intuition about what is going on and how it can generalize to more complex models."
   ]
  },
  {
   "cell_type": "markdown",
   "metadata": {},
   "source": [
    "## # A lightly Longer Example\n",
    "---\n",
    "\n",
    "Let's closely examine a slighlty longer chain: if we have three mostly differentiable functions--$f_1, f_2,$ and $f_3$--how would we go about computing the derivative of $f_1, f_2, f_3$? We \"should\" be able to do it, sice form the calculus theorem mentioned previusly, we know that he composite of any finite number of \"mostly differentiable\" functions is differentiable."
   ]
  },
  {
   "cell_type": "markdown",
   "metadata": {},
   "source": [
    "### ## Math\n",
    "\n",
    "Mathematically, the result turns out to be the following expression:\n",
    "\n",
    "$$ \\frac{df_3}{dx}(x) = \\frac{df_3}{dv}(f_2(f_1(x))) \\times \\frac{df_2}{du}(f_1(x)) \\times \\frac{df_1}{dx}(x) $$\n",
    "\n",
    "The underlying logic as to why the formula works for chains of length 2, $ \\frac{df_2}{dx}(x) = \\frac{df_2}{du}(f_1(x)) \\times \\frac{df_1}{dx}(x) $, also applies here--as does the lack of intuition from looking at the formula alone!"
   ]
  },
  {
   "cell_type": "markdown",
   "metadata": {},
   "source": [
    "### ## Digram\n",
    "\n",
    "The best way to (litarallly) see why this formula make sense is via anothe box diagram, as show in Figure 1-10.\n",
    "\n",
    "<div align=\"center\">\n",
    "    <img src=\"https://learning.oreilly.com/library/view/deep-learning-from/9781492041405/assets/dlfs_0110.png\" width=\"600px\"/>\n",
    "    <i>Figure 1-10. The “box model” for computing the derivative of three nested functions</i>\n",
    "</div>\n",
    "\n",
    "Using similar reasoning to the prior section: Using similar reasoning to the prior section: if we imagine the input to $f_1 f_2 f_3$ (call it $a$) being connected to the output (call it $b$) by a string, then changing a by a small amount $\\Delta$ will result in a change in $f_1(a)$ of $\\frac{df_1}{du}(x))$ times $\\Delta$, which will result in a change to $f_2(f_1(x))$ (the next step along in the chain) of $\\frac{df_2}{du}(f1(x))\\times\\frac{df_1}{du}(x))$ times $\\Delta$, and so on for the third step, when we get to the final change equal to the full formula for the preceding chain rule times $\\Delta$. Spend a bit of time going through this explanation and the earlier diagram--but not too much time, since we’ll develop even more intuition for this when we code it up."
   ]
  },
  {
   "cell_type": "markdown",
   "metadata": {},
   "source": [
    "### ## Code\n",
    "\n",
    "How might we translte such a formula into code instructions for computing the derivative, given the constituent funtions? Interestingly, already in this simple example we see the beginnings of what will become the forward and backward passes of neural network:"
   ]
  },
  {
   "cell_type": "code",
   "execution_count": 18,
   "metadata": {},
   "outputs": [],
   "source": [
    "def chain_length_3(chain: Chain,\n",
    "                   x: ndarray) -> ndarray:\n",
    "    '''\n",
    "    Evaluates three functions in a row, in a \"Chain\".\n",
    "    '''\n",
    "    assert len(chain) == 3, \\\n",
    "    \"Length of input 'chain' should be 3\"\n",
    "\n",
    "    f1 = chain[0]\n",
    "    f2 = chain[1]\n",
    "    f3 = chain[2]\n",
    "\n",
    "    return f3(f2(f1(x)))"
   ]
  },
  {
   "cell_type": "code",
   "execution_count": 19,
   "metadata": {},
   "outputs": [],
   "source": [
    "def chain_deriv_3(chain: Chain, \n",
    "                  input_range: ndarray) -> ndarray:\n",
    "    '''\n",
    "    Uses the chain rule to compute the derivative of three\n",
    "    nasted function:\n",
    "    (f3(f2(f1)))' = f3'(f2(f1(x))) * f2'(f1(x)) * f1'(x)\n",
    "    '''\n",
    "    \n",
    "    assert len(chain) == 3, \\\n",
    "    \"This functions requires 'chain' objects to have length 3\"\n",
    "    \n",
    "    f1 = chain[0]\n",
    "    f2 = chain[1]\n",
    "    f3 = chain[2]\n",
    "    \n",
    "    # f1(x)\n",
    "    f1_of_x = f1(input_range)\n",
    "    \n",
    "    # f2(f1(x))\n",
    "    f2_of_x = f2(f1_of_x)\n",
    "    \n",
    "    # df3du\n",
    "    df3du = deriv(f3, f2_of_x)\n",
    "    \n",
    "    # df2du\n",
    "    df2du = deriv(f2, f1_of_x)\n",
    "    \n",
    "    \n",
    "    # df1du\n",
    "    df1du = deriv(f1, input_range)\n",
    "    \n",
    "    # Multiplying these quantities together at each point\n",
    "    return df1du *  df2du * df3du"
   ]
  },
  {
   "cell_type": "markdown",
   "metadata": {},
   "source": [
    "Something interesting took place here--to compute the chain rule for this nested function, we made two “passes” over it:\n",
    "\n",
    "1. First, we went \"forward\" through it, compute the quantities of `f1_of_x` and `f2_of_x` along the way. We call this (and think of it as) \"the forward pass\".\n",
    "\n",
    "2. Then, we \"went backward\" through th function, using the quantities tha we computed on the forward pass to compute the quantitites hat make up the derivative.\n",
    "\n",
    "Finally, we multiplied theree of these quantities together to get out derivative.\n",
    "\n",
    "Now, let's show that this worksm using the three simple functions we've defined so far: `sigmoid, square, leaky_relu`."
   ]
  },
  {
   "cell_type": "code",
   "execution_count": 20,
   "metadata": {},
   "outputs": [],
   "source": [
    "def plot_chain(ax, \n",
    "               chain: Chain,\n",
    "               input_range: ndarray, \n",
    "               length: int=2) -> None:\n",
    "    '''\n",
    "    Plots a chain function - a function made up of \n",
    "    multiple consecutive ndarray -> ndarray mappings - \n",
    "    accross one range\n",
    "    \n",
    "    ax: matplotlib Subplot for plotting\n",
    "    '''\n",
    "    \n",
    "    assert input_range.ndim == 1, \\\n",
    "    \"Function requires a 1 dimensional ndarray as input_range\"\n",
    "    \n",
    "    if length == 2:\n",
    "        output_range = chain_length_2(chain, input_range)\n",
    "    elif length == 3:\n",
    "        output_range = chain_length_3(chain, input_range)\n",
    "        \n",
    "    ax.plot(input_range, output_range)"
   ]
  },
  {
   "cell_type": "code",
   "execution_count": 21,
   "metadata": {},
   "outputs": [],
   "source": [
    "def plot_chain_deriv(ax,\n",
    "                     chain: Chain,\n",
    "                     input_range: ndarray,\n",
    "                     length: int=2) -> ndarray:\n",
    "    '''\n",
    "    Uses the chain rule to plot the derivative of two nasted functions.\n",
    "    \n",
    "    ax: matplotlib Subplot for plotting\n",
    "    '''\n",
    "    \n",
    "    if length == 2:\n",
    "        output_range = chain_deriv_2(chain, input_range)\n",
    "    elif length == 3:\n",
    "        output_range = chain_deriv_3(chain, input_range)\n",
    "        \n",
    "    ax.plot(input_range, output_range)"
   ]
  },
  {
   "cell_type": "markdown",
   "metadata": {},
   "source": [
    "Figure 1-11 shows the result."
   ]
  },
  {
   "cell_type": "code",
   "execution_count": 22,
   "metadata": {},
   "outputs": [
    {
     "data": {
      "image/png": "[encoded data removed]",
      "text/plain": [
       "<Figure size 1152x576 with 2 Axes>"
      ]
     },
     "metadata": {
      "needs_background": "light"
     },
     "output_type": "display_data"
    }
   ],
   "source": [
    "fig, ax = plt.subplots(1, 2, sharey=True, figsize=(16, 8))\n",
    "\n",
    "chain_1 = [leaky_relu, square, sigmoid]\n",
    "chain_2 = [leaky_relu, sigmoid, square]\n",
    "\n",
    "PLOT_RANGE = np.arange(-3, 3, 0.01)\n",
    "plot_chain(ax[0], chain_1, PLOT_RANGE, length=3)\n",
    "plot_chain_deriv(ax[0], chain_1, PLOT_RANGE, length=3)\n",
    "\n",
    "ax[0].legend([\"$f(x)$\", \"$\\\\frac{df}{dx}$\"])\n",
    "ax[0].set_title(\"Function and derivative for\\n$f(x) = sigmoid(square(leakyRrelu(x)))$\")\n",
    "\n",
    "plot_chain(ax[1], chain_2, PLOT_RANGE, length=3)\n",
    "plot_chain_deriv(ax[1], chain_2, PLOT_RANGE, length=3)\n",
    "ax[1].legend([\"$f(x)$\", \"$\\\\frac{df}{dx}$\"])\n",
    "ax[1].set_title(\"Function and derivative for\\n$f(x) = square(sigmoid(leakyRelu(x)))$\")\n",
    "\n",
    "plt.savefig(os.path.join(IMG_FOLDER_PATH, \"03_plot_chain_rule_2.png\"))\n",
    "plt.savefig(os.path.join(PDF_FOLDER_PATH, \"03_plot_chain_rule_2.pdf\"))"
   ]
  },
  {
   "cell_type": "markdown",
   "metadata": {},
   "source": [
    "<div align=\"center\"><i>1-11. The chain rule works, even with triply nested functions</i></div>"
   ]
  },
  {
   "cell_type": "markdown",
   "metadata": {},
   "source": [
    "Again, comparing the plots of the derivatives to the slopes of the original functions, we see that the chain rule is indeed computing the derivatives properly.\n",
    "\n",
    "Let’s now apply our understanding to composite functions with multiple inputs, a class of functions that follows the same principles we already established and is ultimately more applicable to deep learning."
   ]
  },
  {
   "cell_type": "markdown",
   "metadata": {},
   "source": [
    "## # Function with Multiple Inputs\n",
    "---\n",
    "\n",
    "By this points, we have conseptual understanding of how functions can be strung together to form composite functions. we also have a sense of how to represent these funtions as series of boxes that inputs go into and ouputs come out of. Finally, we've walked through how to compute the derivatives of these functions so that we understand these derivative both mathematically and as quantities computed via a step-by-step process with a \"forward\" and \"backward\" component.\n",
    "\n",
    "Oftentimes, the funtions we deal with deep learning don't have just one input. Instead, they have several inputs that at certain steps are added together, multipled, or otherwise combined. As we'll see, computing the derivatives of the outputs of these functions with respect to their inputs is still no problem: let's consider a very simple scenario with multiple inputs, where two inputs are added together and then fed through anothe function."
   ]
  },
  {
   "cell_type": "markdown",
   "metadata": {},
   "source": [
    "### ## Code\n",
    "\n",
    "For this example, it is actually useful to start by looking at the math. If our inputs are $x$ and $y$, then we could think of the function as occurring in two steps. In Step 1, $x$ and $y$ are fed through a function that adds them together. We’ll denote that function as $\\alpha$ (we’ll use Greek letters to refer to function names throughout) and the output of the function as a. Formally, this is simply:\n",
    "\n",
    "$$  a = \\alpha(x,y) = x + y $$\n",
    "\n",
    "Step 2 would be to feed $a$ through some function $\\sigma$($\\sigma$ can be any continous function, such as `sigmoid`, or the `square` function, or even a function whose doesn't start with $s$). We'll denote the output of this function as $s$:\n",
    "\n",
    "$$ s = \\sigma(a) $$\n",
    "\n",
    "We could, equivalently, denote the entire function as $f$ and write:\n",
    "\n",
    "$$ f(x,y) = \\sigma(x+y) $$\n",
    "\n",
    "This is more mathematically concise, but in obscures the fact that this is really two operations happening sequentially. To illustrate that, we need the diagram in the nex section."
   ]
  },
  {
   "cell_type": "markdown",
   "metadata": {},
   "source": [
    "### ## Diagram\n",
    "\n",
    "Now that we're at the stage where we're examining functions with multiple inputs, let's pause to define a concept we've been dancing around: the diagrams with circles and arrows connectiong them that represent the mathematical \"order of operations\" can be thought of as *computational graphs*. For example, Figure 1-12 shows a computational graph for the function $f$ we just described. \n",
    "\n",
    "<div align=\"center\">\n",
    "    <img src=\"https://learning.oreilly.com/library/view/deep-learning-from/9781492041405/assets/dlfs_0112.png\" width=\"600px\"/>\n",
    "    <i>Figure 1-12. Function with multiple inputs</i>\n",
    "</div>\n",
    "\n",
    "Here we see the two inputs going into $\\alpha$ and coming out as $a$ and then being fed through $\\sigma$."
   ]
  },
  {
   "cell_type": "markdown",
   "metadata": {},
   "source": [
    "### ## Code\n",
    "\n",
    "Coding this up is very straighforward; note, however, that we have to add one extra assertion:"
   ]
  },
  {
   "cell_type": "code",
   "execution_count": 23,
   "metadata": {},
   "outputs": [],
   "source": [
    "def multiple_inputs_add(x: ndarray,\n",
    "                        y: ndarray,\n",
    "                        sigma: Array_Function) -> float:\n",
    "    '''\n",
    "    Funtion with multiple inputs and addition, forwad pass\n",
    "    '''\n",
    "    assert x.shape == y.shape\n",
    "    \n",
    "    a = x + y\n",
    "    return sigma(a)"
   ]
  },
  {
   "cell_type": "markdown",
   "metadata": {},
   "source": [
    "Unlike the functions we saw earlier in this chapter, this function does not simply operate “elementwise” on each element of its input ndarrays. Whenever we deal with an operation that takes multiple ndarrays as inputs, we have to check their shapes to ensure they meet whatever conditions are required by that operation. Here, for a simple operation such as addition, all we need to check is that the shapes are identical so that the addition can happen elementwise."
   ]
  },
  {
   "cell_type": "markdown",
   "metadata": {},
   "source": [
    "## # Derivatives of functions with Multiple Inputs\n",
    "---\n",
    "\n",
    "It shouldn't seem suprising that we can compute the derivative of the ouptu of such a function with respect to both of its inputs."
   ]
  },
  {
   "cell_type": "markdown",
   "metadata": {},
   "source": [
    "### ## Diagram\n",
    "\n",
    "Conceptually, we simply do the same thing we did in the case of functions with one input: compute the derivative of each constituent function “going backward” through the computational graph and then multiply the results together to get the total derivative. This is shown in Figure 1-13.\n",
    "\n",
    "<div align=\"center\">\n",
    "    <img src=\"https://learning.oreilly.com/library/view/deep-learning-from/9781492041405/assets/dlfs_0113.png\" width=\"600px\"/>\n",
    "    <i>Figure 1-13. Going backward through the computational graph of a function with multiple inputs</i>\n",
    "</div>"
   ]
  },
  {
   "cell_type": "markdown",
   "metadata": {},
   "source": [
    "### ## Math\n",
    "\n",
    "The cain rule applies to these functions in the same way it applid to the dunctions in the prior sections. Since this is a nested function, with $f(x,y)=\\sigma(\\alpha(x,y))$, we have:\n",
    "\n",
    "$$ \\frac{\\partial f}{\\partial x} = \\frac{\\partial \\sigma}{\\partial u}(a(x, y)) \\times \\frac{\\partial \\alpha}{\\partial x}((x, y)) \\\\ = \\frac{\\partial \\sigma}{\\partial u}(x + y) \\times \\frac{\\partial \\alpha}{\\partial x}(x, y) $$\n",
    "\n",
    "And of course $\\frac{\\partial f}{\\partial y}$ would be identical.\n",
    "\n",
    "Now note that:\n",
    "\n",
    "$$ \\frac{\\partial \\alpha}{\\partial x}(x, y) = 1$$\n",
    "\n",
    "since for every unit increase in $x$, $a$ increases by one unit, no matter the value of $x$ (the same holds for $y$).\n",
    "\n",
    "Given this, we can code up how we might compute the derivative of such a function."
   ]
  },
  {
   "cell_type": "markdown",
   "metadata": {},
   "source": [
    "### ## Code"
   ]
  },
  {
   "cell_type": "code",
   "execution_count": 24,
   "metadata": {},
   "outputs": [],
   "source": [
    "def multiple_inputs_add_backward(x: ndarray,\n",
    "                                 y: ndarray,\n",
    "                                 sigma: Array_Function) -> float:\n",
    "    '''\n",
    "    Computes the derivative of this simple function with respect \n",
    "    to both inputs.\n",
    "    '''\n",
    "    # Compute \"forward pass\"\n",
    "    a = x + y\n",
    "    \n",
    "    # Compute derivatives\n",
    "    dsda = deriv(sigma, a)\n",
    "    \n",
    "    dadx, dady = 1, 1\n",
    "    \n",
    "    return dsda * dadx, dsda * dady"
   ]
  },
  {
   "cell_type": "markdown",
   "metadata": {},
   "source": [
    "A straightforward exercise for the reader is to modify this for the case where x and y are multiplied instead of added.\n",
    "\n",
    "Next, we’ll examine a more complicated example that more closely mimics what happens in deep learning: a similar function to the previous example, but with two vector inputs."
   ]
  },
  {
   "cell_type": "markdown",
   "metadata": {},
   "source": [
    "## # Functions with Multiple Vector Inputs\n",
    "---\n",
    "\n",
    "In deep learning, we deal with functions whose inputs are *ventors* or *matrices*. Not onl can these objects be added, multipled, and so on, but they can also combined via a dot product or  a matrix multiplication. In the rest of this chapter, I'll show how the mathematics of the chain rule and the logic of computing the derivatives of these functions using a forward and backward pass can still apply.\n",
    "\n",
    "These techniques will end up being central to understanding why deep learning works. In deep learning, our goal will be to fit a model to some data. More precisely, this means that we want to find a mathematical function that maps *observations* from the data—which will be inputs to the function—to some desired *predictions* from the data—which will be the outputs of the function—in as optimal a way as possible. It turns out these observations will be encoded in matrices, typically with row as an observation and each column as a numeric feature for that observation. We’ll cover this in more detail in the next chapter; for now, being able to reason about the derivatives of complex functions involving dot products and matrix multiplications will be essential."
   ]
  },
  {
   "cell_type": "markdown",
   "metadata": {},
   "source": [
    "### ## Math\n",
    "\n",
    "A typical way to represent a single data point, or “observation,” in a neural network is as a row with $n$ features, where each feature is simply a number $x_1, x_2$, and so on, up to $x_n$:\n",
    "\n",
    "$$ X = \\begin{bmatrix} x_1 & x_2 & \\cdots & x_n\\end{bmatrix} $$\n",
    "\n",
    "A cannocical example to keep in mind here is predicting housing price, which we'll build a neural netqork from scratch to do it the next chapter; in this example, $x_1, x_2,$ and so on are numerical features of a house, such as its square footage or its proxmity to schools."
   ]
  },
  {
   "cell_type": "markdown",
   "metadata": {},
   "source": [
    "## # Creating New Features from Existing Features\n",
    "---\n",
    "\n",
    "Perhaps the single most common operation in neural networks is to form a “weighted sum” of these features, where the weighted sum could emphasize certain features and de-emphasize others and thus be thought of as a new feature that itself is just a combination of old features. A concise way to express this mathematically is as a *dot product* of this observation, with some set of “weights” of the same length as the features, $w_1, w_2$, and so on, up to $w_n$. Let’s explore this concept from the three perspectives we’ve used thus far in this chapter."
   ]
  },
  {
   "cell_type": "markdown",
   "metadata": {},
   "source": [
    "### ## Math\n",
    "\n",
    "To be mathematically previse, if:\n",
    "\n",
    "$$ \n",
    "W = \\begin{bmatrix} \n",
    "w_1 \\\\ \n",
    "w_2 \\\\ \n",
    "\\vdots \\\\ \n",
    "w_n\\end{bmatrix} \n",
    "$$\n",
    "\n",
    "then we could define the output of this opeartion as:\n",
    "\n",
    "$$ N = ν(X,W) = X \\times W = x_1 \\times w_1 + x_2 \\times w_2+ ... + x_n \\times w_n $$\n",
    "\n",
    "Note that this operation is a special case of a matrix multiplication that just happens to be a dot product because $X$ has one row and $W$ has only one column.\n",
    "\n",
    "Next, let’s look at a few ways we could depict this with a diagram."
   ]
  },
  {
   "cell_type": "markdown",
   "metadata": {},
   "source": [
    "### ## Diagram\n",
    "\n",
    "A simple way of depicting this operation is shown in Figure 1-14.\n",
    "\n",
    "<div align=\"center\">\n",
    "    <img src=\"https://learning.oreilly.com/library/view/deep-learning-from/9781492041405/assets/dlfs_0114.png\" width=\"600px\"/>\n",
    "    <i>Figure 1-14. Diagram of a vector dot product</i>\n",
    "</div>\n",
    "\n",
    "This diagram depicts an operation that takes in two inputs, both of which can be `ndarrays`, and produces one output `ndarray`. \n",
    "\n",
    "But this is really a massive shorthand for many operations that are happening on many inputs. We could instead highlight the individual operations and inputs, as shown in Figures 1-15 and 1-16.\n",
    "\n",
    "<div align=\"center\">\n",
    "    <img src=\"https://learning.oreilly.com/library/view/deep-learning-from/9781492041405/assets/dlfs_0115.png\" width=\"600px\"/>\n",
    "    <i>Figure 1-15. Another diagram of a matrix multiplication</i>\n",
    "</div>\n",
    "\n",
    "<div align=\"center\">\n",
    "    <img src=\"https://learning.oreilly.com/library/view/deep-learning-from/9781492041405/assets/dlfs_0116.png\" width=\"400px\"/>\n",
    "    <i>Figure 1-16. A third diagram of a matrix multiplication</i>\n",
    "</div>\n",
    "\n",
    "The key point is that the dot product (or matrix multiplication) is a concise way to represent many individual operations; in addition, as we’ll start to see in the next section, using this operation makes our derivative calculations on the backward pass extremely concise as well."
   ]
  },
  {
   "cell_type": "markdown",
   "metadata": {},
   "source": [
    "### ## Code\n",
    "\n",
    "Finallu, in code this operation is simply:"
   ]
  },
  {
   "cell_type": "code",
   "execution_count": 25,
   "metadata": {},
   "outputs": [],
   "source": [
    "def matmul_forward(x: ndarray,\n",
    "                   W: ndarray) -> ndarray:\n",
    "    '''\n",
    "    Computes the forwad pass of a matrix multiplication\n",
    "    '''\n",
    "    \n",
    "    assert X.shape[1] == W.shape[0], \\\n",
    "    '''\n",
    "    For matrix multiplication, the number of columns in the first array \n",
    "    should match the number of rows in the second array, instead the \n",
    "    number of columns in the first array is {0} and the number of rows in \n",
    "    the seccond array is {1}\n",
    "    '''.format(X.shape[1], W.shape[0])\n",
    "    \n",
    "    # Matrix multiplication\n",
    "    N = np.dot(X, W)\n",
    "    \n",
    "    return N"
   ]
  },
  {
   "cell_type": "markdown",
   "metadata": {},
   "source": [
    "where we have a new assertion that ensures that the matrix multiplication will work. (This is necessary since this is our first operation that doesn’t merely deal with `ndarrays` that are the same size and perform an operation elementwise—our output is now actually a different size than our input.)"
   ]
  },
  {
   "cell_type": "markdown",
   "metadata": {},
   "source": [
    "## # Derivatives of functions with Multiple Vector Inputs\n",
    "---\n",
    "\n",
    "For functions that simply take one input as a number and produce one output, like $f(x)=x^2$ or $f(x)=sigmoid(x)$, computing the derivative is straigh forward: we simply apply rules from calculus. For vector functions, it isn't immediatly obvious what the derivative is: if we write a dot as $v(X,W) = N$, as in the prior section, the question naturally arises--what would $\\frac{\\partial N}{\\partial X}$ or $\\frac{\\partial N}{\\partial W}$ be?"
   ]
  },
  {
   "cell_type": "markdown",
   "metadata": {},
   "source": [
    "### ## Diagram\n",
    "\n",
    "Conceptually, we just want to do something like in Figure 1-17.\n",
    "\n",
    "<div align=\"center\">\n",
    "    <img src=\"https://learning.oreilly.com/library/view/deep-learning-from/9781492041405/assets/dlfs_0117.png\" width=\"600px\"/>\n",
    "    <i>Figure 1-17. Backward pass of a matrix multiplication, conceptually</i>\n",
    "</div>\n",
    "\n",
    "Calculation these derivatioves was easy when we were just dealing with addition and multiplication, as in the prior examples. But how can we do the analogous thing with matrix multiplication? To define that precisely, we'll have to turn to the math."
   ]
  },
  {
   "cell_type": "markdown",
   "metadata": {},
   "source": [
    "### ## Math\n",
    "\n",
    "First, how would we even define “the derivative with respect to a matrix”? Recalling that the matrix syntax is just shorthand for a bunch of numbers arranged in a particular form, \"the derivative with respect to a matrix\" really means \"the derivative with respect to each element of the matrix. \"since $X$ is a row, a natural way to define it is:\n",
    "\n",
    "$$ \\frac{\\partial v}{\\partial X} = \n",
    "\\begin{bmatrix}\n",
    "\\frac{\\partial v}{\\partial x_1} & \n",
    "\\frac{\\partial v}{\\partial x_2} & \n",
    "\\frac{\\partial v}{\\partial x_3} \n",
    "\\end{bmatrix} $$\n",
    "\n",
    "However, the output of $ν$ is just a number: $N = x_1 \\times w_1 + x_2 \\times w_2 + x_3 \\times w_3$. And looking at this, we can see that if, for example, $x_1$ changes by $\\varepsilon$ units, then $N$ will change by $w_1 \\times \\varepsilon$ units—and the same logic applies to the other $x_i$ elements. Thus:\n",
    "\n",
    "$$ \\frac{\\partial v}{\\partial x_1} = w_1 $$\n",
    "$$ \\frac{\\partial v}{\\partial x_2} = w_2 $$\n",
    "$$ \\frac{\\partial v}{\\partial x_3} = w_3 $$\n",
    "\n",
    "And so:\n",
    "\n",
    "$$ \\frac{\\partial v}{\\partial X} = \n",
    "\\begin{bmatrix}\n",
    "w_1 & w_2 & w_3 \n",
    "\\end{bmatrix} = W^T $$\n",
    "\n",
    "This is a surprising and elegant result that turns out to be a key piece of the puzzle to understanding both why deep learning works and how it can be implemented so cleanly.\n",
    "\n",
    "Using similar reasoning, we can see that:\n",
    "\n",
    "$$ \\frac{\\partial v}{\\partial W} = \n",
    "\\begin{bmatrix}\n",
    "w_1 \\\\ w_2 \\\\ w_3 \n",
    "\\end{bmatrix} = X^T $$"
   ]
  },
  {
   "cell_type": "markdown",
   "metadata": {},
   "source": [
    "### ## Code\n",
    "\n",
    "Here, reasoning mathematically about what the answer \"should\" be was the hard part. The easy part is coding up the result."
   ]
  },
  {
   "cell_type": "code",
   "execution_count": 26,
   "metadata": {},
   "outputs": [],
   "source": [
    "def matmul_backward_first(X: ndarray,\n",
    "                          W: ndarray) -> ndarray:\n",
    "    '''\n",
    "    Computes the backward pass of matrix multiplication with respect\n",
    "    to the first argument.\n",
    "    '''\n",
    "    \n",
    "    # Backward pass\n",
    "    dNdX = np.transpose(W, (1, 0))\n",
    "    \n",
    "    return dNdX"
   ]
  },
  {
   "cell_type": "code",
   "execution_count": 27,
   "metadata": {},
   "outputs": [
    {
     "name": "stdout",
     "output_type": "stream",
     "text": [
      "X : \n",
      " [[ 0.4723  0.6151 -1.7262]]\n",
      "W : \n",
      " [[ 0.9282]\n",
      " [-0.6075]\n",
      " [-1.2214]]\n"
     ]
    },
    {
     "data": {
      "text/plain": [
       "array([[ 0.9282, -0.6075, -1.2214]])"
      ]
     },
     "execution_count": 27,
     "metadata": {},
     "output_type": "execute_result"
    }
   ],
   "source": [
    "np.random.seed(190203)\n",
    "\n",
    "X = np.random.randn(1,3)\n",
    "W = np.random.randn(3,1)\n",
    "\n",
    "print('X : \\n', X)\n",
    "print('W : \\n',W)\n",
    "matmul_backward_first(X, W)"
   ]
  },
  {
   "cell_type": "markdown",
   "metadata": {},
   "source": [
    "The `dNdX` quantity computed here represents the partial derivative of each element of $X$ with respect to the sum of the output $N$. There is a special name for this quantity that we’ll use throughout the book: we’ll call it the `gradient` of $X$ with respect to $X$. The idea is that for an individual element of $X$—say, $x_3$—the corresponding element in `dNdx` (`dNdX[2]`, to be specific) is the partial derivative of the output of the vector dot product $N$ with respect to $x_3$. The term “gradient” as we’ll use it in this book simply refers to a multidimensional analogue of the partial derivative; specifically, it is an array of partial derivatives of the output of a function with respect to each element of the input to that function."
   ]
  },
  {
   "cell_type": "markdown",
   "metadata": {},
   "source": [
    "## # Vector Functions and Their Derivatios: One Step Futher\n",
    "---\n",
    "\n",
    "Deep learning models, of course, involve more than one operation: they include long chains of operations, some of which are vector functions like the one covered in the last section, and some of which simply apply a function elementwise to the `ndarray` they recive as input. Therefore, we'll now look at computing the derivative of a composite function that includes *both* kinds of functions. Let's suppose our functions takes in the vectors $X$ and $W$, performs the dot product described in the prior section—which we'll denote as $v(X,W)$—and then feed the vectors through a functions $\\sigma$. We'll express the same objective as before, but in new language: we want to compute the gradients of the output of this functions with respect to $X$ and $W$. Again, starting in the next chapter, we'll see in precise detail how this is connected to what neural networks do, but for now we just want to build up the idea that we can compute gradients for computational graphs of arbitrary complexity."
   ]
  },
  {
   "cell_type": "markdown",
   "metadata": {},
   "source": [
    "### ## Diagram\n",
    "\n",
    "The diagram for this functions, show in Figure 1-18, is the same as in Figure 1-17, with the $\\sigma$ function simply added onto the end.\n",
    "\n",
    "<div align=\"center\">\n",
    "    <img src=\"https://learning.oreilly.com/library/view/deep-learning-from/9781492041405/assets/dlfs_0118.png\" width=\"600px\"/>\n",
    "    <i>Figure 1-18. Same graph as before, but with another function tacked onto the end</i>\n",
    "</div>"
   ]
  },
  {
   "cell_type": "markdown",
   "metadata": {},
   "source": [
    "### ## Math\n",
    "\n",
    "Matematically, this is straighforward as well:\n",
    "\n",
    "$$ s = f(X,W) = \\sigma (ν(X,W)) = \\sigma(x_1 \\times w1 + x_2 \\times w_2 + x_3 \\times w_3) $$"
   ]
  },
  {
   "cell_type": "markdown",
   "metadata": {},
   "source": [
    "### ## Code\n",
    "\n",
    "Finally, we can code this function up as:"
   ]
  },
  {
   "cell_type": "code",
   "execution_count": 28,
   "metadata": {},
   "outputs": [],
   "source": [
    "def matrix_forward_extra(x: ndarray,\n",
    "                         W: ndarray,\n",
    "                         sigma: Array_Function) -> ndarray:\n",
    "    '''\n",
    "    Computes the forward pass of function involving matrix multiplication, one extra function.\n",
    "    '''\n",
    "    \n",
    "    assert X.shape[1] == W.shape[0]\n",
    "    \n",
    "    # matrix multiplication\n",
    "    N = np.dot(W, W)\n",
    "    \n",
    "    # feeding the output of the matrix multiplication through sigma\n",
    "    S = sigma(N)\n",
    "    \n",
    "    return S"
   ]
  },
  {
   "cell_type": "markdown",
   "metadata": {},
   "source": [
    "## # Vector Functions and Their Derivatives: The Backward Pass\n",
    "---\n",
    "\n",
    "The backward pass is similar just a straightforward extension of the prior example."
   ]
  },
  {
   "cell_type": "markdown",
   "metadata": {},
   "source": [
    "### ## Math\n",
    "\n",
    "Since $f(X, W)$ is a nested function—specifically, $f(X, W) = \\sigma(ν(X, W))$—its derivative with respect to, for example, $X$ should conceptually be:\n",
    "\n",
    "$$ \\frac{\\partial f}{\\partial X} = \\frac{\\partial \\sigma}{\\partial u}(v(X,W)) \\times \\frac{\\partial v}{\\partial X}(X,W) $$\n",
    "\n",
    "But the first part of this is simply:\n",
    "\n",
    "$$ \\frac{\\partial \\sigma}{\\partial u}(v(X,W)) = \\frac{\\partial \\sigma}{\\partial u}(x_1 \\times w_1 + x_2 \\times w_2 + x_3 \\times w_3) $$\n",
    "\n",
    "which is well defined since $\\sigma$ is just a continuous function whose derivative we can evaluate at any point, and here are just evaluating it at $x_1 \\times w_1 + x_2 \\times w_2 + x_3 \\times w_3$.\n",
    "\n",
    "Futhermore, we reasoned in the prior example that $\\frac{\\partial v}{\\partial X}(X,W) = W^T$. Therefore:\n",
    "\n",
    "$$ \\frac{\\partial f}{\\partial X} = \\frac{\\partial \\sigma}{\\partial u}(v(X,W)) \\times \\frac{\\partial v}{\\partial X}(X,W) = \\frac{\\partial \\sigma}{\\partial u}(x_1 \\times w_1 + x_2 \\times w_2 + x_3 \\times w_3) \\times W^T $$\n",
    "\n",
    "which, as in the preceding example, results in a vector of the same shape as $X$, sice the final answes is a number, $\\frac{\\partial \\sigma}{\\partial u}(x_1 \\times w_1 + x_2 \\times w_2 + x_3 \\times w_3)$, times a vector of the shape as $X$ in $W^T$."
   ]
  },
  {
   "cell_type": "markdown",
   "metadata": {},
   "source": [
    "### ## Diagram\n",
    "\n",
    "The diagram for the backward pass of this function, shown in Figure 1-19, is similar to that of the prior example and even higher leven than the math; we just have to add one more multiplication based on the derivative of the $\\sigma$ functions evaluated at the result of the matrix multiplication.\n",
    "\n",
    "<div align=\"center\">\n",
    "    <img src=\"https://learning.oreilly.com/library/view/deep-learning-from/9781492041405/assets/dlfs_0119.png\" width=\"600px\"/>\n",
    "    <i>Figure 1-19. Graph with a matrix multiplication: the backward pass</i>\n",
    "</div>"
   ]
  },
  {
   "cell_type": "markdown",
   "metadata": {},
   "source": [
    "### ## Code\n",
    "\n",
    "Finally, coding up the backward pass in straighforward as well:"
   ]
  },
  {
   "cell_type": "code",
   "execution_count": 29,
   "metadata": {},
   "outputs": [],
   "source": [
    "def matrix_function_backward_1(x: ndarray,\n",
    "                               W: ndarray,\n",
    "                               sigma: Array_Function) -> ndarray:\n",
    "    '''\n",
    "    Computes the derivative of our matrix function with respect to the first element.\n",
    "    '''\n",
    "    assert X.shape[1] == W.shape[0]\n",
    "    \n",
    "    # matrix multiplication\n",
    "    N = np.dot(X, W)\n",
    "    \n",
    "    # feeding the output of the matrix multiplication through sigma\n",
    "    S = sigma(N)\n",
    "    \n",
    "    # backward calculation\n",
    "    dSdN = deriv(sigma, N)\n",
    "    \n",
    "    # dNdX\n",
    "    dNdX = np.transpose(W, (1, 0))\n",
    "    \n",
    "    # multiply them together; since dNdX is 1x1 here, order doesn' matter\n",
    "    return np.dot(dSdN, dNdX)"
   ]
  },
  {
   "cell_type": "markdown",
   "metadata": {},
   "source": [
    "Notice that we see the same dynamic here that we saw in the earlier example with the three nested functions: we compute quantities on the forward pass (here, just $N$) that we then during the backward pass.\n",
    "\n",
    "#### IS THIS RIGHT?\n",
    "\n",
    "How can we tell if these derivatives we’re computing are correct? A simple test is to perturb the input a little bit and observe the resulting change in output. For example, $X$ in this case is:"
   ]
  },
  {
   "cell_type": "code",
   "execution_count": 30,
   "metadata": {},
   "outputs": [
    {
     "name": "stdout",
     "output_type": "stream",
     "text": [
      "[[ 0.4723  0.6151 -1.7262]]\n"
     ]
    }
   ],
   "source": [
    "print(X)"
   ]
  },
  {
   "cell_type": "markdown",
   "metadata": {},
   "source": [
    "If we increase $x_3$ by $0.01$, from `-1.726` to `-1.716`, we should see an increase in the value produced by the forward function of the *gradient of the output with respect to* $x_3 \\times 0.01$. Figure 1-20 shows this.\n",
    "\n",
    "<div align=\"center\">\n",
    "    <img src=\"https://learning.oreilly.com/library/view/deep-learning-from/9781492041405/assets/dlfs_0120.png\" width=\"600px\"/>\n",
    "    <i>Figure 1-20. Gradient checking: an illustration</i>\n",
    "</div>\n",
    "\n",
    "Using the `matrix_function_backward_1` function, we can see that the gradient is -0.1121:"
   ]
  },
  {
   "cell_type": "code",
   "execution_count": 31,
   "metadata": {},
   "outputs": [
    {
     "name": "stdout",
     "output_type": "stream",
     "text": [
      "[[ 0.0852 -0.0557 -0.1121]]\n"
     ]
    }
   ],
   "source": [
    "print(matrix_function_backward_1(X, W, sigmoid))"
   ]
  },
  {
   "cell_type": "markdown",
   "metadata": {},
   "source": [
    "To test whether this gradient is correct, we should see, after incrementing $x_3$ by `0.01`, a corresponding decrease in the output of the function by about `0.01 x -0.1121 = -0.001121`; if we saw an decrease by more or less than this amount, or an increase, for example, we would know that our reasoning about the chain rule was off. What we see when we do this calculation,2 however, is that increasing $x_3$ by a small amount does indeed decrease the value of the output of the function by `0.01 × -0.1121`—which means the derivatives we’re computing are correct!\n",
    "\n",
    "To close out this chapter, we’ll cover an example that builds on everything we’ve done so far and directly applies to the models we’ll build in the next chapter: a computational graph that starts by multiplying a pair of two-dimensional matrices together."
   ]
  },
  {
   "cell_type": "markdown",
   "metadata": {},
   "source": [
    "## # Computational Graph with two 2D Matrix Inputs\n",
    "---\n",
    "\n",
    "In deep learning, and machine learning more generally, we deal with operations that take as input two 2D arrays, one of wich represents a bbatch of data $X$ and the other of which represents the weights $W$. In the next chapter, we'll dive deep into why this make sense in amodeling contex, but in this chapter we'll just focus on the mechanics and the math ehind this operation, Specifically, we'll walk through a simple example in detail and show that even when multiplications of 2D matrices are involved, rather than just dot products of 1D vectors, the reasoning we've been using throughout this chapter still makes mathematical sense and is in fact extremely easy to code.\n",
    "\n",
    "As before, the math needed to derive these results gets...not difficult, but messy. Nevertheless, the result is quite clean. And, of course, we'll bbreak it down step by step an always connect it back to both code and diagrams."
   ]
  },
  {
   "cell_type": "markdown",
   "metadata": {},
   "source": [
    "### ## Math\n",
    "\n",
    "Let's suppose that:\n",
    "\n",
    "$$ X = \\begin{bmatrix}\n",
    "x_{11} & x_{12} & x_{13} \\\\\n",
    "x_{21} & x_{22} & x_{23} \\\\\n",
    "x_{31} & x_{32} & x_{33}\n",
    "\\end{bmatrix} $$\n",
    "\n",
    "and:\n",
    "\n",
    "$$ W = \\begin{bmatrix}\n",
    "w_{11} & w_{12} \\\\\n",
    "w_{21} & w_{22} \\\\\n",
    "w_{31} & w_{32} \\\\\n",
    "\\end{bmatrix} $$\n",
    "\n",
    "This could correspond to a dataset in which observation has three features, and the three rows could correspond to three different observations for which we want to make predictions.\n",
    "\n",
    "Now we'll define the following straighforward operations to these matrices:\n",
    "\n",
    "1. Multiply these matrics together. As before, we'll denote the functions that does this as $v(X,W)$ and the output as $N$, so that $N=v(X,W)$.\n",
    "2. Feed $N$ result through some differentiable functiosn $\\sigma$, and define $(S=\\sigma(N))$.\n",
    "\n",
    "As before, the question now is: what are the gradients of the output $S$ with repect to $X$ and $W$? can we simply use the chain rule again? Why or why not?\n",
    "\n",
    "if you think about this for a bit, you may relize that something is different from the previous examples that we've looked at: *S is now a matrix*, not simply a number. And what, after all, does the gradient of one matrix with respect to another matrix mean?\n",
    "\n",
    "This leads us to a subtle but important idea: we may perform whatever series of operations on multidimensional arrays we want, but for the notion of a “gradient” with respect to some output to be well defined, we need to *sum* (or otherwise aggregate into a single number) the final array in the sequence so that the notion of “how much will changing each element of X affect the output” will even make sense.\n",
    "\n",
    "Sow we'll tack onto the end a third function, *Lambda*, that simply takes the elements of $S$ and sums them up.\n",
    "\n",
    "Let's make this mathematically concrete. First, let's multiply $X$ and $W$:\n",
    "\n",
    "$$ \\nu(X, W) = X * W = \\begin{bmatrix}\n",
    "x_{11} * w_{11} + x_{12} * w_{21} + x_{13} * w_{31} &\n",
    "x_{11} * w_{12} + x_{12} * w_{22} + x_{13} * w_{32}\n",
    "\\\\\n",
    "x_{21} * w_{11} + x_{22} * w_{21} + x_{23} * w_{31} &\n",
    "x_{21} * w_{12} + x_{22} * w_{22} + x_{23} * w_{32}\n",
    "\\\\\n",
    "x_{31} * w_{11} + x_{32} * w_{21} + x_{33} * w_{31} &\n",
    "x_{31} * w_{12} + x_{32} * w_{22} + x_{33} * w_{32}\n",
    "\\end{bmatrix} = \n",
    "\\begin{bmatrix}\n",
    "XW_{11} &\n",
    "XW_{12}\n",
    "\\\\\n",
    "XW_{21} &\n",
    "XW_{22}\n",
    "\\\\\n",
    "XW_{31} &\n",
    "XW_{32}\n",
    "\\end{bmatrix}\n",
    "$$\n",
    "\n",
    "where we denote row $i$ and dolumn $j$ in the resulting matrix as $XW_{ij}$ for convenience.\n",
    "\n",
    "Next, we'll feed this result through $\\sigma$, which means appling $\\sigma$ to every element of the matrix $X \\times W$:\n",
    "\n",
    "$$ \\sigma(X * W) = \\begin{bmatrix}\n",
    "\\sigma(x_{11} * w_{11} + x_{12} * w_{21} + x_{13} * w_{31}) &\n",
    "\\sigma(x_{11} * w_{12} + x_{12} * w_{22} + x_{13} * w_{32})\n",
    "\\\\\n",
    "\\sigma(x_{21} * w_{11} + x_{22} * w_{21} + x_{23} * w_{31}) &\n",
    "\\sigma(x_{21} * w_{12} + x_{22} * w_{22} + x_{23} * w_{32})\n",
    "\\\\\n",
    "\\sigma(x_{31} * w_{11} + x_{32} * w_{21} + x_{33} * w_{31}) &\n",
    "\\sigma(x_{31} * w_{12} + x_{32} * w_{22} + x_{33} * w_{32})\n",
    "\\end{bmatrix} = \n",
    "\\begin{bmatrix}\n",
    "\\sigma(XW_{11}) & \\sigma(XW_{12})\\\\\n",
    "\\sigma(XW_{21}) & \\sigma(XW_{22})\\\\\n",
    "\\sigma(XW_{31}) & \\sigma(XW_{32})\n",
    "\\end{bmatrix}\n",
    "$$\n",
    "\n",
    "Finally, we can simply sum up these elements:\n",
    "\n",
    "$$ L = \\Lambda(\\sigma(X * W)) = \\Lambda(\\begin{bmatrix}\n",
    "\\sigma(XW_{11}) & \\sigma(XW_{12})\\\\\n",
    "\\sigma(XW_{21}) & \\sigma(XW_{22})\\\\\n",
    "\\sigma(XW_{31}) & \\sigma(XW_{32})\n",
    "\\end{bmatrix}) =  \\sigma(XW_{11}) + \\sigma(XW_{12}) + \\sigma(XW_{21}) + \\sigma(XW_{22}) + \\sigma(XW_{31}) + \\sigma(XW_{32})\n",
    "$$\n",
    "\n",
    "Now we are back in a pure calculus setting: we have a number, $L$, and we want to figure out the gradient of $L$ with respect to $X$ and $W$; that is, we want to know how much changing *each element* of these input matrices ($x_{11}, w_{21}$, and so on) would change $L$. We can write this as:\n",
    "\n",
    "$$ \\frac{\\partial \\Lambda}{\\partial u}(X) = \n",
    "\\begin{bmatrix}\n",
    "\\frac{\\partial \\Lambda}{\\partial u}(x_{11}) & \n",
    "\\frac{\\partial \\Lambda}{\\partial u}(x_{12}) & \n",
    "\\frac{\\partial \\Lambda}{\\partial u}(x_{13}) \\\\\n",
    "\\frac{\\partial \\Lambda}{\\partial u}(x_{21}) & \n",
    "\\frac{\\partial \\Lambda}{\\partial u}(x_{22}) & \n",
    "\\frac{\\partial \\Lambda}{\\partial u}(x_{23}) \\\\\n",
    "\\frac{\\partial \\Lambda}{\\partial u}(x_{31}) & \n",
    "\\frac{\\partial \\Lambda}{\\partial u}(x_{32}) & \n",
    "\\frac{\\partial \\Lambda}{\\partial u}(x_{33}) \n",
    "\\end{bmatrix} $$\n",
    "\n",
    "And now we understand mathematically the problem we are up against. Let’s pause the math for a second and catch up with our diagram and code."
   ]
  },
  {
   "cell_type": "markdown",
   "metadata": {},
   "source": [
    "### ## Digram\n",
    "\n",
    "Cenceptually, what we ara doing here is similar to what we're done in the pervious examples with a computational graph with multiple inputs; thus, Figure 1-21 should look familiar.\n",
    "\n",
    "<div align=\"center\">\n",
    "    <img src=\"https://learning.oreilly.com/library/view/deep-learning-from/9781492041405/assets/dlfs_0121.png\" width=\"600px\"/>\n",
    "    <i>Figure 1-21. Graph of a function with a complicated forward pass</i>\n",
    "</div>\n",
    "\n",
    "We are simply sending inputs forwards as before. We claim that even in this more complicated scenario, we should be able to calculate the gradients we need using the chain rule."
   ]
  },
  {
   "cell_type": "markdown",
   "metadata": {},
   "source": [
    "### ## Code\n",
    "\n",
    "we can code this up as:"
   ]
  },
  {
   "cell_type": "code",
   "execution_count": 32,
   "metadata": {},
   "outputs": [],
   "source": [
    "def matrix_function_forward_sum(X: ndarray,\n",
    "                                W: ndarray,\n",
    "                                sigma: Array_Function) -> float:\n",
    "    '''\n",
    "    Computing the result of the forward pass of this function with\n",
    "    input ndarrays X and W and function sigma.\n",
    "    '''\n",
    "    assert X.shape[1] == W.shape[0]\n",
    "\n",
    "    # matrix multiplication\n",
    "    N = np.dot(X, W)\n",
    "\n",
    "    # feeding the output of the matrix multiplication through sigma\n",
    "    S = sigma(N)\n",
    "\n",
    "    # sum all the elements\n",
    "    L = np.sum(S)\n",
    "\n",
    "    return L"
   ]
  },
  {
   "cell_type": "markdown",
   "metadata": {},
   "source": [
    "## # The Fun Part: Backward Pass\n",
    "---\n",
    "\n",
    "Now we want to \"perform the backward pass\" for this function, showing how, even when a matrix multiplication is involved, we can end up canlculating the gradient of $N$ with respect to each of the elements of our input `ndarrays`. with this final step figure out, starting to train real machine learning model in Chapter 2 will straighforward. First, let's remain ourselves what we are doing conceptually."
   ]
  },
  {
   "cell_type": "markdown",
   "metadata": {},
   "source": [
    "### ## Digram\n",
    "\n",
    "Again, what we're doing is similar to what we've done in the prior examples from this chapter Figure 1-22 should look as familiar as Figure 1-21 did.\n",
    "\n",
    "<div align=\"center\">\n",
    "    <img src=\"https://learning.oreilly.com/library/view/deep-learning-from/9781492041405/assets/dlfs_0122.png\" width=\"600px\"/>\n",
    "    <i>Figure 1-22. Backward pass through our complicated function</i>\n",
    "</div>\n",
    "\n",
    "We simply need to calculate the partial derivative of each constituent function and ecaluatee it at its input, multiplying the results together to get tha final derivative. Let's cosider each of these partial derivatives in turn; the only way through it is through the math."
   ]
  },
  {
   "cell_type": "markdown",
   "metadata": {},
   "source": [
    "### ## Math\n",
    "\n",
    "Let’s first note that we could compute this directly. The value $L$ is indeed a function of $x_{11}, x_{12}$, and so on, all the way up to $x_{33}$.\n",
    "\n",
    "However, that seems complicated. Wasn’t the whole point of the chain rule that we can break down the derivatives of complicated functions into simple pieces, compute each of those pieces, and then just multiply the results? Indeed, that fact was what made it so easy to code these things up: we just went step by step through the forward pass, saving the results as we went, and then we used those results to evaluate all the necessary derivatives for the backward pass.\n",
    "\n",
    "I’ll show that this approach only *kind* of works when there are matrices involved. Let’s dive in.\n",
    "\n",
    "We can write $L$ as $\\Lambda(\\sigma(v(X,W)))$. If this were a regular function, we would just write the chain rule:\n",
    "\n",
    "$$ \\frac{\\partial \\Lambda}{\\partial X}(X) = \\frac{\\partial \\Lambda}{\\partial X}(X,W)) \\times \\frac{\\partial \\sigma}{\\partial u}(N) \\times \\frac{\\partial \\Lambda}{\\partial u}(S)$$\n",
    "\n",
    "Then we would compute each of the three partial derivatives in turn. This is exactly what we did before in the dunction of three nested functions, for which we computed the derivative using the chain rule, and Figure 1-22 suggests that approach should work for this function as well.\n",
    "\n",
    "The first derivative is the most straightforward and thus makes the best warm-up. We want to know how much $L$ (the output of $\\Lambda$) will increase if each element of $S$ increases. Since $L$ is the sum of all the elements of $S$, this derivative is simply:\n",
    "\n",
    "$$\\frac{\\partial \\Lambda}{\\partial u}(S) = \n",
    "\\begin{bmatrix}\n",
    "1 & 1 \\\\\n",
    "1 & 1 \\\\\n",
    "1 & 1\n",
    "\\end{bmatrix}\n",
    "$$\n",
    "\n",
    "since increasing any element of $S$ by, say, 0.46 units would increase $\\Lambda$ by 0.46 units.\n",
    "\n",
    "Next, we have \\frac{\\partial \\sigma}{\\partial u}(N). This is simply the derivative of whatever function $\\sigma$ is, evaluated at the elements in $N$. In the \"$XW$\" syntax we’ve used previously, this is again simple to compute:\n",
    "\n",
    "$$ \\frac{\\partial \\sigma}{\\partial u}(N) = \\begin{bmatrix}\n",
    "\\frac{\\partial \\sigma}{\\partial u}(XW_{11}) &\n",
    "\\frac{\\partial \\sigma}{\\partial u}(XW_{12}) \\\\\n",
    "\\frac{\\partial \\sigma}{\\partial u}(XW_{21}) &\n",
    "\\frac{\\partial \\sigma}{\\partial u}(XW_{22}) \\\\\n",
    "\\frac{\\partial \\sigma}{\\partial u}(XW_{31}) &\n",
    "\\frac{\\partial \\sigma}{\\partial u}(XW_{32})\n",
    "\\end{bmatrix} $$\n",
    "\n",
    "Note that at this point we can say for certain that we can multiply these two derivatives together *elementwise* and compute \\frac{\\partial L}{\\partial u}(N):\n",
    "\n",
    "$$ \\frac{\\partial \\Lambda}{\\partial u}(N) = \n",
    "\\frac{\\partial \\Lambda}{\\partial u}(S) \\times \\frac{\\partial \\sigma}{\\partial u}(N) =\n",
    "\\begin{bmatrix}\n",
    "\\frac{\\partial \\sigma}{\\partial u}(XW_{11}) &\n",
    "\\frac{\\partial \\sigma}{\\partial u}(XW_{12}) \\\\\n",
    "\\frac{\\partial \\sigma}{\\partial u}(XW_{21}) &\n",
    "\\frac{\\partial \\sigma}{\\partial u}(XW_{22}) \\\\\n",
    "\\frac{\\partial \\sigma}{\\partial u}(XW_{31}) &\n",
    "\\frac{\\partial \\sigma}{\\partial u}(XW_{32})\n",
    "\\end{bmatrix}\n",
    "\\times\n",
    "\\begin{bmatrix}\n",
    "1 & 1 \\\\\n",
    "1 & 1 \\\\\n",
    "1 & 1\n",
    "\\end{bmatrix} =\n",
    "\\begin{bmatrix}\n",
    "\\frac{\\partial \\sigma}{\\partial u}(XW_{11}) &\n",
    "\\frac{\\partial \\sigma}{\\partial u}(XW_{12}) \\\\\n",
    "\\frac{\\partial \\sigma}{\\partial u}(XW_{21}) &\n",
    "\\frac{\\partial \\sigma}{\\partial u}(XW_{22}) \\\\\n",
    "\\frac{\\partial \\sigma}{\\partial u}(XW_{31}) &\n",
    "\\frac{\\partial \\sigma}{\\partial u}(XW_{32})\n",
    "\\end{bmatrix} $$\n",
    "\n",
    "Now, however, we are stuck. The next thing we want, based on the diagram and applying the chain rule, is $\\frac{\\partial v}{\\partial u}(X)$. Recall, however, that $N$, the output of $v$, was just the result of a matrix multiplication of $X$ with $W$. Thus we want some notion of how much increasing each element of $X$ (a 3 × 3 matrix) will increase each element of $N$ (a 3 × 2 matrix). If you’re having trouble wrapping your mind around such a notion, that’s the point—it isn’t clear at all how we’d define this, or whether it would even be useful if we did.\n",
    "\n",
    "Why is this a problem now? Before, we were in the fortunate situation of $X$ and $W$ being transposes of each other in terms of shape. That being the case, we could show that $\\frac{\\partial v}{\\partial u}(X) = W^T$ and $\\frac{\\partial v}{\\partial u}(W) = X^T$. Is there something analogous we can say here?"
   ]
  },
  {
   "cell_type": "markdown",
   "metadata": {},
   "source": [
    "#### THE \"?\"\n",
    "\n",
    "More specially, here's where we're stuck. We need to figure out what goes in the \"?\"\n",
    "\n",
    "$$ \\frac{\\partial \\Lambda}{\\partial X}(X) = \n",
    "\\frac{\\partial \\Lambda}{\\partial u}(\\sigma(N)) \\times ? = \n",
    "\\begin{bmatrix}\n",
    "\\frac{\\partial \\sigma}{\\partial u}(XW_{11}) &\n",
    "\\frac{\\partial \\sigma}{\\partial u}(XW_{12}) \\\\\n",
    "\\frac{\\partial \\sigma}{\\partial u}(XW_{21}) &\n",
    "\\frac{\\partial \\sigma}{\\partial u}(XW_{22}) \\\\\n",
    "\\frac{\\partial \\sigma}{\\partial u}(XW_{31}) &\n",
    "\\frac{\\partial \\sigma}{\\partial u}(XW_{32})\n",
    "\\end{bmatrix} \\times ? $$"
   ]
  },
  {
   "cell_type": "markdown",
   "metadata": {},
   "source": [
    "#### THE ANSWER\n",
    "\n",
    "It turns out that because of the way multiplication works out, what fills the \"?\" is simply $W^T$, as in the simpler example with the vector dot product that we just saw! The way to verivy this is to compute the partial derivative of $L$ with respect to each element of $X$ directly; when we do so, the resulting matrix does indeed (remarkably) factor out into:\n",
    "\n",
    "$$ \\frac{\\partial \\Lambda}{\\partial u}(X) = \n",
    "\\frac{\\partial \\Lambda}{\\partial u}(S) \\times\n",
    "\\frac{\\partial \\sigma}{\\partial u}(N) \\times\n",
    "W^T $$\n",
    "\n",
    "Where the first multiplication si elementwise, and the second one is a matrix multiplication.\n",
    "\n",
    "This means that *even the operations in our computational graph involve multiplying matrices with multiple rows and columns, and even if the shapes of the outputs of those operations are different than those of the inputs, we can still include these operations in our computational graph and backpropagate through them using \"chain rule\" logic*. This is a critical result, withoutwhich training deep learning models would be much more cumbersome, as you'll appriciate further adter the next chapter."
   ]
  },
  {
   "cell_type": "markdown",
   "metadata": {},
   "source": [
    "### ## Code\n",
    "\n",
    "Let's encapsulate what we just derived using code, and hopefully solidify our understanding in the process."
   ]
  },
  {
   "cell_type": "code",
   "execution_count": 33,
   "metadata": {},
   "outputs": [],
   "source": [
    "def matrix_function_backward_sum_1(X: ndarray,\n",
    "                                   W: ndarray,\n",
    "                                   sigma: Array_Function) -> ndarray:\n",
    "    '''\n",
    "    Compute derivative of matrix function with a sum with respect to the\n",
    "    first matrix input\n",
    "    '''\n",
    "    assert X.shape[1] == W.shape[0]\n",
    "\n",
    "    # matrix multiplication\n",
    "    N = np.dot(X, W)\n",
    "\n",
    "    # feeding the output of the matrix multiplication through sigma\n",
    "    S = sigma(N)\n",
    "\n",
    "    # sum all the elements\n",
    "    L = np.sum(S)\n",
    "\n",
    "    # note: I'll refer to the derivatives by their quantities here,\n",
    "    # unlike the math where we referred to their function names\n",
    "\n",
    "    # dLdS - just 1s\n",
    "    dLdS = np.ones_like(S)\n",
    "\n",
    "    # dSdN\n",
    "    dSdN = deriv(sigma, N)\n",
    "    \n",
    "    # dLdN\n",
    "    dLdN = dLdS * dSdN\n",
    "\n",
    "    # dNdX\n",
    "    dNdX = np.transpose(W, (1, 0))\n",
    "\n",
    "    # dLdX\n",
    "    dLdX = np.dot(dSdN, dNdX)\n",
    "\n",
    "    return dLdX"
   ]
  },
  {
   "cell_type": "markdown",
   "metadata": {},
   "source": [
    " Now let's verify that everything worked:"
   ]
  },
  {
   "cell_type": "code",
   "execution_count": 34,
   "metadata": {},
   "outputs": [
    {
     "name": "stdout",
     "output_type": "stream",
     "text": [
      "X:\n",
      "[[-1.5775 -0.6664  0.6391]\n",
      " [-0.5615  0.7373 -1.4231]\n",
      " [-1.4435 -0.3913  0.1539]]\n",
      "L:\n",
      "2.3755\n",
      "\n",
      "dLdX:\n",
      "[[ 0.2489 -0.3748  0.0112]\n",
      " [ 0.126  -0.2781 -0.1395]\n",
      " [ 0.2299 -0.3662 -0.0225]]\n"
     ]
    }
   ],
   "source": [
    "np.random.seed(190204)\n",
    "X = np.random.randn(3, 3)\n",
    "W = np.random.randn(3, 2)\n",
    "\n",
    "print(\"X:\")\n",
    "print(X)\n",
    "\n",
    "print(\"L:\")\n",
    "print(round(matrix_function_forward_sum(X, W, sigmoid), 4))\n",
    "print()\n",
    "print(\"dLdX:\")\n",
    "print(matrix_function_backward_sum_1(X, W , sigmoid))"
   ]
  },
  {
   "cell_type": "markdown",
   "metadata": {},
   "source": [
    "As in the previous example, since `dLdX` represents the gradient of $X$ with repect to $L$, this means that, for instance, the top-left element indicates that $\\frac{\\partial \\Lambda}{\\partial x_{11}}(X,W) = 0.2489$. Thus, if the matrix math for this example was correct, then increasing $x_{11}$ by 0.001 should increase $L$ by `0.01 x 0.2489`. Indeed, we see that this is what happens:"
   ]
  },
  {
   "cell_type": "code",
   "execution_count": 35,
   "metadata": {},
   "outputs": [
    {
     "name": "stdout",
     "output_type": "stream",
     "text": [
      "0.2489\n"
     ]
    }
   ],
   "source": [
    "X1 = X.copy()\n",
    "X1[0, 0] += 0.001\n",
    "\n",
    "print(round(\n",
    "        (matrix_function_forward_sum(X1, W, sigmoid) - \\\n",
    "         matrix_function_forward_sum(X, W, sigmoid)) / 0.001, 4))"
   ]
  },
  {
   "cell_type": "markdown",
   "metadata": {},
   "source": [
    "Looks like the gradients were computed correctly!"
   ]
  },
  {
   "cell_type": "markdown",
   "metadata": {},
   "source": [
    "## DESCRIBING THESE GRADIENTS VISUALLY\n",
    "\n",
    "To bring this back to what we noted at the biginning of the chapter, we feed the element in question, $x_{11}$, through function with many operations: there was a matrix multiplication—which was really shorhand for combining the nine inputs in the matrix $X$ with six inputs in the matrix $W$ to create six outputs—the `sigmoid` function, and then the sum. Nevertheless, we can also think of this as a single function called, say, \"$W N S L$\", as depicted in figure 1-23.\n",
    "\n",
    "<div align=\"center\">\n",
    "    <img src=\"https://learning.oreilly.com/library/view/deep-learning-from/9781492041405/assets/dlfs_0123.png\" width=\"600px\"/>\n",
    "    <i>Figure 1-23. Another way of describing the nested function: as one function, “WNSL”</i>\n",
    "</div>\n",
    "\n",
    "Since each function is differentiable, the whole thing is just a single differentiable function, with $x_{11}$ as an input; thus, the gradient is simply the answer to the question, what is $\\frac{dL}{dx_{11}}$? To visualize this, we can simply plot how $L$ changes as $x_{11}$ changes. Looking at the initial value of $x_{11}$, we see that it is `-1.5775`:"
   ]
  },
  {
   "cell_type": "code",
   "execution_count": 36,
   "metadata": {},
   "outputs": [
    {
     "name": "stdout",
     "output_type": "stream",
     "text": [
      "X:\n",
      "[[-1.5775 -0.6664  0.6391]\n",
      " [-0.5615  0.7373 -1.4231]\n",
      " [-1.4435 -0.3913  0.1539]]\n"
     ]
    }
   ],
   "source": [
    "print(\"X:\")\n",
    "print(X)"
   ]
  },
  {
   "cell_type": "markdown",
   "metadata": {},
   "source": [
    "If we plot the value of $L$ that results from feeding $X$ and $W$ into the computational graph defined previously—or, to represent it differently, from feeding $X$ and $W$ into the function called in the preceding code—changing nothing except the value for $x_{11}$ (or $X[0, 0]$), the resulting plot looks like Figure 1-24.\n",
    "\n",
    "<div align=\"center\">\n",
    "    <img src=\"https://learning.oreilly.com/library/view/deep-learning-from/9781492041405/assets/dlfs_0124.png\" width=\"600px\"/>\n",
    "    <i>Figure 1-24. $L$ versus $x_{11}$, holding other values of $X$ and $W$ constant</i>\n",
    "</div>\n",
    "\n",
    "Indeed, eyeballing this relationship in the case of $x_{11}$, it looks like the distance this function increases along the $L$-axis is roughly 0.5 (from just over 2.1 to just over 2.6), and we know that we are showing a change of 2 along the $x_{11}$-axis, which would make the slope roughly $\\frac{0.5}{2}=0.25$—which is exactly what we just calculated!\n",
    "\n",
    "So our complicated matrix math does in fact seem to have resulted in us correctly computing the partial derivative $L$ with respect to each element of $X$. Furthermore, the gradient of $L$ with respect to $W$ could be computed similarly."
   ]
  },
  {
   "cell_type": "markdown",
   "metadata": {},
   "source": [
    "---\n",
    "<h3 align=\"center\"><strong>NOTE</strong></h3>\n",
    "\n",
    "The expression for the gradient of $L$ with respect to $W$ would be $X^T$. However, because of the order in which the $X^T$ expression factors out of the derivative for $L$, $X^T$ would be on the `left` side of the expression for the gradient of $L$ with respect to $W$:\n",
    "\n",
    "$$ \\frac{\\partial \\Lambda}{\\partial u}(W) = \n",
    "W^T \\times \\frac{\\partial \\Lambda}{\\partial u}(S) \\times \\frac{\\partial \\sigma}{\\partial u}(N)$$\n",
    "\n",
    "In code, therefore, while we would have `dNdW = np.transpose(X, (1, 0))`, the next step would be:\n",
    "\n",
    "```python\n",
    "dLdW = np.dot(dNdW, dSdN)\n",
    "```\n",
    "\n",
    "instead of `dLdX = np.dot(dSdN, dNdX)` as before.\n",
    "\n",
    "---"
   ]
  },
  {
   "cell_type": "markdown",
   "metadata": {},
   "source": [
    "## # Conclusion\n",
    "---\n",
    "\n",
    "After this chapter, you should have confidence that you can understand complicated nested mathematical functions and reason out how they work by conceptualizing them as a series of boxes, each one representing a single constituent function, connected by strings. Specifically, you can write code to compute the derivatives of the outputs of such functions with respect to any of the inputs, even when there are matrix multiplications involving two-dimensional `ndarrays` involved, and understand the math behind *why* these derivative computations are correct. These foundational concepts are exactly what we’ll need to start building and training neural networks in the next chapter, and to build and train deep learning models from scratch in the chapters after that. Onward!"
   ]
  }
 ],
 "metadata": {
  "kernelspec": {
   "display_name": "Python 3",
   "language": "python",
   "name": "python3"
  },
  "language_info": {
   "codemirror_mode": {
    "name": "ipython",
    "version": 3
   },
   "file_extension": ".py",
   "mimetype": "text/x-python",
   "name": "python",
   "nbconvert_exporter": "python",
   "pygments_lexer": "ipython3",
   "version": "3.7.5"
  }
 },
 "nbformat": 4,
 "nbformat_minor": 2
}
