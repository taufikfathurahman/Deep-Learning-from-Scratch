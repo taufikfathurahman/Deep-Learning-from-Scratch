{
 "cells": [
  {
   "cell_type": "markdown",
   "metadata": {},
   "source": [
    "# **Chapter 1. Foundations**\n",
    "---\n",
    "---\n",
    "\n",
    "The aim of this chapter is to explain some foundational mental models that are essential for understanding how neural networks work. Specifically, we'll cover *nested mathematical functions and their derivatives.* We'll work our way up from the simplest possible building bloks to show that we can bild complicated functions made up of \"chain\" of constituent functions and, even when one of these functions is a matrix multiplication that takes in multiple inputs, compute the derivativeof the functions outputs with respect to their inputs.\n",
    "\n",
    "As we're getting our bearings around these foundational building blocks of neural networks, we'll systematically descrive each concept we introduce from three perspectives:\n",
    "* `Math`, in the form of an equation or equations\n",
    "* `Code`, with as little axtra syntax as possible (making Python as ideal choice)\n",
    "* A diagram explaining what is going on, of kind you would draw on a whitebboard during a coding interview.\n",
    "\n",
    "With that out of the way, it’s time to take our first steps. We’re going to start with some extremely simple building blocks to illustrate how we can understand different concepts in terms of these three perspectives. Our first building block will be a simple but critical concept: `the function`."
   ]
  },
  {
   "cell_type": "markdown",
   "metadata": {},
   "source": [
    "## # Functions\n",
    "---\n",
    "\n",
    "What is a function, and how we descrive it? As with neural nets, there are several ways to describe functions, none of which  individually paints complete picture. Rather than trying give a pithy one-sentence description, let's simply walk through three mental models one by one, playing the role of the blind men feeling different parts of the elephant."
   ]
  },
  {
   "cell_type": "markdown",
   "metadata": {},
   "source": [
    "### ## Math\n",
    "\n",
    "Here ara two exammples of functions, describbed in mathematical notation:\n",
    "* $f_1(x) = x^2$\n",
    "* $f_2(x) = max(x, 0)$\n",
    "\n",
    "This notations says that the functions, which we arbbitrarily call $f_1$ and $f_2$, take in a nuber $x$ as input and transform it into $x^2$ (in first case) of $max(x, 0)$ (in the second case)."
   ]
  },
  {
   "cell_type": "markdown",
   "metadata": {},
   "source": [
    "### ## Diagrams\n",
    "\n",
    "One way of depicting functions is to:\n",
    "1. Draw an $x-y$ plane (where $x$ refers to the horizontal axis and $y$ refer to vertical axis).\n",
    "2. Plot a bunch of points, where the x-coordinates of the points are (usually evenly spaced) inputs of the function over some range, and the y-coordinates are the outputs of the function over that range.\n",
    "3. Connect these plotted points.\n",
    "\n",
    "Figure 1-1 shows the plot of these two functions.\n",
    "\n",
    "<div align=\"center\">\n",
    "    <img src=\"https://learning.oreilly.com/library/view/deep-learning-from/9781492041405/assets/dlfs_0101.png\" width=\"600px\"/>\n",
    "    <i>Figure 1-1. Two continuous, mostly differentiable functions</i>\n",
    "</div>\n",
    "\n",
    "However, there is another way to depict functions that isn’t as useful when learning calculus but that will be very useful for us when thinking about deep learning models. We can think of functions as boxes that take in numbers as input and produce numbers as output, like minifactories that have their own internal rules for what happens to the input. Figure 1-2 shows both these functions described as general rules and how they operate on specific inputs.\n",
    "\n",
    "<div align=\"center\">\n",
    "    <img src=\"https://learning.oreilly.com/library/view/deep-learning-from/9781492041405/assets/dlfs_0102.png\" width=\"600px\"/>\n",
    "    <i>Figure 1-2. Another way of looking at these functions</i>\n",
    "</div>"
   ]
  },
  {
   "cell_type": "markdown",
   "metadata": {},
   "source": [
    "### ## Code\n",
    "\n",
    "Finally, we can describe these functions using code. Before we do, we should say a bit about the Python library on top of which we'll writting our functions: NumPy.\n",
    "\n",
    "<br>\n",
    "\n",
    "#### CODE CAVEAT #1: NUMPY\n",
    "\n",
    "NumPy is a widely used Python library for fast numeric computation, the internals of which are mostly written in C. Simply put: the data we deal with in neural networks will always be held in a multidimensional array that is almost always either one-, two-, three-, or four-dimensional, but especially two- or three-dimensional. The ndarray class from the NumPy library allows us to operate on these arrays in ways that are both (a) intuitive and (b) fast. To take the simplest possible example: if we were storing our data in Python lists (or lists of lists), adding or multiplying the lists elementwise using normal syntax wouldn’t work, whereas it does work for ndarrays:\n"
   ]
  },
  {
   "cell_type": "code",
   "execution_count": 1,
   "metadata": {},
   "outputs": [],
   "source": [
    "import os\n",
    "import matplotlib.pyplot as plt\n",
    "import matplotlib \n",
    "import numpy as np\n",
    "from numpy import ndarray\n",
    "%matplotlib inline\n",
    "\n",
    "from typing import Callable\n",
    "from typing import Dict"
   ]
  },
  {
   "cell_type": "code",
   "execution_count": 2,
   "metadata": {},
   "outputs": [],
   "source": [
    "np.set_printoptions(precision=4)"
   ]
  },
  {
   "cell_type": "code",
   "execution_count": 3,
   "metadata": {},
   "outputs": [
    {
     "name": "stdout",
     "output_type": "stream",
     "text": [
      "Python list operations:\n",
      "a + b :  [1, 2, 3, 4, 5, 6]\n",
      "a * b has no meaning for Python lists\n",
      "\n",
      "Numpy array operation:\n",
      "a + b :  [5 7 9]\n",
      "a * b :  [ 4 10 18]\n"
     ]
    }
   ],
   "source": [
    "print(\"Python list operations:\")\n",
    "\n",
    "a = [1, 2, 3]\n",
    "b = [4, 5, 6]\n",
    "\n",
    "print(\"a + b : \", a + b)\n",
    "\n",
    "try:\n",
    "    print(a * b)\n",
    "except TypeError:\n",
    "    print(\"a * b has no meaning for Python lists\")\n",
    "    \n",
    "print()\n",
    "print(\"Numpy array operation:\")\n",
    "\n",
    "a = np.array([1, 2, 3])\n",
    "b = np.array([4, 5, 6])\n",
    "\n",
    "print(\"a + b : \", a + b)\n",
    "print(\"a * b : \", a * b)"
   ]
  },
  {
   "cell_type": "markdown",
   "metadata": {},
   "source": [
    "ndarrays also have several features you'd expect from an n-dimensional array; each ndarray has n axis, indexed from 0, so that the first axis is 0, the second is 1, and so on. In particular, since we deal with 2D ndarrays often, we can think od axis = 0 as the rows and axis = 1 as the columns--see Figure 1-3.\n",
    "\n",
    "<div align=\"center\">\n",
    "    <img src=\"https://learning.oreilly.com/library/view/deep-learning-from/9781492041405/assets/dlfs_0103.png\" width=\"300px\"/>\n",
    "    <i>Figure 1-3. A 2D NumPy array, with axis = 0 as the rows and axis = 1 as the columns</i>\n",
    "</div>\n",
    "\n",
    "NumPy's ndarrays also support applying functions along these axes in intuitive ways. For example, summing along axis 0 (the *rows* for a 2D array) essentially \"collapses the array\" along that axis returning an array with one less dimension the the original array; for a 2D array, this is equivalent to summing each column:"
   ]
  },
  {
   "cell_type": "code",
   "execution_count": 4,
   "metadata": {},
   "outputs": [],
   "source": [
    "a = np.array([[1, 2, 3],\n",
    "             [4, 5, 6]])"
   ]
  },
  {
   "cell_type": "code",
   "execution_count": 5,
   "metadata": {},
   "outputs": [
    {
     "name": "stdout",
     "output_type": "stream",
     "text": [
      "a:\n",
      "[[1 2 3]\n",
      " [4 5 6]]\n",
      "a.sum(axis=0) :  [5 7 9]\n",
      "a.sum(axis=1) :  [ 6 15]\n"
     ]
    }
   ],
   "source": [
    "print(\"a:\")\n",
    "print(a)\n",
    "print(\"a.sum(axis=0) : \", a.sum(axis=0))\n",
    "print(\"a.sum(axis=1) : \", a.sum(axis=1))"
   ]
  },
  {
   "cell_type": "markdown",
   "metadata": {},
   "source": [
    "Finnaly, NumPy ndarrays support adding a 1D array to the last axis; for a 2D aray a with R rows and C columns, this means we can add a 1D array b of length C and NumPy will do the additional in the intuitive way, adding the elements to each row of a:"
   ]
  },
  {
   "cell_type": "code",
   "execution_count": 6,
   "metadata": {},
   "outputs": [
    {
     "name": "stdout",
     "output_type": "stream",
     "text": [
      "a + b : \n",
      " [[11 22 33]\n",
      " [14 25 36]]\n"
     ]
    }
   ],
   "source": [
    "b = np.array([10, 20, 30])\n",
    "\n",
    "print(\"a + b : \\n\", a + b)"
   ]
  },
  {
   "cell_type": "markdown",
   "metadata": {},
   "source": [
    "#### CODE CAVEAT #2: TYPE - CHECKED FUNCTIONS\n",
    "\n",
    "As I've mentioned, the primary goal of the code we write in this book is to make the concepts I'm explaining precise and clear. This will get more challenging as the book goes on, as we'll be writing functions with many arguments as part of complicated class. To combat this, we'll use functions with type signatures throughtout as follows:\n",
    "\n",
    "```python\n",
    "def __init__(self,\n",
    "             layers: List[Layer],\n",
    "             loss: Loss,\n",
    "             learning_rate: Float = 0.01) -> None:\n",
    "```\n",
    "\n",
    "This type signature alone give you some idea of what the class is used for. By contrast, consider the following type signature that we could use the define an operation:\n",
    "\n",
    "```python\n",
    "def operation(x1, x2):\n",
    "```\n",
    "\n",
    "This type signature by itself gives you no hint as to what is going on; only by printing out each object’s type, seeing what operations get performed on each object, or guessing based on the names x1 and x2 could we understand what is going on in this function. I can instead define a function with a type signature as follows:\n",
    "\n",
    "```python\n",
    "def operation(x1: ndarray, x2: ndarray) -> ndarray:\n",
    "```\n",
    "\n",
    "You know right away that this is a function that takes in two ndarrays, probably combines them in some way, and outputs the result of that combination. Because of the increased clarity they provide, we’ll use type-checked functions throughout this book."
   ]
  },
  {
   "cell_type": "markdown",
   "metadata": {},
   "source": [
    "#### BASIC FUNCTIONS IN NUMPY\n",
    "\n",
    "With these preliminaries in mind, let's write up the functions we defined earlier in NumPy:"
   ]
  },
  {
   "cell_type": "code",
   "execution_count": 7,
   "metadata": {},
   "outputs": [],
   "source": [
    "def square(x: ndarray) -> ndarray:\n",
    "    '''\n",
    "    Square each element in the input ndarray.\n",
    "    '''\n",
    "    return np.power(x, 2)\n",
    "\n",
    "def leaky_relu(x: ndarray) -> ndarray:\n",
    "    '''\n",
    "    Apply \"Leaky ReLU\" function to each element in ndarray.\n",
    "    '''\n",
    "    return np.maximum(0.2 * x, x)"
   ]
  },
  {
   "cell_type": "code",
   "execution_count": 8,
   "metadata": {},
   "outputs": [],
   "source": [
    "IMG_FOLDER_PATH = os.path.join(\"asset\", \"chapter_1\", \"images\")\n",
    "PDF_FOLDER_PATH = os.path.join(\"asset\", \"chapter_1\", \"pdf_images\")"
   ]
  },
  {
   "cell_type": "code",
   "execution_count": 10,
   "metadata": {},
   "outputs": [
    {
     "data": {
      "image/png": "[encoded data removed]",
      "text/plain": [
       "<Figure size 864x432 with 2 Axes>"
      ]
     },
     "metadata": {
      "needs_background": "light"
     },
     "output_type": "display_data"
    }
   ],
   "source": [
    "fig, ax = plt.subplots(1, 2, sharey=True, figsize=(12, 6))\n",
    "\n",
    "input_range = np.arange(-2, 2, 0.01)\n",
    "ax[0].plot(input_range, square(input_range))\n",
    "ax[0].set_title('Square function')\n",
    "ax[0].set_xlabel('input')\n",
    "ax[0].set_ylabel('input')\n",
    "\n",
    "ax[1].plot(input_range, leaky_relu(input_range))\n",
    "ax[1].set_title('\"ReLU\" function')\n",
    "ax[1].set_xlabel('input')\n",
    "ax[1].set_ylabel('output')\n",
    "\n",
    "plt.savefig(os.path.join(IMG_FOLDER_PATH, \"01_two_functions.png\"))\n",
    "plt.savefig(os.path.join(PDF_FOLDER_PATH, \"01_two_functions.pdf\"))"
   ]
  },
  {
   "cell_type": "markdown",
   "metadata": {},
   "source": [
    "<h4 align=\"center\"><strong>NOTE</strong></h4>\n",
    "\n",
    "> One of NumPy’s quirks is that many functions can be applied to ndarrays either by writing np.function_name(ndarray) or by writing ndarray.function_name. For example, the preceding relu function could be written as: x.clip(min=0). We’ll try to be consistent and use the np.function_name(ndarray) convention throughout—in particular, we’ll avoid tricks such as ndarray.T for transposing a two-dimensional ndarray, instead writing np.transpose(ndarray, (1, 0))."
   ]
  }
 ],
 "metadata": {
  "kernelspec": {
   "display_name": "Python 3",
   "language": "python",
   "name": "python3"
  },
  "language_info": {
   "codemirror_mode": {
    "name": "ipython",
    "version": 3
   },
   "file_extension": ".py",
   "mimetype": "text/x-python",
   "name": "python",
   "nbconvert_exporter": "python",
   "pygments_lexer": "ipython3",
   "version": "3.7.5"
  }
 },
 "nbformat": 4,
 "nbformat_minor": 2
}
