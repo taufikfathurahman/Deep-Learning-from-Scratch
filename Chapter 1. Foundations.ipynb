{
 "cells": [
  {
   "cell_type": "markdown",
   "metadata": {},
   "source": [
    "# **Chapter 1. Foundations**\n",
    "---\n",
    "---\n",
    "\n",
    "The aim of this chapter is to explain some foundational mental models that are essential for understanding how neural networks work. Specifically, we'll cover *nested mathematical functions and their derivatives.* We'll work our way up from the simplest possible building bloks to show that we can bild complicated functions made up of \"chain\" of constituent functions and, even when one of these functions is a matrix multiplication that takes in multiple inputs, compute the derivativeof the functions outputs with respect to their inputs.\n",
    "\n",
    "As we're getting our bearings around these foundational building blocks of neural networks, we'll systematically descrive each concept we introduce from three perspectives:\n",
    "* `Math`, in the form of an equation or equations\n",
    "* `Code`, with as little axtra syntax as possible (making Python as ideal choice)\n",
    "* A diagram explaining what is going on, of kind you would draw on a whitebboard during a coding interview.\n",
    "\n",
    "With that out of the way, it’s time to take our first steps. We’re going to start with some extremely simple building blocks to illustrate how we can understand different concepts in terms of these three perspectives. Our first building block will be a simple but critical concept: `the function`."
   ]
  },
  {
   "cell_type": "markdown",
   "metadata": {},
   "source": [
    "## # Functions\n",
    "---\n",
    "\n",
    "What is a function, and how we descrive it? As with neural nets, there are several ways to describe functions, none of which  individually paints complete picture. Rather than trying give a pithy one-sentence description, let's simply walk through three mental models one by one, playing the role of the blind men feeling different parts of the elephant."
   ]
  },
  {
   "cell_type": "code",
   "execution_count": null,
   "metadata": {},
   "outputs": [],
   "source": []
  },
  {
   "cell_type": "markdown",
   "metadata": {},
   "source": [
    "### ## Math\n",
    "\n",
    "Here ara two exammples of functions, describbed in mathematical notation:\n",
    "* $f_1(x) = x^2$\n",
    "* $f_2(x) = max(x, 0)$\n",
    "\n",
    "This notations says that the functions, which we arbbitrarily call $f_1$ and $f_2$, take in a nuber $x$ as input and transform it into $x^2$ (in first case) of $max(x, 0)$ (in the second case)."
   ]
  },
  {
   "cell_type": "markdown",
   "metadata": {},
   "source": [
    "### ## Diagrams\n",
    "\n",
    "One way of depicting functions is to:\n",
    "1. Draw an $x-y$ plane (where $x$ refers to the horizontal axis and $y$ refer to vertical axis).\n",
    "2. Plot a bunch of points, where the x-coordinates of the points are (usually evenly spaced) inputs of the function over some range, and the y-coordinates are the outputs of the function over that range.\n",
    "3. Connect these plotted points.\n",
    "\n",
    "Figure 1-1 shows the plot of these two functions.\n",
    "\n",
    "<div align=\"center\">\n",
    "    <img src=\"https://learning.oreilly.com/library/view/deep-learning-from/9781492041405/assets/dlfs_0101.png\" width=\"600px\"/>\n",
    "    <i>Figure 1-1. Two continuous, mostly differentiable functions</i>\n",
    "</div>\n",
    "\n",
    "However, there is another way to depict functions that isn’t as useful when learning calculus but that will be very useful for us when thinking about deep learning models. We can think of functions as boxes that take in numbers as input and produce numbers as output, like minifactories that have their own internal rules for what happens to the input. Figure 1-2 shows both these functions described as general rules and how they operate on specific inputs.\n",
    "\n",
    "<div align=\"center\">\n",
    "    <img src=\"https://learning.oreilly.com/library/view/deep-learning-from/9781492041405/assets/dlfs_0102.png\" width=\"600px\"/>\n",
    "    <i>Figure 1-2. Another way of looking at these functions</i>\n",
    "</div>"
   ]
  },
  {
   "cell_type": "markdown",
   "metadata": {},
   "source": [
    "### ## Code\n",
    "\n",
    "Finally, we can describe these functions using code. Before we do, we should say a bit about the Python library on top of which we'll writting our functions: NumPy.\n",
    "\n",
    "#### CODE CAVEAT #1: NUMPY\n",
    "\n",
    "NumPy is a widely used Python library for fast numeric computation, the internals of which are mostly written in C. Simply put: the data we deal with in neural networks will always be held in a multidimensional array that is almost always either one-, two-, three-, or four-dimensional, but especially two- or three-dimensional. The ndarray class from the NumPy library allows us to operate on these arrays in ways that are both (a) intuitive and (b) fast. To take the simplest possible example: if we were storing our data in Python lists (or lists of lists), adding or multiplying the lists elementwise using normal syntax wouldn’t work, whereas it does work for ndarrays:\n"
   ]
  },
  {
   "cell_type": "code",
   "execution_count": 1,
   "metadata": {},
   "outputs": [],
   "source": [
    "import os\n",
    "import matplotlib.pyplot as plt\n",
    "import matplotlib \n",
    "import numpy as np\n",
    "from numpy import ndarray\n",
    "%matplotlib inline\n",
    "\n",
    "from typing import Callable, Dict, List"
   ]
  },
  {
   "cell_type": "code",
   "execution_count": 2,
   "metadata": {},
   "outputs": [],
   "source": [
    "np.set_printoptions(precision=4)"
   ]
  },
  {
   "cell_type": "code",
   "execution_count": 3,
   "metadata": {},
   "outputs": [
    {
     "name": "stdout",
     "output_type": "stream",
     "text": [
      "Python list operations:\n",
      "a + b :  [1, 2, 3, 4, 5, 6]\n",
      "a * b has no meaning for Python lists\n",
      "\n",
      "Numpy array operation:\n",
      "a + b :  [5 7 9]\n",
      "a * b :  [ 4 10 18]\n"
     ]
    }
   ],
   "source": [
    "print(\"Python list operations:\")\n",
    "\n",
    "a = [1, 2, 3]\n",
    "b = [4, 5, 6]\n",
    "\n",
    "print(\"a + b : \", a + b)\n",
    "\n",
    "try:\n",
    "    print(a * b)\n",
    "except TypeError:\n",
    "    print(\"a * b has no meaning for Python lists\")\n",
    "    \n",
    "print()\n",
    "print(\"Numpy array operation:\")\n",
    "\n",
    "a = np.array([1, 2, 3])\n",
    "b = np.array([4, 5, 6])\n",
    "\n",
    "print(\"a + b : \", a + b)\n",
    "print(\"a * b : \", a * b)"
   ]
  },
  {
   "cell_type": "markdown",
   "metadata": {},
   "source": [
    "ndarrays also have several features you'd expect from an n-dimensional array; each ndarray has n axis, indexed from 0, so that the first axis is 0, the second is 1, and so on. In particular, since we deal with 2D ndarrays often, we can think od axis = 0 as the rows and axis = 1 as the columns--see Figure 1-3.\n",
    "\n",
    "<div align=\"center\">\n",
    "    <img src=\"https://learning.oreilly.com/library/view/deep-learning-from/9781492041405/assets/dlfs_0103.png\" width=\"300px\"/>\n",
    "    <i>Figure 1-3. A 2D NumPy array, with axis = 0 as the rows and axis = 1 as the columns</i>\n",
    "</div>\n",
    "\n",
    "NumPy's ndarrays also support applying functions along these axes in intuitive ways. For example, summing along axis 0 (the *rows* for a 2D array) essentially \"collapses the array\" along that axis returning an array with one less dimension the the original array; for a 2D array, this is equivalent to summing each column:"
   ]
  },
  {
   "cell_type": "code",
   "execution_count": 4,
   "metadata": {},
   "outputs": [],
   "source": [
    "a = np.array([[1, 2, 3],\n",
    "             [4, 5, 6]])"
   ]
  },
  {
   "cell_type": "code",
   "execution_count": 5,
   "metadata": {},
   "outputs": [
    {
     "name": "stdout",
     "output_type": "stream",
     "text": [
      "a:\n",
      "[[1 2 3]\n",
      " [4 5 6]]\n",
      "a.sum(axis=0) :  [5 7 9]\n",
      "a.sum(axis=1) :  [ 6 15]\n"
     ]
    }
   ],
   "source": [
    "print(\"a:\")\n",
    "print(a)\n",
    "print(\"a.sum(axis=0) : \", a.sum(axis=0))\n",
    "print(\"a.sum(axis=1) : \", a.sum(axis=1))"
   ]
  },
  {
   "cell_type": "markdown",
   "metadata": {},
   "source": [
    "Finnaly, NumPy ndarrays support adding a 1D array to the last axis; for a 2D aray a with R rows and C columns, this means we can add a 1D array b of length C and NumPy will do the additional in the intuitive way, adding the elements to each row of a:"
   ]
  },
  {
   "cell_type": "code",
   "execution_count": 6,
   "metadata": {},
   "outputs": [
    {
     "name": "stdout",
     "output_type": "stream",
     "text": [
      "a + b : \n",
      " [[11 22 33]\n",
      " [14 25 36]]\n"
     ]
    }
   ],
   "source": [
    "b = np.array([10, 20, 30])\n",
    "\n",
    "print(\"a + b : \\n\", a + b)"
   ]
  },
  {
   "cell_type": "markdown",
   "metadata": {},
   "source": [
    "#### CODE CAVEAT #2: TYPE - CHECKED FUNCTIONS\n",
    "\n",
    "As I've mentioned, the primary goal of the code we write in this book is to make the concepts I'm explaining precise and clear. This will get more challenging as the book goes on, as we'll be writing functions with many arguments as part of complicated class. To combat this, we'll use functions with type signatures throughtout as follows:\n",
    "\n",
    "```python\n",
    "def __init__(self,\n",
    "             layers: List[Layer],\n",
    "             loss: Loss,\n",
    "             learning_rate: Float = 0.01) -> None:\n",
    "```\n",
    "\n",
    "This type signature alone give you some idea of what the class is used for. By contrast, consider the following type signature that we could use the define an operation:\n",
    "\n",
    "```python\n",
    "def operation(x1, x2):\n",
    "```\n",
    "\n",
    "This type signature by itself gives you no hint as to what is going on; only by printing out each object’s type, seeing what operations get performed on each object, or guessing based on the names x1 and x2 could we understand what is going on in this function. I can instead define a function with a type signature as follows:\n",
    "\n",
    "```python\n",
    "def operation(x1: ndarray, x2: ndarray) -> ndarray:\n",
    "```\n",
    "\n",
    "You know right away that this is a function that takes in two ndarrays, probably combines them in some way, and outputs the result of that combination. Because of the increased clarity they provide, we’ll use type-checked functions throughout this book."
   ]
  },
  {
   "cell_type": "markdown",
   "metadata": {},
   "source": [
    "#### BASIC FUNCTIONS IN NUMPY\n",
    "\n",
    "With these preliminaries in mind, let's write up the functions we defined earlier in NumPy:"
   ]
  },
  {
   "cell_type": "code",
   "execution_count": 7,
   "metadata": {},
   "outputs": [],
   "source": [
    "def square(x: ndarray) -> ndarray:\n",
    "    '''\n",
    "    Square each element in the input ndarray.\n",
    "    '''\n",
    "    return np.power(x, 2)\n",
    "\n",
    "def leaky_relu(x: ndarray) -> ndarray:\n",
    "    '''\n",
    "    Apply \"Leaky ReLU\" function to each element in ndarray.\n",
    "    '''\n",
    "    return np.maximum(0.2 * x, x)"
   ]
  },
  {
   "cell_type": "code",
   "execution_count": 8,
   "metadata": {},
   "outputs": [],
   "source": [
    "IMG_FOLDER_PATH = os.path.join(\"asset\", \"chapter_1\", \"images\")\n",
    "PDF_FOLDER_PATH = os.path.join(\"asset\", \"chapter_1\", \"pdf_images\")"
   ]
  },
  {
   "cell_type": "code",
   "execution_count": 9,
   "metadata": {},
   "outputs": [
    {
     "data": {
      "image/png": "[encoded data removed]",
      "text/plain": [
       "<Figure size 864x432 with 2 Axes>"
      ]
     },
     "metadata": {
      "needs_background": "light"
     },
     "output_type": "display_data"
    }
   ],
   "source": [
    "fig, ax = plt.subplots(1, 2, sharey=True, figsize=(12, 6))\n",
    "\n",
    "input_range = np.arange(-2, 2, 0.01)\n",
    "ax[0].plot(input_range, square(input_range))\n",
    "ax[0].set_title('Square function')\n",
    "ax[0].set_xlabel('input')\n",
    "ax[0].set_ylabel('input')\n",
    "\n",
    "ax[1].plot(input_range, leaky_relu(input_range))\n",
    "ax[1].set_title('\"ReLU\" function')\n",
    "ax[1].set_xlabel('input')\n",
    "ax[1].set_ylabel('output')\n",
    "\n",
    "plt.savefig(os.path.join(IMG_FOLDER_PATH, \"01_two_functions.png\"))\n",
    "plt.savefig(os.path.join(PDF_FOLDER_PATH, \"01_two_functions.pdf\"))"
   ]
  },
  {
   "cell_type": "markdown",
   "metadata": {},
   "source": [
    "<h3 align=\"center\"><strong>NOTE</strong></h3>\n",
    "\n",
    "> One of NumPy’s quirks is that many functions can be applied to ndarrays either by writing np.function_name(ndarray) or by writing ndarray.function_name. For example, the preceding relu function could be written as: x.clip(min=0). We’ll try to be consistent and use the np.function_name(ndarray) convention throughout—in particular, we’ll avoid tricks such as ndarray.T for transposing a two-dimensional ndarray, instead writing np.transpose(ndarray, (1, 0))."
   ]
  },
  {
   "cell_type": "markdown",
   "metadata": {},
   "source": [
    "## # Derivatives\n",
    "---\n",
    "\n",
    "Derivatives, like functions, are an extremely important concept for understanding deep learning that many of you are probably familiar with. Also like functions, they can be depicted in multiple ways. We’ll start by simply saying at a high level that the derivative of a function at a point is the “rate of change” of the output of the function with respect to its input at that point. Let’s now walk through the same three perspectives on derivatives that we covered for functions to gain a better mental model for how derivatives work."
   ]
  },
  {
   "cell_type": "markdown",
   "metadata": {},
   "source": [
    "### ## Math\n",
    "\n",
    "First, we'll get mathematically precise: we can describe this numer--how much the output of $f$ changes as we change its input at a particualar value $a$ of the input--as a limit:\n",
    "\n",
    "$$ \\frac{df}{du}(a)=\\lim_{\\Delta \\rightarrow 0}\\frac{f(a + \\Delta) - f(a - \\Delta)}{2 \\times \\Delta} $$\n",
    "\n",
    "This limit can bbe approximated numerically by setting a very small value for $\\delta$, such as 0.0001, so we can compute the derivatice as:\n",
    "\n",
    "$$ \\frac{df}{du}(a)=\\lim_{\\Delta \\rightarrow 0}\\frac{f(a + 0.0001) - f(a - 0.0001)}{0.002} $$\n",
    "\n",
    "While accurate, this is onle one part of a full mental model of derivatives. Let's look at them from another perspective: a diagram."
   ]
  },
  {
   "cell_type": "markdown",
   "metadata": {},
   "source": [
    "### ## Diagram\n",
    "\n",
    "First, the familiar way: if we simply draw a tangent line to the Cartesian representation of the function $f$, the derivative of $f$ at point $a$ is just the slope of this line at $a$. As with the mathematical descriptions in the prior subsecsion, there are two ways we can actually calculate the slope of this line. The first would be to use calculus to actually calcualte the limit. The second would be to just take the slope of the line connecting $f$ at $a - 0.001$ and $a+0.001$. The latter method is depicted in Figure 1-4 and should e familiar to anyone who has taken calculus.\n",
    "\n",
    "<div align=\"center\">\n",
    "    <img src=\"https://learning.oreilly.com/library/view/deep-learning-from/9781492041405/assets/dlfs_0104.png\" width=\"600px\"/>\n",
    "    <i>Figure 1-4. Derivatives as slopes</i>\n",
    "</div>\n",
    "\n",
    "As we saw in the prior section, another way of thisnking of functions is as mini-factories. Now think of the inputs to those factories being connected to the outputs by a string. The derivative is equal to the answer to the fact that the function may be asymmetric at $a$, pull down on $a$ by some small amount--by what multiple of this small amount will the output change, given the inner workings of the factory? This is depicted in Figure 1-5.\n",
    "\n",
    "<div align=\"center\">\n",
    "    <img src=\"https://learning.oreilly.com/library/view/deep-learning-from/9781492041405/assets/dlfs_0105.png\" width=\"400px\"/>\n",
    "    <i>Figure 1-5. Another way of visualizing derivatives</i>\n",
    "</div>\n",
    "\n",
    "This second representation will turn out to be more important the the dirst one for understanding deep learning."
   ]
  },
  {
   "cell_type": "markdown",
   "metadata": {},
   "source": [
    "### ## Code\n",
    "\n",
    "Finally, we can code up the apprixamtion to the derivative that we saw previously:"
   ]
  },
  {
   "cell_type": "code",
   "execution_count": 10,
   "metadata": {},
   "outputs": [],
   "source": [
    "def deriv(func: Callable[[ndarray], ndarray], \n",
    "          input_: ndarray, \n",
    "          diff: float = 0.001) -> ndarray:\n",
    "    '''\n",
    "    Evaluates the derivatives of a fucntuion \"func\" at every element in the \"input_\" array.\n",
    "    '''\n",
    "    return (func(input_ + diff) - func(input_ - diff)) / (2 * diff)"
   ]
  },
  {
   "cell_type": "markdown",
   "metadata": {},
   "source": [
    "<h3 align=\"center\"><strong>NOTE</strong></h3>\n",
    "\n",
    "> When we say that “something is a function of something else”—for example, that $P$ is a function of $E$ (letters chosen randomly on purpose), what we mean is that there is some function $f$ such that $f(E) = P$—or equivalently, there is a function $f$ that takes in $E$ objects and produces $P$ objects. We might also think of this as meaning that $P$ is defined as whatever results when we apply the function $f$ to $E$:\n",
    "<img src=\"https://learning.oreilly.com/library/view/deep-learning-from/9781492041405/assets/dlfs_01in01.png\" width=\"400px\"/>\n",
    "And we would code this up as:\n",
    "\n",
    "```python\n",
    "def f(input_: ndarray) -> ndarray:\n",
    "    #some transformation(s)\n",
    "    return output\n",
    "\n",
    "P = f(E)\n",
    "```"
   ]
  },
  {
   "cell_type": "markdown",
   "metadata": {},
   "source": [
    "## # Nested Functions\n",
    "---\n",
    "\n",
    "Now we’ll cover a concept that will turn out to be fundamental to understanding neural networks: functions can be “nested” to form “composite” functions. What exactly do I mean by “nested”? I mean that if we have two functions that by mathematical convention we call f1 and f2, the output of one of the functions becomes the input to the next one, so that we can “string them together.”"
   ]
  },
  {
   "cell_type": "markdown",
   "metadata": {},
   "source": [
    "### ## Diagram\n",
    "\n",
    "The most natural way to represent a nested function is with the “minifactory” or “box” representation. As Figure 1-6 shows, an input goes into the first function, gets transformed, and comes out; then it goes into the second function and gets transformed again, and we get our final output.\n",
    "\n",
    "<div align=\"center\">\n",
    "    <img src=\"https://learning.oreilly.com/library/view/deep-learning-from/9781492041405/assets/dlfs_0106.png\" width=\"600px\"/>\n",
    "    <i>Figure 1-6. Nested functions, naturally</i>\n",
    "</div>"
   ]
  },
  {
   "cell_type": "markdown",
   "metadata": {},
   "source": [
    "### ## Math\n",
    "\n",
    "We should also include the less intuitive mathematical representation:\n",
    "\n",
    "$$f_2(f_1(x)) = y$$\n",
    "\n",
    "This is less intutive beacause of the quirk that nasted functions are read \"from the outside in\" but in operations are in fact performed \"from the inside out\". For example, through $f2(f1(x)) = y$ is read \"$f_2$ of $f_1$ of $x$\" what it really means is to \"first apply $f_1$ to $x$m and then apply $f_2$ to the result of applying $f_1$ to $x$\"."
   ]
  },
  {
   "cell_type": "markdown",
   "metadata": {},
   "source": [
    "### ## Code\n",
    "\n",
    "First, we'll define a data type for nasted functions:"
   ]
  },
  {
   "cell_type": "code",
   "execution_count": 11,
   "metadata": {},
   "outputs": [],
   "source": [
    "# A Function take in an ndarray as an argument and produces an ndarray\n",
    "Array_Function = Callable[[ndarray], ndarray]\n",
    "\n",
    "# A Chain is a list of functions\n",
    "Chain = List[Array_Function]"
   ]
  },
  {
   "cell_type": "markdown",
   "metadata": {},
   "source": [
    "Then we'll define how data goes through chain, first of length 2:"
   ]
  },
  {
   "cell_type": "code",
   "execution_count": 12,
   "metadata": {},
   "outputs": [],
   "source": [
    "def chain_length_2(chain: Chain, \n",
    "                   x: ndarray) -> ndarray:\n",
    "    '''\n",
    "    Evaluates two functions in a row, in a \"Chain\".\n",
    "    '''\n",
    "    assert len(chain) == 2, \\\n",
    "    \"Length of input 'chain' should be 2\"\n",
    "    \n",
    "    f1 = chain[0]\n",
    "    f2 = chain[1]\n",
    "    \n",
    "    return f2(f1(x))"
   ]
  },
  {
   "cell_type": "markdown",
   "metadata": {},
   "source": [
    "### ## Another Diagram\n",
    "\n",
    "Depicting the nested function using the box representation shows us that this composite function is really just a single function. Thus, we can represent this function as simply $f1 f2$, as shown in Figure 1-7.\n",
    "\n",
    "<div align=\"center\">\n",
    "    <img src=\"https://learning.oreilly.com/library/view/deep-learning-from/9781492041405/assets/dlfs_0107.png\" width=\"400px\"/>\n",
    "    <i>Figure 1-7. Another way to think of nested functions</i>\n",
    "</div>\n",
    "\n",
    "Moreover, a theorem from calculus tells us that a composite function made up of “mostly differentiable” functions is itself mostly differentiable! Thus, we can think of $f1f2$ as just another function that we can compute derivatives of—and computing derivatives of composite functions will turn out to be essential for training deep learning models.\n",
    "\n",
    "However, we need a formula to be able to compute this composite function’s derivative in terms of the derivatives of its constituent functions. That’s what we’ll cover next."
   ]
  },
  {
   "cell_type": "markdown",
   "metadata": {},
   "source": [
    "## # The Chain Rule\n",
    "---\n",
    "\n",
    "The chain rule is a mathematical theorem that lets us compute derivatives of composite functions. Deep learning models are, mathematically, composite functions, and reasoning about their derivatives is essential to training them, as we'll see in  the next couple of chapters."
   ]
  },
  {
   "cell_type": "markdown",
   "metadata": {},
   "source": [
    "### ## Math\n",
    "\n",
    "Mathematically, the theorem states--in a rather nonintuitive form-- that, for a given values x,\n",
    "\n",
    "$$ \\frac{df_2}{dx}(x) = \\frac{df_2}{du}(f_1(x)) * \\frac{df_1}{dx}(x) $$\n",
    "\n",
    "where $u$ is simply a dummy valriable representing the input to a function."
   ]
  },
  {
   "cell_type": "markdown",
   "metadata": {},
   "source": [
    "<h3 align=\"center\"><strong>NOTE</strong></h3>\n",
    "\n",
    "> When describing the derivative of a function $f$ with one input and output, we can denote the function that represents the derivative of this function as $\\frac{df}{du}$. We could use a different dummy variable in place of $u$—it doesn’t matter, just as $f(x) = x^2$ and $f(y) = y^2$ mean the same thing. <br><br>\n",
    "On the other hand, later on we’ll deal with functions that take in multiple inputs, say, both $x$ and $y$. Once we get there, it will make sense to write $\\frac{df}{dx}$ and have it mean something different than $\\frac{df}{dy}$. <br><br>\n",
    "This is why in the preceding formula we denote all the derivatives with a $u$ on the bottom: both $f_1$ and $f_2$ are functions that take in one input and produce one output, and in such cases (of functions with one input and one output) we’ll use u in the derivative notation."
   ]
  },
  {
   "cell_type": "markdown",
   "metadata": {},
   "source": [
    "### ## Diagram\n",
    "\n",
    "The preceding formula does not give much intuition into the chain rule. For that, the box representation is much more helpful. Let’s reason through what the derivative “should” be in the simple case of $f_1 f_2$.\n",
    "\n",
    "<div align=\"center\">\n",
    "    <img src=\"https://learning.oreilly.com/library/view/deep-learning-from/9781492041405/assets/dlfs_0108.png\" width=\"600px\"/>\n",
    "    <i>Figure 1-8. An illustration of the chain rule</i>\n",
    "</div>\n",
    "\n",
    "Intutitively, using the diagram in Figure 1-8, the derivative of the composite function *should* be a sort of product of the derivatives of its constituent functions. Let's say we feed the value $5$ into the first function, and let's say futher that computing the * derivative* of the first functions at $u = 5$ gives us a value of $3$--that is, $\\frac{df_1}{du}(5) = 3$.\n",
    "\n",
    "Let’s say that we then take the value of the function that comes out of the first box--let’s suppose it is $1$, so that $f_1(5) = 1$--and compute the derivative of the second function $f_2$ at this value: that is, $\\frac{df_2}{du}(1)$. We find that this value is $–2$.\n",
    "\n",
    "If we think about these functions as being literally strung together, then if changing the input to box two by $1$ unit yields a change of $–2$ units in the output of box two, changing the input to box two by $3$ units should change the output to box two by $–2 \\times 3 = –6$ units. This is why in the formula for the chain rule, the final result is ultimately a product: $\\frac{df_2}{du}(f1(x)) times \\frac{df_1}{du}(x)$.\n",
    "\n",
    "So by considering the diagram and the math, we can reason through what the derivative output of a nesdted function with respect to its input ough to be, using the chain rule, What might the code instructions for the computation of this derivative look like?"
   ]
  },
  {
   "cell_type": "markdown",
   "metadata": {},
   "source": [
    "### ## Code\n",
    "\n",
    "Let's code this up and show that computation derivatives in this way goes in fact yield results that \"look correct.\" We'll use the `sequare` function from \"Basic functions in NumPy\" along with `sigmoid`, another functions that ends up being important in deep learning:"
   ]
  },
  {
   "cell_type": "code",
   "execution_count": 13,
   "metadata": {},
   "outputs": [],
   "source": [
    "def sigmoid(x: ndarray) -> ndarray:\n",
    "    '''\n",
    "    Apply the sigmoid function to each element in the input array.\n",
    "    '''\n",
    "    return 1 / (1 + np.exp(-x))"
   ]
  },
  {
   "cell_type": "markdown",
   "metadata": {},
   "source": [
    "And now we code up the chain rule:"
   ]
  },
  {
   "cell_type": "code",
   "execution_count": 14,
   "metadata": {},
   "outputs": [],
   "source": [
    "def chain_deriv_2(chain: Chain,\n",
    "                  input_range: ndarray) -> ndarray:\n",
    "    '''\n",
    "    Uses the chain rule to compute the derivative of two nasted functions:\n",
    "    (f2(f1(x))' = f2'(f1(x)) * f1'(x)\n",
    "    '''\n",
    "    assert len(chain) == 2, \\\n",
    "    \"This function requires 'chain' objects of length 2\"\n",
    "    \n",
    "    assert input_range.ndim == 1, \\\n",
    "    \"Function rquires a 1 demensional ndarray as input_range\"\n",
    "    \n",
    "    f1 = chain[0]\n",
    "    f2 = chain[1]\n",
    "    \n",
    "    # df1/dx\n",
    "    f1_of_x = f1(input_range)\n",
    "    \n",
    "    # df1/du\n",
    "    df1dx = deriv(f1, input_range)\n",
    "    \n",
    "    # df2/du(f1(x))\n",
    "    df2du = deriv(f2, f1(input_range))\n",
    "    \n",
    "    return df1dx * df2du"
   ]
  },
  {
   "cell_type": "markdown",
   "metadata": {},
   "source": [
    "Figure 1-9 plots the results and shows that the chain rule works:"
   ]
  },
  {
   "cell_type": "code",
   "execution_count": 15,
   "metadata": {},
   "outputs": [],
   "source": [
    "def plot_chain(ax,\n",
    "               chain: Chain, \n",
    "               input_range: ndarray) -> None:\n",
    "    '''\n",
    "    Plots a chain function - a function made up of \n",
    "    multiple consecutive ndarray -> ndarray mappings -\n",
    "    across the input_range\n",
    "    \n",
    "    ax: matplotlib Subplot for plotting\n",
    "    '''\n",
    "    \n",
    "    assert input_range.ndim == 1, \\\n",
    "    \"Function requires a 1 dimensional ndarray as input_range\"\n",
    "    \n",
    "    output_range = chain_length_2(chain, input_range)\n",
    "    ax.plot(input_range, output_range)"
   ]
  },
  {
   "cell_type": "code",
   "execution_count": 16,
   "metadata": {},
   "outputs": [],
   "source": [
    "def plot_chain_deriv(ax,\n",
    "                     chain: Chain,\n",
    "                     input_range: ndarray) -> ndarray:\n",
    "    '''\n",
    "    Uses the chain rule to plot the derivative of a \n",
    "    function consisting of two nasted functions.\n",
    "    \n",
    "    ax: matplotlib Subplot for plotting\n",
    "    '''\n",
    "    output_range = chain_deriv_2(chain, input_range)\n",
    "    ax.plot(input_range, output_range)"
   ]
  },
  {
   "cell_type": "code",
   "execution_count": 17,
   "metadata": {},
   "outputs": [
    {
     "data": {
      "image/png": "[encoded data removed]",
      "text/plain": [
       "<Figure size 1152x576 with 2 Axes>"
      ]
     },
     "metadata": {
      "needs_background": "light"
     },
     "output_type": "display_data"
    }
   ],
   "source": [
    "fig, ax = plt.subplots(1, 2, sharey=True, figsize=(16, 8))\n",
    "\n",
    "chain_1 = [square, sigmoid]\n",
    "chain_2 = [sigmoid, square]\n",
    "\n",
    "PLOT_RANGE = np.arange(-3, 3, 0.01)\n",
    "\n",
    "plot_chain(ax[0], chain_1, PLOT_RANGE)\n",
    "plot_chain_deriv(ax[0], chain_1, PLOT_RANGE)\n",
    "\n",
    "ax[0].legend([\"$f(x)$\", \"$\\\\frac{df}{dx}$\"])\n",
    "ax[0].set_title(\"Function and derivative for\\n$f(x) = sigmoid(square(x))$\")\n",
    "\n",
    "plot_chain(ax[1], chain_2, PLOT_RANGE)\n",
    "plot_chain_deriv(ax[1], chain_2, PLOT_RANGE)\n",
    "\n",
    "ax[1].legend([\"$f(x)$\", \"$\\\\frac{df}{dx}$\"])\n",
    "ax[1].set_title(\"Function and derivative for\\n$f(x) = square(sigmoid(x))$\")\n",
    "\n",
    "plt.savefig(os.path.join(IMG_FOLDER_PATH, \"02_plot_chain_rule_1.png\"))\n",
    "plt.savefig(os.path.join(PDF_FOLDER_PATH, \"02_plot_chain_rule_1.pdf\"))"
   ]
  },
  {
   "cell_type": "markdown",
   "metadata": {},
   "source": [
    "<div align=\"center\"><i>Figure 1-9. The chain rule works, part 1</i></div>"
   ]
  },
  {
   "cell_type": "markdown",
   "metadata": {},
   "source": [
    "The chain rule seems to be working. When the functions are upward-sloping, the derivative is positive; when they are flat, the derivative is zero; and when they are downward-sloping, the derivative is negative.\n",
    "\n",
    "So we can in fact compute, both mathematically and via code, the derivatives of nested or “composite” functions such as $f_1 f_2$, as long as the individual functions are themselves mostly differentiable.\n",
    "\n",
    "It will turn out that deep learning models are, mathematically, long chains of these mostly differentiable functions; spending time going manually through a slightly longer example in detail will help build your intuition about what is going on and how it can generalize to more complex models."
   ]
  }
 ],
 "metadata": {
  "kernelspec": {
   "display_name": "Python 3",
   "language": "python",
   "name": "python3"
  },
  "language_info": {
   "codemirror_mode": {
    "name": "ipython",
    "version": 3
   },
   "file_extension": ".py",
   "mimetype": "text/x-python",
   "name": "python",
   "nbconvert_exporter": "python",
   "pygments_lexer": "ipython3",
   "version": "3.7.5"
  }
 },
 "nbformat": 4,
 "nbformat_minor": 2
}
