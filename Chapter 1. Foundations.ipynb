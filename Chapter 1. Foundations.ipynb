{
 "cells": [
  {
   "cell_type": "markdown",
   "metadata": {},
   "source": [
    "# **Chapter 1. Foundations**\n",
    "---\n",
    "---\n",
    "\n",
    "The aim of this chapter is to explain some foundational mental models that are essential for understanding how neural networks work. Specifically, we'll cover *nested mathematical functions and their derivatives.* We'll work our way up from the simplest possible building bloks to show that we can bild complicated functions made up of \"chain\" of constituent functions and, even when one of these functions is a matrix multiplication that takes in multiple inputs, compute the derivativeof the functions outputs with respect to their inputs.\n",
    "\n",
    "As we're getting our bearings around these foundational building blocks of neural networks, we'll systematically descrive each concept we introduce from three perspectives:\n",
    "* `Math`, in the form of an equation or equations\n",
    "* `Code`, with as little axtra syntax as possible (making Python as ideal choice)\n",
    "* A diagram explaining what is going on, of kind you would draw on a whitebboard during a coding interview.\n",
    "\n",
    "With that out of the way, it’s time to take our first steps. We’re going to start with some extremely simple building blocks to illustrate how we can understand different concepts in terms of these three perspectives. Our first building block will be a simple but critical concept: `the function`."
   ]
  },
  {
   "cell_type": "markdown",
   "metadata": {},
   "source": [
    "## Functions\n",
    "---\n",
    "\n",
    "What is a function, and how we descrive it? As with neural nets, there are several ways to describe functions, none of which  individually paints complete picture. Rather than trying give a pithy one-sentence description, let's simply walk through three mental models one by one, playing the role of the blind men feeling different parts of the elephant."
   ]
  },
  {
   "cell_type": "markdown",
   "metadata": {},
   "source": [
    "### Math\n",
    "\n",
    "Here ara two exammples of functions, describbed in mathematical notation:\n",
    "* $f_1(x) = x^2$\n",
    "* $f_2(x) = max(x, 0)$\n",
    "\n",
    "This notations says that the functions, which we arbbitrarily call $f_1$ and $f_2$, take in a nuber $x$ as input and transform it into $x^2$ (in first case) of $max(x, 0)$ (in the second case)."
   ]
  },
  {
   "cell_type": "code",
   "execution_count": null,
   "metadata": {},
   "outputs": [],
   "source": []
  }
 ],
 "metadata": {
  "kernelspec": {
   "display_name": "Python 3",
   "language": "python",
   "name": "python3"
  },
  "language_info": {
   "codemirror_mode": {
    "name": "ipython",
    "version": 3
   },
   "file_extension": ".py",
   "mimetype": "text/x-python",
   "name": "python",
   "nbconvert_exporter": "python",
   "pygments_lexer": "ipython3",
   "version": "3.7.5"
  }
 },
 "nbformat": 4,
 "nbformat_minor": 2
}
