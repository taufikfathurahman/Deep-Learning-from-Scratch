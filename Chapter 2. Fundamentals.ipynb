{
 "cells": [
  {
   "cell_type": "markdown",
   "metadata": {},
   "source": [
    "# **Chapter 2. Fundamentals**\n",
    "---\n",
    "---\n",
    "\n",
    "In Chapter 1, I described th major conceptual building block for understanding deep learning: nasted continuous, differentiable functions. I showed how to represent these functions as computational graphs, with each node in a graph representating a single, simple function. In particular, I demonstrated that such a representation showed easily how to calculate the derivative of the output of the nasted function with respect to its input: we simply take the derivatives of all the constituent functions, evaluate these derivatives as the input that these functions recived, and then multiply all of the results together; this will result in a correct derivative for the nested functions because of the chain rule. I illustrated that this does in fact work with some simple examples, with functions that took `NumPy's ndarrays` as inputs and produced `ndarrays` as outputs.\n",
    "\n",
    "I showed that this method of computing derivatives works even when the function takes in multiple `ndarrays` as inputs and combines them via a *matrix multiplication* operation, which, unlike the other operations we saw, changes the shape of its inputs. Specifically, if one input to this operation—call the input $X$—is a `B × N ndarray`, and another input to this operation, $W$, is an `N × M ndarray`, then its output $P$ is a `B × M ndarray`. While it isn’t clear what the derivative of such an operation would be, I showed that when a matrix multiplication $v(X, W)$ is included as a “constituent operation” in a nested function, we can still use a simple expression *in place of* its derivative to compute the derivatives of its inputs: specifically, the role of $\\frac{\\partial v}{\\partial u}(W)$ can be filled by $X^T$, and the role of $\\frac{\\partial v}{\\partial u}(X)$ can be played by $W^T$.\n",
    "\n",
    "In this chapter, we’ll start translating these concepts into real-world applications, Specifically, we will:\n",
    "\n",
    "1. Express linear regression in terms of these building blocks\n",
    "2. Show that the reasoning around derivatives that we did in Chapter 1 allows us to train this linear regression model\n",
    "3. Extend this model (still using our building blocks) to a one-layer neural network\n",
    "\n",
    "Then, in Chapter 3, it will be straightforward to use these same building blocks to build deep learning models.\n",
    "\n",
    "Before we dive into all this, though, let’s give an overview of *supervised learning*, the subset of machine learning that we’ll focus on as we see how to use neural networks to solve problems."
   ]
  },
  {
   "cell_type": "markdown",
   "metadata": {},
   "source": [
    "## # Supervised Learning Overview\n",
    "---\n",
    "\n",
    "At a high level, machine learning can be described as building algorithms that can uncover or “learn” *relationships* in data; supervised learning can be described as the subset of machine learning dedicated to finding relationships *between characteristics of the data that have already been measured.*\n",
    "\n",
    "In this chapter, we'll deal with a typical supervised learning problem that you might encounter in the real world: finding the relationship between characteristics of a house and the value of the house. Clearly, there is some relationship between characteristics such as the number of rooms, the square footage, or the proximity to schools and how desirable a house is to live in or own. At a high level, the aim of supervised learning is to uncover these relationships, given that we've *already measured* these characteristics.\n",
    "\n",
    "By \"measure\", I mean that each characteristic has been defined precisely and represented as a number. Many characteristics of a house, such as the number of bedrooms, the square footage, and so on, naturally lend themselves to being represented as numbers, but if we had other, different kinds of information, such as natural language descriptions of the house’s neighborhood from TripAdvisor, this part of the problem would be much less straightforward, and doing the translation of this less-structured data into numbers in a reasonable way could make or break our ability to uncover relationships. In addition, for any concept that is ambiguously defined, such as the value of a house, we simply have to pick a single number to describe it; here, an obvious choice is to use the price of the house.\n",
    "\n",
    "Once we’ve translated our “characteristics” into numbers, we have to decide what structure to use to represent these numbers. One that is nearly universal across machine learning and turns out to make computations easy is to represent each set of numbers for a single observation—for example, a single house—as a row of data, and then stack these rows on top of each other to form “batches” of data that will get fed into our models as two-dimensional `ndarrays`. Our models will then return predictions as output `ndarrays` with each prediction in a row, similarly stacked on top of each other, with one prediction for each observation in the batch.\n",
    "\n",
    "Now for some definitions: we say that the length of each row in this `ndarray` is the number of *features* of our data. In general, a single characteristic can map to many features, a classic example being a characteristic that describes our data as belonging to one of several *categories*, such as being a red brick house, a tan brick house, or a slate house; in this specific case we might describe this single characteristic with three features. The process of mapping what we informally think of as characteristics of our observations into features is called *feature engineering*. I won’t spend much time discussing this process in this book; indeed, in this chapter we’ll deal with a problem in which we have 13 characteristics of each observation, and we simply represent each characteristic with a single numeric feature.\n",
    "\n",
    "I said that the goal of supervised learning is ultimately to uncover relationships between characteristics of data. In practice, we do this by choosing one characteristic that we want to predict from the others; we call this characteristic our *target*. The choice of which characteristic to use as the target is completely arbitrary and depends on the problem you are trying to solve. For example, if your goal is just to *describe* the relationship between the prices of houses and the number of rooms they have, you could do this by training a model with the prices of houses as the target and the number of rooms as a feature, or vice versa; either way, the resulting model will indeed contain a description of the relationship between these two characteristics, allowing you to say, for example, a higher number of rooms in a house is associated with higher prices. On the other hand, if your goal is to *predict* the prices of houses *for which no price information is available*, you have to choose the price as your target, so that you can ultimately feed the other information into your model once it is trained.\n",
    "\n",
    "Figure 2-1 shows this hierarchy of descriptions of supervised learning, from the highest-level description of finding relationships in data, to the lowest level of quantifying those relationships by training models to uncover numerical representations between the features and the target.\n",
    "\n",
    "<div align=\"center\">\n",
    "    <img src=\"https://learning.oreilly.com/library/view/deep-learning-from/9781492041405/assets/dlfs_0201.png\" width=\"600px\"/>\n",
    "    <i>Figure 2-1. Supervised learning overview</i>\n",
    "</div>\n",
    "\n",
    "As mentioned, we’ll spend almost all our time on the level highlighted at the bottom of Figure 2-1; nevertheless, in many problems, getting the parts at the top correct—collecting the right data, defining the problem you are trying to solve, and doing feature engineering—is much harder than the actual modeling. Still, since this book is focused on modeling—specifically, on understanding how deep learning models work—let’s return to that subject."
   ]
  },
  {
   "cell_type": "markdown",
   "metadata": {},
   "source": [
    "## #  Supervised Learning Models\n",
    "---\n",
    "\n",
    "Now we know at a high level what supervised learning models are trying to do—and as I alluded to earlier in the chapter, such models are just nested, mathematical functions. We spent the last chapter seeing how to represent such functions in terms of diagrams, math, and code, so now I can state the goal of supervised learning more precisely in terms of both math and code (I’ll show plenty of diagrams later): the goal is to *find* (a mathematical function) / (a function that takes an `ndarray` as input and produces an `ndarray` as output) that can (map characteristics of observations to the target) / (given an input `ndarray` containing the features we created, produce an output `ndarray` whose values are “close to” the `ndarray` containing the target).\n",
    "\n",
    "Specifically, our data will be represented in a matrix $X$ with $n$ rows, each of which represents an observation with $k$ features, all of which are numbers. Each row observation will be a vector, as in $x_i = \\begin{bmatrix}x_{i1} & x_{i2} & x_{i3} & \\cdots & x_{ik}\\end{bmatrix}$, and these observations will be stacked on top of one another to form a batch. For example, a batch of size 3 would look like:\n",
    "\n",
    "$$ X_{batch} = \\begin{bmatrix}\n",
    "x_{11} & x_{12} & x_{13} & \\ldots & x_{1k} \\\\\n",
    "x_{21} & x_{22} & x_{23} & \\ldots & x_{2k} \\\\\n",
    "x_{31} & x_{32} & x_{33} & \\ldots & x_{3k}\n",
    "\\end{bmatrix} $$\n",
    "\n",
    "For each batch of observations, we will have a corresponding batch of *target*, each element of which is the target number for the corresponding observation, We can represent these in a one-dimensional vector:\n",
    "\n",
    "$$ \\begin{bmatrix}\n",
    "y_1 \\\\\n",
    "y_2 \\\\\n",
    "y_3\n",
    "\\end{bmatrix} $$\n",
    "\n",
    "In terms of these arrays, our goal with supervised learning will be to use the tools I described in the last chapter to buils a function that can take as input batches of observations with the structure of $X_{batch}$ and produce vectors of values $p_i$—which we’ll interpret as “predictions”—that (for data in our particular dataset $X$, at least) are “close to the target values” $y_i$ for some reasonable measure of closeness.\n",
    "\n",
    "Finally, we are ready to make all of this concrete and start building our first model for a real-world dataset. We’ll start with a straightforward model—*linear regression*—and show how to express it in terms of the building blocks from the prior chapter."
   ]
  },
  {
   "cell_type": "markdown",
   "metadata": {},
   "source": [
    "## # Linear Regression\n",
    "---\n",
    "\n",
    "Linear regression is often shown as:\n",
    "\n",
    "$$ y_i = \\beta_0 + \\beta_1 \\times x_1 + \\cdots + \\beta_n \\times x_k + \\epsilon$$\n",
    "\n",
    "This representation describes mathematically our belief that the numeric value of each target is a linear combination of the $k$ features of $X$, plus the $\\beta_0$ term to adjust the “baseline” value of the prediction (specifically, the prediction that will be made when the value of all of the features is 0).\n",
    "\n",
    "This, of course, doesn’t give us much insight into how we would code this up so that we could “train” such a model. To do that, we have to translate this model into the language of the functions we saw in Chapter 1; the best place to start is with a diagram."
   ]
  },
  {
   "cell_type": "markdown",
   "metadata": {},
   "source": [
    "### ## Linear Regeression: A Digram\n",
    "\n",
    "How can we represent linear regression as a computational graph? We *could* break it down all the way to the individual elements, with each $x_i$ being multiplied by another element $w_i$ and then the results being added together, as in Figure 2-2.\n",
    "\n",
    "<div align=\"center\">\n",
    "    <img src=\"https://learning.oreilly.com/library/view/deep-learning-from/9781492041405/assets/dlfs_0202.png\" width=\"600px\"/>\n",
    "    <i>Figure 2-2. The operations of a linear regression shown at the level of individual multiplications and additions</i>\n",
    "</div>\n",
    "\n",
    "But again, as we saw in Chapter 1, if we can represent these operations as just a matrix multiplication, we’ll be able to write the function more concisely while still being able to correctly calculate the derivative of the output with respect to the input, which will allow us to train the model.\n",
    "\n",
    "How can we do this? First, let’s handle the simpler scenario in which we don’t have an intercept term ($\\beta_0$ shown previously). Note that we can represent the output of a linear regression model as the *dot product* of each observation vector $x_i = \\begin{bmatrix}x_{i1} & x_{i2} & x_{i3} & \\cdots & x_{ik}\\end{bmatrix}$ with another vector of parameters that we’ll call $W$:\n",
    "\n",
    "$$ W = \\begin{bmatrix}\n",
    "w_1 \\\\\n",
    "w_2 \\\\\n",
    "w_3 \\\\\n",
    "\\vdots \\\\\n",
    "w_k\n",
    "\\end{bmatrix} $$\n",
    "\n",
    "Our prediction would then simply be:\n",
    "\n",
    "$$ p_i = x_i \\times W + b = w_1 \\times x_{i1} + w_2 \\times x_{i2} + \\ldots + w_k \\times x_{ik} + b $$\n",
    "\n",
    "So, we can represent “generating the predictions” for a linear regression using a single operation: the dot product.\n",
    "\n",
    "Furthermore, when we want to make predictions using linear regression with a batch of observations, we can use another, single operation: the matrix multiplication. If we have a batch of size 3, for example:\n",
    "\n",
    "$$ X_{batch} = \\begin{bmatrix}\n",
    "x_{11} & x_{12} & x_{13} & \\ldots & x_{1k} \\\\\n",
    "x_{21} & x_{22} & x_{23} & \\ldots & x_{2k} \\\\\n",
    "x_{31} & x_{32} & x_{33} & \\ldots & x_{3k}\n",
    "\\end{bmatrix} $$\n",
    "\n",
    "then performing the *matrix multiplication* of this batch $X_{batch}$ with $W$ gives a vector of predictions for the batch, as desired:\n",
    "\n",
    "$$ p_{batch} = X_{batch} \\times W = \\begin{bmatrix}\n",
    "x_{11} & x_{12} & x_{13} & \\cdots & x_{1k} \\\\\n",
    "x_{21} & x_{22} & x_{23} & \\cdots & x_{2k} \\\\\n",
    "x_{31} & x_{32} & x_{33} & \\cdots & x_{3k}\n",
    "\\end{bmatrix} \\times \\begin{bmatrix} w_1 \\\\ w_2 \\\\ w_3 \\\\ \\vdots \\\\ w_k  \\end{bmatrix}\n",
    "=\n",
    "\\begin{bmatrix}\n",
    "x_{11} \\times w_1 + x_{12} \\times w_2 + x_{13} \\times w_3 + \\cdots + & x_{1k} \\times w_k \\\\\n",
    "x_{21} \\times w_1 + x_{22} \\times w_2 + x_{23} \\times w_3 + \\cdots + & x_{2k} \\times w_k \\\\\n",
    "x_{31} \\times w_1 + x_{32} \\times w_2 + x_{33} \\times w_3 + \\cdots + & x_{3k} \\times w_k\n",
    "\\end{bmatrix}\n",
    "=\n",
    "\\begin{bmatrix}\n",
    "p_1 \\\\\n",
    "p_2 \\\\\n",
    "p_3\n",
    "\\end{bmatrix} $$\n",
    "\n",
    "So generating predictions for a batch of observations in a linear regression can be done with a matrix multiplication. Next, I’ll show how to use this fact, along with the reasoning about derivatives from the prior chapter, to train this model."
   ]
  },
  {
   "cell_type": "markdown",
   "metadata": {},
   "source": [
    "### ## \"TRAINING\" THIS MODEL\n",
    "\n",
    "What does it mean to \"train\" a model? At a high level, models take in data, combine them with *paramaeters* in some way, and produce predictions. For example, the linear regression model shown earlier takes in data &X& and parameters &W& and produces the predictions $p_{batch}$ using a matrix multiplication:\n",
    "\n",
    "$$ p_{batch} = \\begin{bmatrix}\n",
    "p_1 \\\\\n",
    "p_2 \\\\\n",
    "p_3 \n",
    "\\end{bmatrix} $$\n",
    "\n",
    "To train our mode, however, we need another crucial piece of information: whether or not these predictions are goods. To learn this, we bring in the vector of $targets$ $y_{batch}$ associated with the batch of observations $X_{batch}$ fed into the function, adn we compute a * single number* that is a function of $y_{batch}$ and $p_{batch}$ adn that represents the model's \"penalty\" for making the predictions that it did. A reasonable choice is *mean squared error*, which is simply the average squared value that our model's predictions \"missed\" by:\n",
    "\n",
    "$$ MSE(p_{batch}, y_{batch}) = MSE \\left(\\begin{bmatrix}\n",
    "p_1 \\\\\n",
    "p_2 \\\\\n",
    "p_3\n",
    "\\end{bmatrix}, \\begin{bmatrix}\n",
    "y_1 \\\\\n",
    "y_2 \\\\\n",
    "y_3\n",
    "\\end{bmatrix}\\right) = \\frac{(y_1 - p_1)^2 + (y_2 - p_2)^2 + (y_3 - p_3)^2}{3} $$\n",
    "\n",
    "Getting to this number, which we can call $L$, is key: once we have it, we can use all the techniques we saw in Chapter 1 to compute the gradient of this number with respect to each element of W. Then *we can use these derivatives to update each element of* $W$ *in the direction that would cause* $L$ *to decrease*. Repeating this procedure many times, we hope, will “train” our model; in this chapter, we’ll see that this can indeed work in practice. To see clearly how to compute these gradients, we’ll complete the process of representing linear regression as a computational graph."
   ]
  },
  {
   "cell_type": "markdown",
   "metadata": {},
   "source": [
    "### ## Linear Regression: A more Helpful Digram (and the Math)\n",
    "\n",
    "Figure 2-3 shows how to represent linear regression in terms of the diagrams from the last chapter.\n",
    "\n",
    "<div align=\"center\">\n",
    "    <img src=\"https://learning.oreilly.com/library/view/deep-learning-from/9781492041405/assets/dlfs_0203.png\" width=\"600px\"/>\n",
    "    <i>Figure 2-3. The linear regression equations expressed as a computational graph—the dark blue letters are the data inputs to the function, and the light blue W denotes the weights</i>\n",
    "</div>\n",
    "\n",
    "Finally, to reinforce that we’re still representing a nested mathematical function with this diagram, we could represent the loss value L that we ultimately compute as:\n",
    "\n",
    "$$ L = \\Lambda((v(X,W),Y) $$"
   ]
  },
  {
   "cell_type": "markdown",
   "metadata": {},
   "source": [
    "### ## Adding in the Intercept\n",
    "\n",
    "Reresenting models as digrams shows us conceptually how we can add an intercept to the model. We simply add an extra step at the end that involve adding a \"bias\", as shown in Figure 2-4.\n",
    "\n",
    "<div align=\"center\">\n",
    "    <img src=\"https://learning.oreilly.com/library/view/deep-learning-from/9781492041405/assets/dlfs_0204.png\" width=\"600px\"/>\n",
    "    <i>Figure 2-4. The computational graph of linear regression, with the addition of a bias term at the end</i>\n",
    "</div>\n",
    "\n",
    "Here, though, we should reason mathematically about what is going on before moving on to the code; with the bias added, each element of our model’s prediction $p_i$ will be the dot product described earlier with the quantity $b$ added to it:\n",
    "\n",
    "$$ p_{batch\\_with\\_bias} = x_i dot W + b =\n",
    "\\begin{bmatrix}\n",
    "x_{11} \\times w_1 + x_{12} \\times w_2 + x_{13} \\times w_3 + \\ldots + & x_{1k} \\times w_k + b \\\\\n",
    "x_{21} \\times w_1 + x_{22} \\times w_2 + x_{23} \\times w_3 + \\ldots + & x_{2k} \\times w_k + b\\\\\n",
    "x_{31} \\times w_1 + x_{32} \\times w_2 + x_{33} \\times w_3 + \\ldots + & x_{3k} \\times w_k + b\n",
    "\\end{bmatrix}\n",
    "=\n",
    "\\begin{bmatrix}\n",
    "p_1 \\\\\n",
    "p_2 \\\\\n",
    "p_3\n",
    "\\end{bmatrix} $$\n",
    "\n",
    "Note that because the intercept in linear regression should be just a single number rather than being different for each observation, the *same number* should get added to each observation of the input to the bias operation that is passed in; we’ll discuss what this means for computing the derivatives in a later section of this chapter."
   ]
  },
  {
   "cell_type": "markdown",
   "metadata": {},
   "source": [
    "### ## Linear regression: The Code\n",
    "\n",
    "We'll now tie this together and code up the function that makes predictions and computes losses given batches of observations $X_{batch}$ and their corresponding tergets $y_{batch}$. Recall that computing derivatives for nested functions using the chain rule involves two sets of steps: first, we perform a “forward pass,” passing the input successively forward through a series of operations and saving the quantities computed as we go; then we use those quantities to compute the appropriate derivatives during the backward pass.\n",
    "\n",
    "The following code does this, saving the quantities computed on the forward pass in a dictionary; furthermore, to differentiate between the quantities computed on the forward pass and the parameters themselves (which we’ll also need for the backward pass), our function will expect to receive a dictionary containing the parameters:"
   ]
  },
  {
   "cell_type": "code",
   "execution_count": 1,
   "metadata": {},
   "outputs": [],
   "source": [
    "import os\n",
    "import numpy as np\n",
    "from numpy import ndarray\n",
    "\n",
    "from typing import Callable, Dict, Tuple, List\n",
    "\n",
    "np.set_printoptions(precision=4)"
   ]
  },
  {
   "cell_type": "code",
   "execution_count": 2,
   "metadata": {},
   "outputs": [],
   "source": [
    "%load_ext autoreload\n",
    "%autoreload 2"
   ]
  },
  {
   "cell_type": "code",
   "execution_count": 3,
   "metadata": {},
   "outputs": [],
   "source": [
    "TEST_ALL = False\n",
    "GRAPHS_IMG_FILEPATH = os.path.join(\"asset\", \"chapter_2\", \"images\")"
   ]
  },
  {
   "cell_type": "code",
   "execution_count": 4,
   "metadata": {},
   "outputs": [],
   "source": [
    "def forward_linear_regression(X_batch: ndarray,\n",
    "                              y_batch: ndarray,\n",
    "                              weights: Dict[str, ndarray]\n",
    "                             ) -> Tuple[float, Dict[str, ndarray]]:\n",
    "    '''\n",
    "    Forward pass for the step-by_step linear regression.\n",
    "    '''\n",
    "    \n",
    "    # assert batch size of X adn y are equal\n",
    "    assert X_batch.shape[0] == y_batch.shape[0]\n",
    "    \n",
    "    # assert that matrix multiplication can work\n",
    "    assert X_batch.shape[1] == weights['W'].shape[0]\n",
    "    \n",
    "    # assert that B is simply a 1x1 ndarray\n",
    "    assert weights['B'].shape[0] == weights['B'].shape[1] == 1\n",
    "    \n",
    "    # compute the operations on the forward pass\n",
    "    N = np.dot(X_batch, weights['W'])\n",
    "    \n",
    "    P = N + weights['B']\n",
    "    \n",
    "    loss = np.mean(np.power(y_batch - P, 2))\n",
    "    \n",
    "    # save the information computed on the forward pass\n",
    "    forward_info: Dict[str, ndarray] = {}\n",
    "    forward_info['X'] = X_batch\n",
    "    forward_info['N'] = N\n",
    "    forward_info['P'] = P\n",
    "    forward_info['y'] = y_batch\n",
    "    \n",
    "    return loss, forward_info"
   ]
  },
  {
   "cell_type": "markdown",
   "metadata": {},
   "source": [
    "Now we have all the pieces in place to start \"training\" this model. Next, we'll cover exactly what this means and how we'll do it."
   ]
  },
  {
   "cell_type": "markdown",
   "metadata": {},
   "source": [
    "## # Training the Model\n",
    "---\n",
    "\n",
    "We are now going to use all the tools we learned in the last chapter to compute $\\frac{\\partial L}{\\partial w_t}$ for every $w_i$ in $W$, as well as $\\frac{\\partial L}{\\partial b}$. How? Well, since the \"forward pass\" of this functions was passing the input through a series of nasted functions, the backward pass will simply involve computing the partial derivatives of each function, evaluating thos derivatives at the functions inputs, and multiplying them togetger—and even though a matrix multiplication is involved, we’ll be able to handle this using the reasoning we covered in the last chapter."
   ]
  },
  {
   "cell_type": "markdown",
   "metadata": {},
   "source": [
    "### ## Calculating the Gradients: A Diagram\n",
    "\n",
    "Conceptually, we want something like what is depicted in Figure 2-5\n",
    "\n",
    "<div align=\"center\">\n",
    "    <img src=\"https://learning.oreilly.com/library/view/deep-learning-from/9781492041405/assets/dlfs_0205.png\" width=\"600px\"/>\n",
    "    <i>Figure 2-5. The backward pass through the linear regression computational graph</i>\n",
    "</div>\n",
    "\n",
    "We simply step backward, computing the derivative of each constituent function and evaluating those derivatives at the inputs that those functions recived on the forward pass, and then multiplying these derivatives togteher at the end. This is straighforward enaugh, so let's get into the details."
   ]
  },
  {
   "cell_type": "markdown",
   "metadata": {},
   "source": [
    "### ## Claculating the Gradients: The math (and Some Code)\n",
    "\n",
    "From Figure 2-5, we can see that the derivative product that we ultimately want to compute is:\n",
    "\n",
    "$$ \\frac{\\partial \\Lambda}{\\partial P}(P,Y) \\times \\frac{\\partial \\alpha}{\\partial N}(N,B) \\times \\frac{\\partial v}{\\partial W}(X,W) $$\n",
    "\n",
    "There are three components here; let’s compute each of them in turn.\n",
    "\n",
    "First up: $\\frac{\\partial \\Lambda}{\\partial P}(P,Y)$. Since $\\Lambda (P,Y) = (Y - P)^2$ for each element in $Y$ and $P$:\n",
    "\n",
    "$$ \\frac{\\partial \\Lambda}{\\partial P}(P,Y) = -1 \\times (2 \\times (Y - P)) $$\n",
    "\n",
    "We're jumping ahead of ourselves a bit, but note that coding this up would simply be:\n",
    "\n",
    "```python\n",
    "dLdP = -2 * (Y - P)\n",
    "```\n",
    "\n",
    "Next, we have an expression involving matrices: $\\frac{\\partial \\alpha}{\\partial N}(N,B)$. But since $\\alpha$ is just addition, the same logic that we reasoned through with numbers in the prior chapter applies here: increasing any element of N by one unit will increase $P = \\alpha (N, B) = N + B$ by one unit. Thus, $\\frac{\\partial \\alpha}{\\partial N}(N,B)$ is just a matrix of$+1+s$, of the same shape as $N$.\n",
    "\n",
    "Coding *this* expression, therefore, would simply be:\n",
    "\n",
    "```python\n",
    "dPdN = np.ones_like(N)\n",
    "```\n",
    "\n",
    "Finally, we have $\\frac{\\partial v}{\\partial W}(X,W)$. As we discussed in detail in the last chapter, when computing derivatives of nested functions where one of the constituent functions is a matrix multiplication, we can act *as if*:\n",
    "\n",
    "$$ \\frac{\\partial v}{\\partial W}(X,W) = X^T $$\n",
    "\n",
    "which in code is simply:\n",
    "\n",
    "```python\n",
    "dNdW = np.transpose(X, (1, 0))\n",
    "```\n",
    "\n",
    "We’ll do the same for the intercept term; since we are just adding it, the partial derivative of the intercept term with respect to the output is simply 1:\n",
    "\n",
    "```python\n",
    "dPdB = np.ones_likes(wights['B'])\n",
    "```\n",
    "\n",
    "The last step is to simply multiply these together, making sure we use the correct order for the matrix multiplications involving `dNdW` and `dNdX` based on what we reasoned through at the end of the last chapter."
   ]
  },
  {
   "cell_type": "markdown",
   "metadata": {},
   "source": [
    "### ## Calculating th Gradients: The (Full) Code\n",
    "\n",
    "Recall tha our goal is to take everything computed on or inputed into the forward pass—which, from the diagram in Figure 2-5, will include $X, W, B, P$ and $y$—and compute $\\frac{\\partial \\Lambda}{\\partial W}$ and $\\frac{\\partial \\Lambda}{\\partial B}$. The following code does that, receiving $W$ and $B$ as inputs in a dictionary called `weights` and the rest of the quantities in a dictionary called `forward_info`:"
   ]
  },
  {
   "cell_type": "code",
   "execution_count": 5,
   "metadata": {},
   "outputs": [],
   "source": [
    "def loss_gradients(forward_info: Dict[str, ndarray],\n",
    "                   weights: Dict[str, ndarray]) -> Dict[str, ndarray]:\n",
    "    '''\n",
    "    Compute dLdW and dLdB for the step-by-step linear regression model.\n",
    "    '''\n",
    "    batch_size = forward_info['X'].shape[0]\n",
    "    \n",
    "    dLdP = -2 * (forward_info['y'] - forward_info['P'])\n",
    "    \n",
    "    dPdN = np.ones_like(forward_info['N'])\n",
    "    \n",
    "    dPdB = np.ones_like(weights['B'])\n",
    "    \n",
    "    dLdN = dLdP * dPdN\n",
    "    \n",
    "    dNdW = np.transpose(forward_info['X'], (1, 0))\n",
    "    \n",
    "    # Need to use matrix multiplication here,\n",
    "    # with dNdW on the left (see note at the end of last chapter)\n",
    "    dLdW = np.dot(dNdW, dLdN)\n",
    "    \n",
    "    # need to sum along dimension representing the batch seize\n",
    "    dLdB = (dLdP * dPdB).sum(axis=0)\n",
    "    \n",
    "    loss_gradients: Dict[str, ndarray] = {}\n",
    "    loss_gradients['W'] = dLdW\n",
    "    loss_gradients['B'] = dLdB\n",
    "    \n",
    "    return loss_gradients"
   ]
  },
  {
   "cell_type": "markdown",
   "metadata": {},
   "source": [
    "As you can see, we simply compute the derivatives with respect to each operation and successively multiply them together, taking care that we do the matrix multiplication in the right order. As we’ll see shortly, this actually works—and after the intuition we built up around the chain rule in the last chapter, this shouldn’t be too surprising."
   ]
  },
  {
   "cell_type": "markdown",
   "metadata": {},
   "source": [
    "---\n",
    "<h3 align=\"center\"><strong>NOTE</strong></h3>\n",
    "\n",
    "An implementation detail about those loss gradients: we’re storing them as a dictionary, with the names of the weights as keys and the amounts that increasing the weights affect the losses as values. The `weights` dictionary is structured the same way. Therefore, we’ll iterate through the weights in our model in the following way:\n",
    "\n",
    "```python\n",
    "for key in weights.keys():\n",
    "    weights[key] -= learning_rate * loss_grads[key]\n",
    "```\n",
    "\n",
    "There is nothing special about storing them in this way; if we stored them differntly, we sould simply iterate through them and refer to them differently.\n",
    "\n",
    "---"
   ]
  },
  {
   "cell_type": "markdown",
   "metadata": {},
   "source": [
    "### ## Using These Gradients to Train Model\n",
    "\n",
    "Now we'll simply run the following procedure over and over again:\n",
    "1. Select a batch of data.\n",
    "2. Run the forward pass of the model.\n",
    "3. Run the backward pass of the model using the info computed on the forward pass.\n",
    "4. Use the gradients computed on the backward pass to update the weights.\n",
    "\n",
    "The key lines, which get repeated inside of a for loop, are these:\n",
    "\n",
    "```python\n",
    "forward_info, loss = forward_loss(X_batch, y_batch, weights)\n",
    "\n",
    "loss_grads = loss_gradients(forward_info, weights)\n",
    "\n",
    "for key in weights.keys():  \n",
    "    # 'weights' and 'loss_grads' have the same keys\n",
    "    weights[key] -= learning_rate * loss_grads[key]\n",
    "```\n",
    "\n",
    "Then we run the `train` function for a certain number of *epochs*, or cycles through the entire training dataset, as follows:\n",
    "\n",
    "```python\n",
    "train_info = train(X_train, y_train,\n",
    "                   learing_rate = 0.001,\n",
    "                   batch_size = 23,\n",
    "                   return_weights = True,\n",
    "                   seed = 80718)\n",
    "```\n",
    "\n",
    "\n",
    "The train function returns `train_info, a Tuple`, one element of which is the parameters or *weights* that represent what the model has learned."
   ]
  },
  {
   "cell_type": "markdown",
   "metadata": {},
   "source": [
    "---\n",
    "<h3 align=\"center\"><strong>NOTE</strong></h3>\n",
    "\n",
    "The terms \"parameters\" and \"weights\" are used interchangeably throught deep learning, so we will use them interchangeably in this book.\n",
    "\n",
    "---"
   ]
  },
  {
   "cell_type": "code",
   "execution_count": 6,
   "metadata": {},
   "outputs": [],
   "source": [
    "def to_2d_np(a: ndarray, \n",
    "             type: str = \"col\") -> ndarray:\n",
    "    '''\n",
    "    Turns a 1D Tensor into 2D\n",
    "    '''\n",
    "    \n",
    "    assert a.ndim == 1, \\\n",
    "    \"Input tensors must be 1 dimensional\"\n",
    "    \n",
    "    if type == \"col\":\n",
    "        return a.reshape(-1, 1)\n",
    "    elif type == \"row\":\n",
    "        return a.reshape(1, -1)"
   ]
  },
  {
   "cell_type": "code",
   "execution_count": 7,
   "metadata": {},
   "outputs": [],
   "source": [
    "def permute_data(X: ndarray,\n",
    "                 y: ndarray):\n",
    "    '''\n",
    "    Permute X and y, using the same permuatation, along axis=0\n",
    "    '''\n",
    "    perm = np.random.permutation(X.shape[0])\n",
    "    return X[perm], y[perm]"
   ]
  },
  {
   "cell_type": "code",
   "execution_count": 8,
   "metadata": {},
   "outputs": [],
   "source": [
    "Batch = Tuple[ndarray, ndarray]\n",
    "\n",
    "def generate_batch(X: ndarray,\n",
    "                   y: ndarray,\n",
    "                   start: int = 0,\n",
    "                   batch_size: int = 10) -> Batch:\n",
    "    '''\n",
    "    Generate batch from X and y, given a start position\n",
    "    '''\n",
    "    \n",
    "    assert X.ndim == y.ndim == 2, \\\n",
    "    \"X and y must be 2 dimensional\"\n",
    "    \n",
    "    if start+batch_size > X.shape[0]:\n",
    "        batch_size = X.shape[0] - start\n",
    "        \n",
    "    X_batch, y_batch = X[start:start+batch_size], y[start:start+batch_size]\n",
    "    \n",
    "    return X_batch, y_batch"
   ]
  },
  {
   "cell_type": "code",
   "execution_count": 9,
   "metadata": {},
   "outputs": [],
   "source": [
    "def forward_loss(X: ndarray,\n",
    "                 y: ndarray,\n",
    "                 weights: Dict[str, ndarray]) ->Tuple[Dict[str, ndarray], float]:\n",
    "    '''\n",
    "    Generate predictions and calculate loss for a step-by-step linear regression\n",
    "    (used mostly during inference).\n",
    "    '''\n",
    "    N = np.dot(X, weights['W'])\n",
    "    \n",
    "    P = N + weights['B']\n",
    "    \n",
    "    loss = np.mean(np.power(y - P, 2))\n",
    "    \n",
    "    forward_info: Dict[str, ndarray] = {}\n",
    "    forward_info['X'] = X\n",
    "    forward_info['N'] = N\n",
    "    forward_info['P'] = P\n",
    "    forward_info['y'] = y\n",
    "    \n",
    "    return forward_info, loss"
   ]
  },
  {
   "cell_type": "code",
   "execution_count": 10,
   "metadata": {},
   "outputs": [],
   "source": [
    "def init_weights(n_in: int) -> Dict[str, ndarray]:\n",
    "    '''\n",
    "    Initialize weights on first forward pass of model.\n",
    "    '''\n",
    "    \n",
    "    weights: Dict[str, ndarray] = {}\n",
    "    W = np.random.randn(n_in, 1)\n",
    "    B = np.random.randn(1, 1)\n",
    "    \n",
    "    weights['W'] = W\n",
    "    weights['B'] = B\n",
    "    \n",
    "    return weights"
   ]
  },
  {
   "cell_type": "code",
   "execution_count": 11,
   "metadata": {},
   "outputs": [],
   "source": [
    "def train(X: ndarray, \n",
    "          y: ndarray,\n",
    "          n_iter: int = 1000,\n",
    "          learning_rate: float = 0.01,\n",
    "          batch_size: int = 100,\n",
    "          return_losses: bool = False,\n",
    "          return_weights: bool = False,\n",
    "          seed: int = 1) -> None:\n",
    "    '''\n",
    "    Train model for a certain number of epochs.\n",
    "    '''\n",
    "    \n",
    "    if seed:\n",
    "        np.random.seed(seed)\n",
    "    start = 0\n",
    "    \n",
    "    # initialize weights\n",
    "    weights = init_weights(X.shape[1])\n",
    "    \n",
    "    # permute data\n",
    "    X, y = permute_data(X, y)\n",
    "    \n",
    "    if return_losses:\n",
    "        losses = []\n",
    "        \n",
    "    for i in range(n_iter):\n",
    "        \n",
    "        # Generate batch\n",
    "        if start >= X.shape[0]:\n",
    "            X, y = permute_data(X, y)\n",
    "            start = 0\n",
    "            \n",
    "        X_batch, y_batch = generate_batch(X, y, start, batch_size)\n",
    "        start += batch_size\n",
    "        \n",
    "        # Train net using generated batch\n",
    "        forward_info, loss = forward_loss(X_batch, y_batch, weights)\n",
    "        \n",
    "        if return_losses:\n",
    "            losses.append(loss)\n",
    "            \n",
    "        loss_grads = loss_gradients(forward_info, weights)\n",
    "        \n",
    "        for key in weights.keys():\n",
    "            weights[key] -= learning_rate * loss_grads[key]\n",
    "            \n",
    "    if return_weights:\n",
    "        return losses, weights\n",
    "    \n",
    "    return None"
   ]
  },
  {
   "cell_type": "code",
   "execution_count": 12,
   "metadata": {},
   "outputs": [],
   "source": [
    "from sklearn.datasets import load_boston\n",
    "from sklearn.preprocessing import StandardScaler\n",
    "from sklearn.model_selection import train_test_split"
   ]
  },
  {
   "cell_type": "markdown",
   "metadata": {},
   "source": [
    "##### *** Boston Data**"
   ]
  },
  {
   "cell_type": "code",
   "execution_count": 13,
   "metadata": {},
   "outputs": [],
   "source": [
    "boston = load_boston()"
   ]
  },
  {
   "cell_type": "code",
   "execution_count": 14,
   "metadata": {},
   "outputs": [],
   "source": [
    "data = boston.data\n",
    "target = boston.target\n",
    "features = boston.feature_names"
   ]
  },
  {
   "cell_type": "markdown",
   "metadata": {},
   "source": [
    "##### ***  Data Preprocessing**"
   ]
  },
  {
   "cell_type": "code",
   "execution_count": 15,
   "metadata": {},
   "outputs": [],
   "source": [
    "s = StandardScaler()\n",
    "data = s.fit_transform(data)"
   ]
  },
  {
   "cell_type": "code",
   "execution_count": 16,
   "metadata": {},
   "outputs": [],
   "source": [
    "X_train, X_test, y_train, y_test = train_test_split(data, target, test_size=0.3, random_state=80718)\n",
    "\n",
    "y_train, y_test = y_train.reshape(-1, 1), y_test.reshape(-1, 1)"
   ]
  },
  {
   "cell_type": "markdown",
   "metadata": {},
   "source": [
    "##### *** Train LInear Regression**"
   ]
  },
  {
   "cell_type": "code",
   "execution_count": 17,
   "metadata": {},
   "outputs": [],
   "source": [
    "train_info = train(X_train, y_train,\n",
    "                   n_iter = 1000,\n",
    "                   learning_rate = 0.001,\n",
    "                   batch_size=23, \n",
    "                   return_losses=True, \n",
    "                   return_weights=True, \n",
    "                   seed=180708)\n",
    "\n",
    "losses = train_info[0]\n",
    "weights = train_info[1]"
   ]
  },
  {
   "cell_type": "code",
   "execution_count": 18,
   "metadata": {},
   "outputs": [],
   "source": [
    "import matplotlib.pyplot as plt"
   ]
  },
  {
   "cell_type": "code",
   "execution_count": 19,
   "metadata": {},
   "outputs": [
    {
     "data": {
      "image/png": "[encoded data removed]",
      "text/plain": [
       "<Figure size 432x288 with 1 Axes>"
      ]
     },
     "metadata": {
      "needs_background": "light"
     },
     "output_type": "display_data"
    }
   ],
   "source": [
    "plt.plot(list(range(1000)), losses);"
   ]
  },
  {
   "cell_type": "markdown",
   "metadata": {},
   "source": [
    "## # Assesing Our Model: Training Set Versus Testing Set\n",
    "---\n",
    "\n",
    "To understand whether our model uncovered relationships in our data, we have to introduce some terms and ways of thinking from statistics. We think of any dataset received as being a *sample* from a *population*. Our goal is always to find a model that uncovers relationships in the population, despite us seeing only a sample.\n",
    "\n",
    "There is always a danger that we build a model that picks up relationships that exist in the sample but not in the population. For example, it might be the case in our sample that yellow slate houses with three bathrooms are relatively inexpensive, and a complicated neural network model we build could pick up on this relationship even though it may not exist in the population. This is a problem known as *overfitting*. How can we detect whether a model structure we use is likely to have this problem?\n",
    "\n",
    "The solution is to split our sample into a *training set* and a *testing set*. We use the training data to train the model (that is, to iteratively update the weights), and then we evaluate the model on the testing set to estimate its performance.\n",
    "\n",
    "The full logic here is that if our model was able to successfully pick up on relationships that generalize from the *training set to the rest of the sample* (our whole dataset), then it is likely that the same “model structure” will generalize from our *sample*—which, again, is our entire dataset—to the *population*, which is what we want."
   ]
  },
  {
   "cell_type": "markdown",
   "metadata": {},
   "source": [
    "## # Assesing Our Model: The Code\n",
    "---\n",
    "\n",
    "With that understanding, let's evaluating our model on the testing set. First, we'll write a funcion to generate predictions by truncating the `forward_pass` function we saw previously:"
   ]
  },
  {
   "cell_type": "code",
   "execution_count": 20,
   "metadata": {},
   "outputs": [],
   "source": [
    "def predict(X: ndarray,\n",
    "            weights: Dict[str, ndarray]):\n",
    "    '''\n",
    "    Generate predictions from the step-by-step linear regression model\n",
    "    '''\n",
    "    N = np.dot(X, weights['W'])\n",
    "    \n",
    "    return N + weights['B']"
   ]
  },
  {
   "cell_type": "code",
   "execution_count": 21,
   "metadata": {},
   "outputs": [],
   "source": [
    "preds = predict(X_test, weights) # weights = train_info[1]"
   ]
  },
  {
   "cell_type": "markdown",
   "metadata": {},
   "source": [
    "How good are these predictions? Keep in mind that at this point we haven’t validated our seemingly strange approach of defining models as a series of operations, and training them by iteratively adjusting the parameters involved using the partial derivatives of the loss calculated with respect to the parameters using the chain rule; thus, we should be pleased if this approach works at all.\n",
    "\n",
    "The first thing we can do to see whether our model worked is to make a plot with the model’s predictions on the x-axis and the actual values on the y-axis. If every point fell exactly on the 45-degree line, the model would be perfect. Figure 2-6 shows a plot of our model’s predicted and actual values."
   ]
  },
  {
   "cell_type": "code",
   "execution_count": 22,
   "metadata": {},
   "outputs": [
    {
     "data": {
      "image/png": "[encoded data removed]",
      "text/plain": [
       "<Figure size 432x288 with 1 Axes>"
      ]
     },
     "metadata": {
      "needs_background": "light"
     },
     "output_type": "display_data"
    }
   ],
   "source": [
    "plt.xlabel(\"predicted Value\")\n",
    "plt.ylabel(\"Actual Value\")\n",
    "plt.title(\"Predicted vs. Actual values for \\ncustom linear regression model\")\n",
    "plt.xlim([0, 51])\n",
    "plt.ylim([0, 51])\n",
    "plt.scatter(preds, y_test)\n",
    "plt.plot([0, 51], [0, 51])\n",
    "plt.savefig(os.path.join(GRAPHS_IMG_FILEPATH, \"01_linear_custom_pred_vs_actual.png\"))"
   ]
  },
  {
   "cell_type": "markdown",
   "metadata": {},
   "source": [
    "<div align=\"center\"><i>Figure 2-6. Predicted versus actual values for our custom linear regression model\n",
    "</i></div>"
   ]
  },
  {
   "cell_type": "markdown",
   "metadata": {},
   "source": [
    "Our plot looks pretty good, but let's quantify how good the model is. There are a couple of common ways to do that:\n",
    "\n",
    "* Calculate the mean distance, in absolute value, between our model's predictions and the actual values, a metric called *mean absolute error*:"
   ]
  },
  {
   "cell_type": "code",
   "execution_count": 23,
   "metadata": {},
   "outputs": [],
   "source": [
    "def mae(preds: ndarray,\n",
    "        actuals: ndarray):\n",
    "    '''\n",
    "    Compute mean absolute error.\n",
    "    '''\n",
    "    return np.mean(np.abs(preds - actuals))"
   ]
  },
  {
   "cell_type": "markdown",
   "metadata": {},
   "source": [
    "* Calculate the mean squred distance between our model's predictions and the actual values, a metric known as *root mean squared error*:"
   ]
  },
  {
   "cell_type": "code",
   "execution_count": 24,
   "metadata": {},
   "outputs": [],
   "source": [
    "def rmse(preds: ndarray,\n",
    "         actuals: ndarray):\n",
    "    '''\n",
    "    Compute root mean squared error.\n",
    "    '''\n",
    "    return np.sqrt(np.mean(np.power(preds - actuals, 2)))"
   ]
  },
  {
   "cell_type": "markdown",
   "metadata": {},
   "source": [
    "The values for the particular model are:"
   ]
  },
  {
   "cell_type": "code",
   "execution_count": 25,
   "metadata": {},
   "outputs": [
    {
     "name": "stdout",
     "output_type": "stream",
     "text": [
      "Mean absolute error: 3.5644\n",
      "Root mean squared error: 5.0497\n"
     ]
    }
   ],
   "source": [
    "print(\"Mean absolute error: {}\".format(round(mae(preds, y_test), 4)))\n",
    "print(\"Root mean squared error: {}\".format(round(rmse(preds, y_test), 4)))"
   ]
  },
  {
   "cell_type": "markdown",
   "metadata": {},
   "source": [
    "Root mean squared error is a particularly common metric since it is on the same scale as the target. If we divide this number by the mean value of the target, we can get a measure of how far off a prediction is, on average, from its actual value. Since the mean value of `y_test is 22.0776`, we see that this model’s predictions of house prices are off by `5.0508 / 22.0776` $\\cong$ `22.9%` on average."
   ]
  },
  {
   "cell_type": "code",
   "execution_count": 26,
   "metadata": {},
   "outputs": [
    {
     "data": {
      "text/plain": [
       "22.0776"
      ]
     },
     "execution_count": 26,
     "metadata": {},
     "output_type": "execute_result"
    }
   ],
   "source": [
    "np.round(y_test.mean(), 4)"
   ]
  },
  {
   "cell_type": "code",
   "execution_count": 27,
   "metadata": {},
   "outputs": [
    {
     "data": {
      "text/plain": [
       "0.2287"
      ]
     },
     "execution_count": 27,
     "metadata": {},
     "output_type": "execute_result"
    }
   ],
   "source": [
    "np.round(rmse(preds, y_test) / y_test.mean(), 4)"
   ]
  },
  {
   "cell_type": "markdown",
   "metadata": {},
   "source": [
    "## # Analyzing the Most Important Feature\n",
    "---\n",
    "\n",
    "Before beginning modeling, we scaled each feture of our data to have mean 0 and standard deviation 1; this has computational advantages that we’ll discuss in more detail in Chapter 4. A benefit of doing this that is specific to linear regression is that we can interpret the absolute values of the coefficients as corresponding to the importance of the different features to the model; a larger coefficient means that the feature is more important. Here are the coefficients:"
   ]
  },
  {
   "cell_type": "code",
   "execution_count": 28,
   "metadata": {},
   "outputs": [
    {
     "data": {
      "text/plain": [
       "array([-1.0954,  0.7353,  0.1977,  0.7475, -2.2849,  2.2006,  0.7195,\n",
       "       -2.6384,  2.5358, -1.6892, -2.3162,  0.8435, -4.2553])"
      ]
     },
     "execution_count": 28,
     "metadata": {},
     "output_type": "execute_result"
    }
   ],
   "source": [
    "np.round(weights['W'].reshape(-1), 4)"
   ]
  },
  {
   "cell_type": "markdown",
   "metadata": {},
   "source": [
    "The fact that the last coefficient is largest means that the last feature in the dataset is the most important one.\n",
    "\n",
    "In Figure 2-7, we plot this feature against our target."
   ]
  },
  {
   "cell_type": "code",
   "execution_count": 29,
   "metadata": {},
   "outputs": [
    {
     "data": {
      "image/png": "[encoded data removed]",
      "text/plain": [
       "<Figure size 432x288 with 1 Axes>"
      ]
     },
     "metadata": {
      "needs_background": "light"
     },
     "output_type": "display_data"
    }
   ],
   "source": [
    "plt.scatter(X_test[:, 12], y_test)\n",
    "plt.xlabel(\"Most important feature from our data\")\n",
    "plt.ylabel(\"Target\")\n",
    "plt.title(\"Relationship between most\\nimportant feature and target\")\n",
    "plt.savefig(os.path.join(GRAPHS_IMG_FILEPATH, \"02_most_important_feature_vs_target.png\"))"
   ]
  },
  {
   "cell_type": "markdown",
   "metadata": {},
   "source": [
    "<div align=\"center\"><i>Figure 2-7. Most important feature versus target in custom linear regression</i></div>"
   ]
  },
  {
   "cell_type": "markdown",
   "metadata": {},
   "source": [
    "We see that this feature is indeed strongly correlated with the target: as this feature increases, the value of the target decreases, and vice versa. However, this relationship is *not* linear. The expected amount that the target changes as the feature changes from –2 to –1 is *not* the same amount that it changes as the feature changes from 1 to 2. We’ll come back to this later.\n",
    "\n",
    "In Figure 2-8, we overlay onto this plot the relationship between this feature and the *model predictions*. We’ll generate this by feeding the following data through our trained model:\n",
    "\n",
    "* The values of all features set equal to their mean\n",
    "* The values of the most important feature linearly interpolated over 40 steps from –1.5 to 3.5, which is roughly the range of this scaled feature in our data"
   ]
  },
  {
   "cell_type": "code",
   "execution_count": 30,
   "metadata": {},
   "outputs": [],
   "source": [
    "NUM = 40\n",
    "a = np.repeat(X_test[:,:-1].mean(axis=0, keepdims=True), NUM, axis=0)\n",
    "b = np.linspace(-1.5, 3.5, NUM).reshape(NUM, 1)\n",
    "\n",
    "test_feature = np.concatenate([a, b], axis=1)\n",
    "test_preds = predict(test_feature, weights)[:, 0]"
   ]
  },
  {
   "cell_type": "code",
   "execution_count": 31,
   "metadata": {},
   "outputs": [
    {
     "data": {
      "image/png": "[encoded data removed]",
      "text/plain": [
       "<Figure size 432x288 with 1 Axes>"
      ]
     },
     "metadata": {
      "needs_background": "light"
     },
     "output_type": "display_data"
    }
   ],
   "source": [
    "plt.scatter(X_test[:, 12], y_test)\n",
    "plt.plot(np.array(test_feature[:, -1]), test_preds, linewidth=2, c='orange')\n",
    "plt.ylim([6, 51])\n",
    "plt.xlabel(\"Most important feature (normalized)\")\n",
    "plt.ylabel(\"Target/Predictions\")\n",
    "plt.title(\"Most important feature vs. target and predictions,\\n custom linear regression\")\n",
    "plt.savefig(os.path.join(GRAPHS_IMG_FILEPATH, \"03_most_important_feature_vs_predictions.png\"))"
   ]
  },
  {
   "cell_type": "markdown",
   "metadata": {},
   "source": [
    "<div align=\"center\"><i>Figure 2-8. Most important feature versus target and predictions in custom linear regression</i></div>"
   ]
  },
  {
   "cell_type": "markdown",
   "metadata": {},
   "source": [
    "This figure shows (literally) a limitation of linear regression: despite the fact that there is a visually clear and “model-able” *non*linear relationship between this feature and the target, our model is only able to “learn” a linear relationship because of its intrinsic structure.\n",
    "\n",
    "To have our model learn a more complex, nonlinear relationship between our features and our target, we’re going to have to build a more complicated model than linear regression. But how? The answer will lead us, in a principles-based way, to building a neural network."
   ]
  },
  {
   "cell_type": "code",
   "execution_count": 32,
   "metadata": {},
   "outputs": [
    {
     "data": {
      "image/png": "[encoded data removed]",
      "text/plain": [
       "<Figure size 432x288 with 1 Axes>"
      ]
     },
     "metadata": {
      "needs_background": "light"
     },
     "output_type": "display_data"
    }
   ],
   "source": [
    "plt.scatter(np.array(test_feature[:, -1]), np.array(test_preds))\n",
    "plt.ylim([6, 51])\n",
    "plt.savefig(os.path.join(GRAPHS_IMG_FILEPATH, \"04_relationship_most_impt_feat_preds.png\"))"
   ]
  },
  {
   "cell_type": "markdown",
   "metadata": {},
   "source": [
    "## # Neural Networks from Scratch\n",
    "---\n",
    "\n",
    "We’ve just seen how to build and train a linear regression model from first principles. How can we extend this chain of reasoning to design a more complex model that can learn nonlinear relationships? The central idea is that we’ll first do *many* linear regressions, then feed the results through a nonlinear function, and finally do one last linear regression that ultimately makes the predictions. As it will turn out, we can reason through how to compute the gradients for this more complicated model in the same way we did for the linear regression model."
   ]
  },
  {
   "cell_type": "markdown",
   "metadata": {},
   "source": [
    "### ## Step 1: A Bunch of Linear Regressions\n",
    "\n",
    "What does it mean to do \" a bunch of linear regressions\"? Well, doin one linear regression involve doing a matrix multiplicatioon with a set of parameters: if our data $X$ had dimensions `[batch_size, num_features]`, then we multiplied it by a weight matrix $W$ with dimensions `[num_features, 1]` to get an output of dimension `[batch_size, 1]`; this output is, for each observation in the batch, simply a *weighted sum* of the matrix with dimensions `[num_features, num_outputs]`, resulting in an output of dimensions `[batch_size, num_outputs]`; now, *for each observation*, we have `num_outputs` different weighted sums of the original features.\n",
    "\n",
    "What are these weighted sums? We should think of each of them as a “learned feature”—a combination of the original features that, once the network is trained, will represent its attempt to learn combinations of features that help it accurately predict house prices. How many learned features should we create? Let’s create 13 of them, since we created 13 original features."
   ]
  },
  {
   "cell_type": "markdown",
   "metadata": {},
   "source": [
    "### ## Step 2: A Nonlinear Function\n",
    "\n",
    "Next, we’ll feed each of these weighted sums through a *non*linear function; the first function we’ll try is the `sigmoid` function that was mentioned in Chapter 1. As a refresher, Figure 2-9 plots the `sigmoid` function."
   ]
  },
  {
   "cell_type": "code",
   "execution_count": 33,
   "metadata": {},
   "outputs": [],
   "source": [
    "def sigmoid(x: ndarray) -> ndarray:\n",
    "    return 1 / (1 + np.exp(-1.0 * x))"
   ]
  },
  {
   "cell_type": "code",
   "execution_count": 34,
   "metadata": {},
   "outputs": [
    {
     "data": {
      "image/png": "[encoded data removed]",
      "text/plain": [
       "<Figure size 432x288 with 1 Axes>"
      ]
     },
     "metadata": {
      "needs_background": "light"
     },
     "output_type": "display_data"
    }
   ],
   "source": [
    "plt.plot(np.arange(-5, 5, 0.01),\n",
    "         sigmoid(np.arange(-5, 5, 0.01)))\n",
    "plt.title(\"Sigmoid function plotted from x=-5 to x=5\")\n",
    "plt.xlabel(\"X\")\n",
    "plt.ylabel(\"$Sigmoid(x)$\")\n",
    "plt.savefig(os.path.join(GRAPHS_IMG_FILEPATH, \"05_sigmoid_function.png\"))"
   ]
  },
  {
   "cell_type": "markdown",
   "metadata": {},
   "source": [
    "<div align=\"center\"><i>Figure 2-9. Sigmoid function plotted from x = –5 to x = 5\n",
    "</i></div>"
   ]
  },
  {
   "cell_type": "markdown",
   "metadata": {},
   "source": [
    "Why is using this nonlinear function a good idea? Why not the `square` function $f(x) = x^2$, for example? There are a couple of reasons. First, we want the function we use here to be *monotonic* so that it “preserves” information about the numbers that were fed in. Let’s say that, given the date that was fed in, two of our linear regressions produced values of –3 and 3, respectively. Feeding these through the `square` function would then produce a value of 9 for each, so that any function that receives these numbers as inputs after they were fed through the `square` function would “lose” the information that one of them was originally –3 and the other was 3.\n",
    "\n",
    "The second reason, of course, is that the function is nonlinear; this nonlinearity will enable our neural network to model the inherently nonlinear relationship between the features and the target.\n",
    "\n",
    "Finally, the `sigmoid` function has the nice property that its derivative can be expressed in terms of the function itself:\n",
    "\n",
    "$$ \\frac{\\partial \\sigma}{\\partial u}(x) = \\sigma (x) \\times (1 - \\sigma (x)) $$\n",
    "\n",
    "We'll make use of this shortly when we use the `sigmoid` functions in the backward pass of neural network."
   ]
  },
  {
   "cell_type": "markdown",
   "metadata": {},
   "source": [
    "### ## Step 3: Another Linear Regression\n",
    "\n",
    "Finally, we’ll take the resulting 13 elements—each of which is a combination of the original features, fed through the `sigmoid` function so that they all have values between 0 and 1—and feed them into a regular linear regression, using them the same way we used our original features previously.\n",
    "\n",
    "Then, we’ll try training the *entire* resulting function in the same way we trained the standard linear regression earlier in this chapter: we’ll feed data through the model, use the chain rule to figure out how much increasing the weights would increase (or decrease) the loss, and then update the weights in the direction that decreases the loss at each iteration. Over time (we hope) we’ll end up with a more accurate model than before, one that has “learned” the inherent nonlinearity of the relationship between our features and our target.\n",
    "\n",
    "It might be tough to wrap your mind around what’s going on based on this description, so let’s look at an illustration."
   ]
  },
  {
   "cell_type": "markdown",
   "metadata": {},
   "source": [
    "### ## Digrams\n",
    "\n",
    "Figure 2-10 is a diagram of what our more complicated model now looks like.\n",
    "\n",
    "<div align=\"center\">\n",
    "    <img src=\"https://learning.oreilly.com/library/view/deep-learning-from/9781492041405/assets/dlfs_0210.png\" width=\"600px\"/>\n",
    "    <i>Figure 2-10. Steps 1–3 translated into a computational graph of the kind we saw in Chapter 1</i>\n",
    "</div>\n",
    "\n",
    "You'll see that we start with matrix multiplication and matrix addition, as before. Now let's formalize some terminology that was mentioned previously: when we apply these operations in the course of a nested function, we'll call the first matrix that we use to transform the input features the *weight* matrix, and we'll call the second matrix, the one that is added to each resulting set of features, the *bias*. That's ahy we'll denote these as $W_1$ and $B_1$.\n",
    "\n",
    "After applying these operations, we’ll feed the results through a sigmoid function and then repeat the process again with another set of weights and biases—now called $W_2$ and $B_2$—to get our final prediction, $P$."
   ]
  },
  {
   "cell_type": "markdown",
   "metadata": {},
   "source": [
    "### ## ANOTHER DIAGRAM\n",
    "\n",
    "Does repeating things in terms of these individual steps give you intuition for what is going on? This question gets at a key theme of this book: to fully understand neural networks, we have to see multiple representations, each one of which highlights a different aspect of how neural networks work. The representation in Figure 2-10 doesn’t give much intuition about the “structure” of the network, but it does indicate clearly how to train such a model: on the backward pass, we’ll compute the partial derivative of each constituent function, evaluated at the input to that function, and then calculate the gradients of the loss with respect to each of the weights by simply multiplying all of these derivatives together—just as we saw in the simple chain rule examples from Chapter 1.\n",
    "\n",
    "Nevertheless, there is another, more standard way to represent a neural network like this: we could represent each of our original features as circles. Since we have 13 features, we need 13 circles. Then we need 13 more circles to represent the 13 outputs of the “linear regression-sigmoid” operation we’re doing. In addition, each of these circles is a function of all 13 of our original features, so we’ll need lines connecting all of the first set of 13 circles to all of the second set.\n",
    "\n",
    "Finally, all of these 13 outputs are used to make a single final prediction, so we’ll draw one more circle to represent the final prediction and 13 lines showing that these “intermediate outputs” are “connected” to this final prediction.\n",
    "\n",
    "Figure 2-11 shows the final diagram.\n",
    "\n",
    "<div align=\"center\">\n",
    "    <img src=\"https://learning.oreilly.com/library/view/deep-learning-from/9781492041405/assets/dlfs_0211.png\" width=\"600px\"/>\n",
    "    <i>Figure 2-11. A more common (but in many ways less helpful) visual representation of a neural network</i>\n",
    "</div>\n",
    "\n",
    "If you’ve read anything about neural networks before, you may have seen them represented like the diagram in Figure 2-11: as circles with lines connecting them. While this representation does have some advantages—it lets you see “at a glance” what kind of neural network this is, how many layers it has, and so on—it doesn’t give any indication of the actual calculations involved, or of how such a network might be trained. Therefore, while this diagram is extremely important for you to see because you’ll see it in other places, it’s included here primarily so you can see the connection between it and the primary way we are representing neural networks: as boxes with lines *connecting* them, where each box represents a function that defines both what should happen on the forward pass for the model to make predictions and what should happen on the backward pass for the model to learn. We’ll see in the next chapter how to translate even more directly between these diagrams and code by coding each function as a Python class inheriting from a base `Operation` class—and speaking of code, let’s cover that next."
   ]
  },
  {
   "cell_type": "markdown",
   "metadata": {},
   "source": [
    "### ## Code\n",
    "\n",
    "In coding this up, we follow the same functions structure as in the simpler linear regression function earliear in the chater—taking in `weights` as a dictionary and returning both the loss value and the `forward_info` dictionary, while replacing the internals with the operations specified in Figure 2-10:"
   ]
  },
  {
   "cell_type": "code",
   "execution_count": 35,
   "metadata": {},
   "outputs": [],
   "source": [
    "def forward_loss(X: ndarray, \n",
    "                 y: ndarray,\n",
    "                 weights: Dict[str, ndarray]\n",
    "                ) -> Tuple[Dict[str, ndarray], float]:\n",
    "    '''\n",
    "    Compute the forward pass and the loss for the step-by-step\n",
    "    neural network.\n",
    "    '''\n",
    "    M1 = np.dot(X, weights['W1'])\n",
    "    N1 = M1 + weights['B1']\n",
    "    O1 = sigmoid(N1)\n",
    "    \n",
    "    M2 = np.dot(O1, weights['W2'])\n",
    "    \n",
    "    P = M2 + weights['B2']\n",
    "    \n",
    "    loss = np.mean(np.power(y - P, 2))\n",
    "    \n",
    "    forward_info: Dict[str, ndarray] = {}\n",
    "    forward_info['X'] = X\n",
    "    forward_info['M1'] = M1\n",
    "    forward_info['N1'] = N1\n",
    "    forward_info['O1'] = O1\n",
    "    forward_info['M2'] = M2\n",
    "    forward_info['P'] = P\n",
    "    forward_info['y'] = y\n",
    "    \n",
    "    return forward_info, loss"
   ]
  },
  {
   "cell_type": "markdown",
   "metadata": {},
   "source": [
    "Even though we’re now dealing with a more complicated diagram, we’re still just going step by step through each operation, doing the appropriate computation, and saving the results in `forward_info` as we go."
   ]
  },
  {
   "cell_type": "markdown",
   "metadata": {},
   "source": [
    "## # Neural Networks: The Backward Pass\n",
    "---\n",
    "\n",
    "The backward pass works the same way as in the simpler linear regression model from earlier in the chapterm just with more steps."
   ]
  },
  {
   "cell_type": "markdown",
   "metadata": {},
   "source": [
    "### ## DIAGRAM\n",
    "\n",
    "The steps, as a reminder, are:\n",
    "1. Compute the derivatice of each operation and evaluate it at its input.\n",
    "2. Multiply the results together.\n",
    "\n",
    "As we'll see yet again, this will work because of the chain rule. Figure 2-12 shows all the partial derivatives we have to compute.\n",
    "\n",
    "<div align=\"center\">\n",
    "    <img src=\"https://learning.oreilly.com/library/view/deep-learning-from/9781492041405/assets/dlfs_0212.png\" width=\"600px\"/>\n",
    "    <i>Figure 2-12. The partial derivatives associated with each operation in the neural network that will be multiplied together on the backward pass</i>\n",
    "</div>\n",
    "\n",
    "Conceptually, we want to compute all these partial derivatives, tracing backward through our function, and then multiply them together to get gradients of the loss with respect to each of the weights, just as we did for linear regression model."
   ]
  },
  {
   "cell_type": "markdown",
   "metadata": {},
   "source": [
    "### ## MATH (AND CODE)\n",
    "\n",
    "Table 2-1 lists these partial derivatives and the lines in the code that correspond to each one.\n",
    "\n",
    "*Table 2-1.Derivative table for neural network*\n",
    "\n",
    "| Derivative | Code |\n",
    "| :-: | :-: |\n",
    "| $\\frac{\\partial \\Lambda}{\\partial P}(P, y)$      | `dLdP = -(forward_info[y] - forward_info[P]` |\n",
    "| $\\frac{\\partial \\alpha}{\\partial M_2}(M_2, B_2)$ | `np.ones_like(forward_info[M2])` |\n",
    "| $\\frac{\\partial \\alpha}{\\partial B_2}M_2, B_2)$  | `np.ones_like(weights[B2])` |\n",
    "| $\\frac{\\partial v}{\\partial W_2}(O_1, W_2)$      | `dM2dW2 = np.transpose(forward_info[O1], (1, 0)` |\n",
    "| $\\frac{\\partial v}{\\partial O_1}(O_1, W_2)$      | `dM2dO1 = np.transpose(weights[W2], (1, 0))` |\n",
    "| $\\frac{\\partial \\sigma}{\\partial u}(N_1)$        | `dO1dN1 = sigmoid(forward_info[N1] × (1 - sigmoid(forward_info[N1]))` |\n",
    "| $\\frac{\\partial \\alpha}{\\partial M_1}(M_1, B_1)$ | `dN1dM1 = np.ones_like(forward_info[M1])` |\n",
    "| $\\frac{\\partial \\alpha}{\\partial B_1}(M_1, B_1)$ | `dN1dB1 = np.ones_like(weights[B1])` |\n",
    "| $\\frac{\\partial v}{\\partial W_1}(X, W_1)$        | `dM1dW1 = np.transpose(forward_info[X], (1, 0))` |"
   ]
  },
  {
   "cell_type": "markdown",
   "metadata": {},
   "source": [
    "---\n",
    "<h3 align=\"center\"><strong>NOTE</strong></h3>\n",
    "\n",
    "The expressions we compute for the gradient of the loss with respect to the bias terms, `dLdB1` and `dLdB2`, will have to be summed along the rows to account for the fact that the same bias element is added to each row in the batch of data passed through. See “Gradient of the Loss with Respect to the Bias Terms” for details.\n",
    "\n",
    "---"
   ]
  },
  {
   "cell_type": "code",
   "execution_count": null,
   "metadata": {},
   "outputs": [],
   "source": []
  }
 ],
 "metadata": {
  "kernelspec": {
   "display_name": "Python 3",
   "language": "python",
   "name": "python3"
  },
  "language_info": {
   "codemirror_mode": {
    "name": "ipython",
    "version": 3
   },
   "file_extension": ".py",
   "mimetype": "text/x-python",
   "name": "python",
   "nbconvert_exporter": "python",
   "pygments_lexer": "ipython3",
   "version": "3.7.5"
  }
 },
 "nbformat": 4,
 "nbformat_minor": 2
}
